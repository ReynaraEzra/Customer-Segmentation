{
 "cells": [
  {
   "cell_type": "markdown",
   "id": "b57a3720",
   "metadata": {},
   "source": [
    "# Customer Segmentation on Online Retail Data Using RFM Analysis \n",
    "## Reynara Ezra Pratama"
   ]
  },
  {
   "cell_type": "markdown",
   "id": "98c77755",
   "metadata": {},
   "source": [
    "## Background"
   ]
  },
  {
   "cell_type": "markdown",
   "id": "b5480085",
   "metadata": {},
   "source": [
    "Data retail online II berisi seluruh data transaksi retail non-toko yang berbasis di Inggris dan terdaftar yang terjadi pada tanggal 1 Desember 2009 s/d 9 Desember 2011. Perusahaan ini terutama menjual perlengkapan hadiah unik dan banyak pelanggan perusahaan adalah grosir. \n",
    "\n",
    "Dataset yang akan digunakan dalam melakukan *customer segmentation* dapat dilihat pada [link ini](https://www.kaggle.com/mathchi/online-retail-ii-data-set-from-ml-repository)"
   ]
  },
  {
   "cell_type": "markdown",
   "id": "3b310e37",
   "metadata": {},
   "source": [
    "## Business Understanding"
   ]
  },
  {
   "cell_type": "markdown",
   "id": "dd643551",
   "metadata": {},
   "source": [
    "1. Mendapatkan gambaran bisnis produk yang terjual pada tahun 2009-2010 dan 2010-2011.\n",
    "2. Melakukan segmentasi pada *Customer* untuk melihat karakteristiknya.\n",
    "3. Mengetahui rekomendasi yang dapat dilakukan setelah diketahui karakteristik *Customer*."
   ]
  },
  {
   "cell_type": "markdown",
   "id": "db35dbb9",
   "metadata": {},
   "source": [
    "## Data Understanding"
   ]
  },
  {
   "cell_type": "markdown",
   "id": "b4f8a53f",
   "metadata": {},
   "source": [
    "1. `Invoice` : Nomer invoice. 6 digit angka unik untuk setiap transaksi. Jika data diawali 'C', menandakan pembatalan.\n",
    "2. `StockCode` : Kode produk. 5 digit angka unik untuk setiap produk.\n",
    "3. `Description` : Penjelasan nama dari produk.\n",
    "4. `Quantity` : Jumlah produk setiap transaksi.\n",
    "5. `InvoiceDate` : Tanggal dan waktu dari Invoice.\n",
    "6. `Price` : Harga unit.\n",
    "7. `Customer ID` : Nomer *customer*. 5 digit angka untuk untuk setiap *customer*.\n",
    "8. `Country` : Negara dimana *customer* berada."
   ]
  },
  {
   "cell_type": "markdown",
   "id": "07b825fa",
   "metadata": {},
   "source": [
    "## Import Library"
   ]
  },
  {
   "cell_type": "code",
   "execution_count": 1,
   "id": "2135aba2",
   "metadata": {
    "ExecuteTime": {
     "end_time": "2021-09-21T08:59:36.982161Z",
     "start_time": "2021-09-21T08:59:22.575066Z"
    }
   },
   "outputs": [],
   "source": [
    "import pandas as pd\n",
    "import numpy as np\n",
    "import matplotlib.pyplot as plt\n",
    "from mpl_toolkits.mplot3d import Axes3D\n",
    "import seaborn as sns\n",
    "#sns.set_theme()\n",
    "\n",
    "import warnings\n",
    "warnings.filterwarnings(\"ignore\")\n",
    "\n",
    "from sklearn.preprocessing import StandardScaler\n",
    "from sklearn.cluster import KMeans"
   ]
  },
  {
   "cell_type": "markdown",
   "id": "1e5d53d1",
   "metadata": {},
   "source": [
    "## Loading Dataset"
   ]
  },
  {
   "cell_type": "markdown",
   "id": "599243ed",
   "metadata": {},
   "source": [
    "### Load Data From Github"
   ]
  },
  {
   "cell_type": "code",
   "execution_count": 2,
   "id": "602f747f",
   "metadata": {
    "ExecuteTime": {
     "end_time": "2021-09-21T08:59:36.988684Z",
     "start_time": "2021-09-21T08:59:36.985174Z"
    }
   },
   "outputs": [],
   "source": [
    "# data_2009_2010 = pd.read_csv('https://raw.githubusercontent.com/ReynaraEzra/Customer-Segmentation/main/data_input/Year%202009-2010.csv')\n",
    "# data_2010_2011 = pd.read_csv('https://raw.githubusercontent.com/ReynaraEzra/Customer-Segmentation/main/data_input/Year%202010-2011.csv')"
   ]
  },
  {
   "cell_type": "markdown",
   "id": "648f10a6",
   "metadata": {},
   "source": [
    "### Load Data From Local File"
   ]
  },
  {
   "cell_type": "code",
   "execution_count": 3,
   "id": "c30621f4",
   "metadata": {
    "ExecuteTime": {
     "end_time": "2021-09-21T08:59:38.996984Z",
     "start_time": "2021-09-21T08:59:36.991692Z"
    }
   },
   "outputs": [],
   "source": [
    "data_2009_2010 = pd.read_csv('data_input\\Year 2009-2010.csv', encoding='unicode_escape')\n",
    "data_2010_2011 = pd.read_csv('data_input\\Year 2010-2011.csv', encoding='unicode_escape')"
   ]
  },
  {
   "cell_type": "markdown",
   "id": "4b16459b",
   "metadata": {},
   "source": [
    "## Checking Dataset"
   ]
  },
  {
   "cell_type": "markdown",
   "id": "30d1201f",
   "metadata": {},
   "source": [
    "### Data 2009 - 2010"
   ]
  },
  {
   "cell_type": "code",
   "execution_count": 4,
   "id": "d0303155",
   "metadata": {
    "ExecuteTime": {
     "end_time": "2021-09-21T08:59:39.088005Z",
     "start_time": "2021-09-21T08:59:39.000347Z"
    }
   },
   "outputs": [
    {
     "data": {
      "text/html": [
       "<div>\n",
       "<style scoped>\n",
       "    .dataframe tbody tr th:only-of-type {\n",
       "        vertical-align: middle;\n",
       "    }\n",
       "\n",
       "    .dataframe tbody tr th {\n",
       "        vertical-align: top;\n",
       "    }\n",
       "\n",
       "    .dataframe thead th {\n",
       "        text-align: right;\n",
       "    }\n",
       "</style>\n",
       "<table border=\"1\" class=\"dataframe\">\n",
       "  <thead>\n",
       "    <tr style=\"text-align: right;\">\n",
       "      <th></th>\n",
       "      <th>Invoice</th>\n",
       "      <th>StockCode</th>\n",
       "      <th>Description</th>\n",
       "      <th>Quantity</th>\n",
       "      <th>InvoiceDate</th>\n",
       "      <th>Price</th>\n",
       "      <th>Customer ID</th>\n",
       "      <th>Country</th>\n",
       "    </tr>\n",
       "  </thead>\n",
       "  <tbody>\n",
       "    <tr>\n",
       "      <th>0</th>\n",
       "      <td>489434</td>\n",
       "      <td>85048</td>\n",
       "      <td>15CM CHRISTMAS GLASS BALL 20 LIGHTS</td>\n",
       "      <td>12</td>\n",
       "      <td>12/1/2009 7:45</td>\n",
       "      <td>6.95</td>\n",
       "      <td>13085.0</td>\n",
       "      <td>United Kingdom</td>\n",
       "    </tr>\n",
       "    <tr>\n",
       "      <th>1</th>\n",
       "      <td>489434</td>\n",
       "      <td>79323P</td>\n",
       "      <td>PINK CHERRY LIGHTS</td>\n",
       "      <td>12</td>\n",
       "      <td>12/1/2009 7:45</td>\n",
       "      <td>6.75</td>\n",
       "      <td>13085.0</td>\n",
       "      <td>United Kingdom</td>\n",
       "    </tr>\n",
       "    <tr>\n",
       "      <th>2</th>\n",
       "      <td>489434</td>\n",
       "      <td>79323W</td>\n",
       "      <td>WHITE CHERRY LIGHTS</td>\n",
       "      <td>12</td>\n",
       "      <td>12/1/2009 7:45</td>\n",
       "      <td>6.75</td>\n",
       "      <td>13085.0</td>\n",
       "      <td>United Kingdom</td>\n",
       "    </tr>\n",
       "    <tr>\n",
       "      <th>3</th>\n",
       "      <td>489434</td>\n",
       "      <td>22041</td>\n",
       "      <td>RECORD FRAME 7\" SINGLE SIZE</td>\n",
       "      <td>48</td>\n",
       "      <td>12/1/2009 7:45</td>\n",
       "      <td>2.10</td>\n",
       "      <td>13085.0</td>\n",
       "      <td>United Kingdom</td>\n",
       "    </tr>\n",
       "    <tr>\n",
       "      <th>4</th>\n",
       "      <td>489434</td>\n",
       "      <td>21232</td>\n",
       "      <td>STRAWBERRY CERAMIC TRINKET BOX</td>\n",
       "      <td>24</td>\n",
       "      <td>12/1/2009 7:45</td>\n",
       "      <td>1.25</td>\n",
       "      <td>13085.0</td>\n",
       "      <td>United Kingdom</td>\n",
       "    </tr>\n",
       "  </tbody>\n",
       "</table>\n",
       "</div>"
      ],
      "text/plain": [
       "  Invoice StockCode                          Description  Quantity  \\\n",
       "0  489434     85048  15CM CHRISTMAS GLASS BALL 20 LIGHTS        12   \n",
       "1  489434    79323P                   PINK CHERRY LIGHTS        12   \n",
       "2  489434    79323W                  WHITE CHERRY LIGHTS        12   \n",
       "3  489434     22041         RECORD FRAME 7\" SINGLE SIZE         48   \n",
       "4  489434     21232       STRAWBERRY CERAMIC TRINKET BOX        24   \n",
       "\n",
       "      InvoiceDate  Price  Customer ID         Country  \n",
       "0  12/1/2009 7:45   6.95      13085.0  United Kingdom  \n",
       "1  12/1/2009 7:45   6.75      13085.0  United Kingdom  \n",
       "2  12/1/2009 7:45   6.75      13085.0  United Kingdom  \n",
       "3  12/1/2009 7:45   2.10      13085.0  United Kingdom  \n",
       "4  12/1/2009 7:45   1.25      13085.0  United Kingdom  "
      ]
     },
     "execution_count": 4,
     "metadata": {},
     "output_type": "execute_result"
    }
   ],
   "source": [
    "data_2009_2010.head()"
   ]
  },
  {
   "cell_type": "code",
   "execution_count": 5,
   "id": "3bdb0b40",
   "metadata": {
    "ExecuteTime": {
     "end_time": "2021-09-21T08:59:39.169721Z",
     "start_time": "2021-09-21T08:59:39.091012Z"
    }
   },
   "outputs": [
    {
     "data": {
      "text/html": [
       "<div>\n",
       "<style scoped>\n",
       "    .dataframe tbody tr th:only-of-type {\n",
       "        vertical-align: middle;\n",
       "    }\n",
       "\n",
       "    .dataframe tbody tr th {\n",
       "        vertical-align: top;\n",
       "    }\n",
       "\n",
       "    .dataframe thead th {\n",
       "        text-align: right;\n",
       "    }\n",
       "</style>\n",
       "<table border=\"1\" class=\"dataframe\">\n",
       "  <thead>\n",
       "    <tr style=\"text-align: right;\">\n",
       "      <th></th>\n",
       "      <th>Invoice</th>\n",
       "      <th>StockCode</th>\n",
       "      <th>Description</th>\n",
       "      <th>Quantity</th>\n",
       "      <th>InvoiceDate</th>\n",
       "      <th>Price</th>\n",
       "      <th>Customer ID</th>\n",
       "      <th>Country</th>\n",
       "    </tr>\n",
       "  </thead>\n",
       "  <tbody>\n",
       "    <tr>\n",
       "      <th>525456</th>\n",
       "      <td>538171</td>\n",
       "      <td>22271</td>\n",
       "      <td>FELTCRAFT DOLL ROSIE</td>\n",
       "      <td>2</td>\n",
       "      <td>12/9/2010 20:01</td>\n",
       "      <td>2.95</td>\n",
       "      <td>17530.0</td>\n",
       "      <td>United Kingdom</td>\n",
       "    </tr>\n",
       "    <tr>\n",
       "      <th>525457</th>\n",
       "      <td>538171</td>\n",
       "      <td>22750</td>\n",
       "      <td>FELTCRAFT PRINCESS LOLA DOLL</td>\n",
       "      <td>1</td>\n",
       "      <td>12/9/2010 20:01</td>\n",
       "      <td>3.75</td>\n",
       "      <td>17530.0</td>\n",
       "      <td>United Kingdom</td>\n",
       "    </tr>\n",
       "    <tr>\n",
       "      <th>525458</th>\n",
       "      <td>538171</td>\n",
       "      <td>22751</td>\n",
       "      <td>FELTCRAFT PRINCESS OLIVIA DOLL</td>\n",
       "      <td>1</td>\n",
       "      <td>12/9/2010 20:01</td>\n",
       "      <td>3.75</td>\n",
       "      <td>17530.0</td>\n",
       "      <td>United Kingdom</td>\n",
       "    </tr>\n",
       "    <tr>\n",
       "      <th>525459</th>\n",
       "      <td>538171</td>\n",
       "      <td>20970</td>\n",
       "      <td>PINK FLORAL FELTCRAFT SHOULDER BAG</td>\n",
       "      <td>2</td>\n",
       "      <td>12/9/2010 20:01</td>\n",
       "      <td>3.75</td>\n",
       "      <td>17530.0</td>\n",
       "      <td>United Kingdom</td>\n",
       "    </tr>\n",
       "    <tr>\n",
       "      <th>525460</th>\n",
       "      <td>538171</td>\n",
       "      <td>21931</td>\n",
       "      <td>JUMBO STORAGE BAG SUKI</td>\n",
       "      <td>2</td>\n",
       "      <td>12/9/2010 20:01</td>\n",
       "      <td>1.95</td>\n",
       "      <td>17530.0</td>\n",
       "      <td>United Kingdom</td>\n",
       "    </tr>\n",
       "  </tbody>\n",
       "</table>\n",
       "</div>"
      ],
      "text/plain": [
       "       Invoice StockCode                         Description  Quantity  \\\n",
       "525456  538171     22271                FELTCRAFT DOLL ROSIE         2   \n",
       "525457  538171     22750        FELTCRAFT PRINCESS LOLA DOLL         1   \n",
       "525458  538171     22751      FELTCRAFT PRINCESS OLIVIA DOLL         1   \n",
       "525459  538171     20970  PINK FLORAL FELTCRAFT SHOULDER BAG         2   \n",
       "525460  538171     21931              JUMBO STORAGE BAG SUKI         2   \n",
       "\n",
       "            InvoiceDate  Price  Customer ID         Country  \n",
       "525456  12/9/2010 20:01   2.95      17530.0  United Kingdom  \n",
       "525457  12/9/2010 20:01   3.75      17530.0  United Kingdom  \n",
       "525458  12/9/2010 20:01   3.75      17530.0  United Kingdom  \n",
       "525459  12/9/2010 20:01   3.75      17530.0  United Kingdom  \n",
       "525460  12/9/2010 20:01   1.95      17530.0  United Kingdom  "
      ]
     },
     "execution_count": 5,
     "metadata": {},
     "output_type": "execute_result"
    }
   ],
   "source": [
    "data_2009_2010.tail()"
   ]
  },
  {
   "cell_type": "code",
   "execution_count": 6,
   "id": "8b9e5ee0",
   "metadata": {
    "ExecuteTime": {
     "end_time": "2021-09-21T08:59:39.300569Z",
     "start_time": "2021-09-21T08:59:39.172732Z"
    }
   },
   "outputs": [
    {
     "data": {
      "text/html": [
       "<div>\n",
       "<style scoped>\n",
       "    .dataframe tbody tr th:only-of-type {\n",
       "        vertical-align: middle;\n",
       "    }\n",
       "\n",
       "    .dataframe tbody tr th {\n",
       "        vertical-align: top;\n",
       "    }\n",
       "\n",
       "    .dataframe thead th {\n",
       "        text-align: right;\n",
       "    }\n",
       "</style>\n",
       "<table border=\"1\" class=\"dataframe\">\n",
       "  <thead>\n",
       "    <tr style=\"text-align: right;\">\n",
       "      <th></th>\n",
       "      <th>Invoice</th>\n",
       "      <th>StockCode</th>\n",
       "      <th>Description</th>\n",
       "      <th>Quantity</th>\n",
       "      <th>InvoiceDate</th>\n",
       "      <th>Price</th>\n",
       "      <th>Customer ID</th>\n",
       "      <th>Country</th>\n",
       "    </tr>\n",
       "  </thead>\n",
       "  <tbody>\n",
       "    <tr>\n",
       "      <th>489520</th>\n",
       "      <td>535271</td>\n",
       "      <td>72807C</td>\n",
       "      <td>SET/3 VANILLA SCENTED CANDLE IN BOX</td>\n",
       "      <td>2</td>\n",
       "      <td>11/25/2010 13:42</td>\n",
       "      <td>4.25</td>\n",
       "      <td>15967.0</td>\n",
       "      <td>United Kingdom</td>\n",
       "    </tr>\n",
       "    <tr>\n",
       "      <th>173559</th>\n",
       "      <td>505843</td>\n",
       "      <td>35004C</td>\n",
       "      <td>SET OF 3 COLOURED  FLYING DUCKS</td>\n",
       "      <td>3</td>\n",
       "      <td>4/26/2010 11:57</td>\n",
       "      <td>12.72</td>\n",
       "      <td>NaN</td>\n",
       "      <td>United Kingdom</td>\n",
       "    </tr>\n",
       "    <tr>\n",
       "      <th>274529</th>\n",
       "      <td>516116</td>\n",
       "      <td>22353</td>\n",
       "      <td>LUNCH BOX WITH CUTLERY FAIRY CAKES</td>\n",
       "      <td>3</td>\n",
       "      <td>7/16/2010 14:23</td>\n",
       "      <td>2.55</td>\n",
       "      <td>15452.0</td>\n",
       "      <td>United Kingdom</td>\n",
       "    </tr>\n",
       "    <tr>\n",
       "      <th>39745</th>\n",
       "      <td>492742</td>\n",
       "      <td>21768</td>\n",
       "      <td>WALL MOUNTED VINTAGE ORGANISER</td>\n",
       "      <td>1</td>\n",
       "      <td>12/18/2009 12:33</td>\n",
       "      <td>14.95</td>\n",
       "      <td>12455.0</td>\n",
       "      <td>Cyprus</td>\n",
       "    </tr>\n",
       "    <tr>\n",
       "      <th>460815</th>\n",
       "      <td>532990</td>\n",
       "      <td>22171</td>\n",
       "      <td>3 HOOK PHOTO SHELF ANTIQUE WHITE</td>\n",
       "      <td>1</td>\n",
       "      <td>11/15/2010 14:11</td>\n",
       "      <td>8.50</td>\n",
       "      <td>17106.0</td>\n",
       "      <td>United Kingdom</td>\n",
       "    </tr>\n",
       "  </tbody>\n",
       "</table>\n",
       "</div>"
      ],
      "text/plain": [
       "       Invoice StockCode                          Description  Quantity  \\\n",
       "489520  535271    72807C  SET/3 VANILLA SCENTED CANDLE IN BOX         2   \n",
       "173559  505843    35004C      SET OF 3 COLOURED  FLYING DUCKS         3   \n",
       "274529  516116     22353  LUNCH BOX WITH CUTLERY FAIRY CAKES          3   \n",
       "39745   492742     21768       WALL MOUNTED VINTAGE ORGANISER         1   \n",
       "460815  532990     22171     3 HOOK PHOTO SHELF ANTIQUE WHITE         1   \n",
       "\n",
       "             InvoiceDate  Price  Customer ID         Country  \n",
       "489520  11/25/2010 13:42   4.25      15967.0  United Kingdom  \n",
       "173559   4/26/2010 11:57  12.72          NaN  United Kingdom  \n",
       "274529   7/16/2010 14:23   2.55      15452.0  United Kingdom  \n",
       "39745   12/18/2009 12:33  14.95      12455.0          Cyprus  \n",
       "460815  11/15/2010 14:11   8.50      17106.0  United Kingdom  "
      ]
     },
     "execution_count": 6,
     "metadata": {},
     "output_type": "execute_result"
    }
   ],
   "source": [
    "data_2009_2010.sample(5)"
   ]
  },
  {
   "cell_type": "markdown",
   "id": "dafe5cf5",
   "metadata": {},
   "source": [
    "### Data 2010 - 2011"
   ]
  },
  {
   "cell_type": "code",
   "execution_count": 7,
   "id": "c63d740c",
   "metadata": {
    "ExecuteTime": {
     "end_time": "2021-09-21T08:59:39.378275Z",
     "start_time": "2021-09-21T08:59:39.303076Z"
    }
   },
   "outputs": [
    {
     "data": {
      "text/html": [
       "<div>\n",
       "<style scoped>\n",
       "    .dataframe tbody tr th:only-of-type {\n",
       "        vertical-align: middle;\n",
       "    }\n",
       "\n",
       "    .dataframe tbody tr th {\n",
       "        vertical-align: top;\n",
       "    }\n",
       "\n",
       "    .dataframe thead th {\n",
       "        text-align: right;\n",
       "    }\n",
       "</style>\n",
       "<table border=\"1\" class=\"dataframe\">\n",
       "  <thead>\n",
       "    <tr style=\"text-align: right;\">\n",
       "      <th></th>\n",
       "      <th>Invoice</th>\n",
       "      <th>StockCode</th>\n",
       "      <th>Description</th>\n",
       "      <th>Quantity</th>\n",
       "      <th>InvoiceDate</th>\n",
       "      <th>Price</th>\n",
       "      <th>Customer ID</th>\n",
       "      <th>Country</th>\n",
       "    </tr>\n",
       "  </thead>\n",
       "  <tbody>\n",
       "    <tr>\n",
       "      <th>0</th>\n",
       "      <td>536365</td>\n",
       "      <td>85123A</td>\n",
       "      <td>WHITE HANGING HEART T-LIGHT HOLDER</td>\n",
       "      <td>6</td>\n",
       "      <td>12/1/2010 8:26</td>\n",
       "      <td>2.55</td>\n",
       "      <td>17850.0</td>\n",
       "      <td>United Kingdom</td>\n",
       "    </tr>\n",
       "    <tr>\n",
       "      <th>1</th>\n",
       "      <td>536365</td>\n",
       "      <td>71053</td>\n",
       "      <td>WHITE METAL LANTERN</td>\n",
       "      <td>6</td>\n",
       "      <td>12/1/2010 8:26</td>\n",
       "      <td>3.39</td>\n",
       "      <td>17850.0</td>\n",
       "      <td>United Kingdom</td>\n",
       "    </tr>\n",
       "    <tr>\n",
       "      <th>2</th>\n",
       "      <td>536365</td>\n",
       "      <td>84406B</td>\n",
       "      <td>CREAM CUPID HEARTS COAT HANGER</td>\n",
       "      <td>8</td>\n",
       "      <td>12/1/2010 8:26</td>\n",
       "      <td>2.75</td>\n",
       "      <td>17850.0</td>\n",
       "      <td>United Kingdom</td>\n",
       "    </tr>\n",
       "    <tr>\n",
       "      <th>3</th>\n",
       "      <td>536365</td>\n",
       "      <td>84029G</td>\n",
       "      <td>KNITTED UNION FLAG HOT WATER BOTTLE</td>\n",
       "      <td>6</td>\n",
       "      <td>12/1/2010 8:26</td>\n",
       "      <td>3.39</td>\n",
       "      <td>17850.0</td>\n",
       "      <td>United Kingdom</td>\n",
       "    </tr>\n",
       "    <tr>\n",
       "      <th>4</th>\n",
       "      <td>536365</td>\n",
       "      <td>84029E</td>\n",
       "      <td>RED WOOLLY HOTTIE WHITE HEART.</td>\n",
       "      <td>6</td>\n",
       "      <td>12/1/2010 8:26</td>\n",
       "      <td>3.39</td>\n",
       "      <td>17850.0</td>\n",
       "      <td>United Kingdom</td>\n",
       "    </tr>\n",
       "  </tbody>\n",
       "</table>\n",
       "</div>"
      ],
      "text/plain": [
       "  Invoice StockCode                          Description  Quantity  \\\n",
       "0  536365    85123A   WHITE HANGING HEART T-LIGHT HOLDER         6   \n",
       "1  536365     71053                  WHITE METAL LANTERN         6   \n",
       "2  536365    84406B       CREAM CUPID HEARTS COAT HANGER         8   \n",
       "3  536365    84029G  KNITTED UNION FLAG HOT WATER BOTTLE         6   \n",
       "4  536365    84029E       RED WOOLLY HOTTIE WHITE HEART.         6   \n",
       "\n",
       "      InvoiceDate  Price  Customer ID         Country  \n",
       "0  12/1/2010 8:26   2.55      17850.0  United Kingdom  \n",
       "1  12/1/2010 8:26   3.39      17850.0  United Kingdom  \n",
       "2  12/1/2010 8:26   2.75      17850.0  United Kingdom  \n",
       "3  12/1/2010 8:26   3.39      17850.0  United Kingdom  \n",
       "4  12/1/2010 8:26   3.39      17850.0  United Kingdom  "
      ]
     },
     "execution_count": 7,
     "metadata": {},
     "output_type": "execute_result"
    }
   ],
   "source": [
    "data_2010_2011.head()"
   ]
  },
  {
   "cell_type": "code",
   "execution_count": 8,
   "id": "d1503755",
   "metadata": {
    "ExecuteTime": {
     "end_time": "2021-09-21T08:59:39.469017Z",
     "start_time": "2021-09-21T08:59:39.380281Z"
    }
   },
   "outputs": [
    {
     "data": {
      "text/html": [
       "<div>\n",
       "<style scoped>\n",
       "    .dataframe tbody tr th:only-of-type {\n",
       "        vertical-align: middle;\n",
       "    }\n",
       "\n",
       "    .dataframe tbody tr th {\n",
       "        vertical-align: top;\n",
       "    }\n",
       "\n",
       "    .dataframe thead th {\n",
       "        text-align: right;\n",
       "    }\n",
       "</style>\n",
       "<table border=\"1\" class=\"dataframe\">\n",
       "  <thead>\n",
       "    <tr style=\"text-align: right;\">\n",
       "      <th></th>\n",
       "      <th>Invoice</th>\n",
       "      <th>StockCode</th>\n",
       "      <th>Description</th>\n",
       "      <th>Quantity</th>\n",
       "      <th>InvoiceDate</th>\n",
       "      <th>Price</th>\n",
       "      <th>Customer ID</th>\n",
       "      <th>Country</th>\n",
       "    </tr>\n",
       "  </thead>\n",
       "  <tbody>\n",
       "    <tr>\n",
       "      <th>541905</th>\n",
       "      <td>581587</td>\n",
       "      <td>22899</td>\n",
       "      <td>CHILDREN'S APRON DOLLY GIRL</td>\n",
       "      <td>6</td>\n",
       "      <td>12/9/2011 12:50</td>\n",
       "      <td>2.10</td>\n",
       "      <td>12680.0</td>\n",
       "      <td>France</td>\n",
       "    </tr>\n",
       "    <tr>\n",
       "      <th>541906</th>\n",
       "      <td>581587</td>\n",
       "      <td>23254</td>\n",
       "      <td>CHILDRENS CUTLERY DOLLY GIRL</td>\n",
       "      <td>4</td>\n",
       "      <td>12/9/2011 12:50</td>\n",
       "      <td>4.15</td>\n",
       "      <td>12680.0</td>\n",
       "      <td>France</td>\n",
       "    </tr>\n",
       "    <tr>\n",
       "      <th>541907</th>\n",
       "      <td>581587</td>\n",
       "      <td>23255</td>\n",
       "      <td>CHILDRENS CUTLERY CIRCUS PARADE</td>\n",
       "      <td>4</td>\n",
       "      <td>12/9/2011 12:50</td>\n",
       "      <td>4.15</td>\n",
       "      <td>12680.0</td>\n",
       "      <td>France</td>\n",
       "    </tr>\n",
       "    <tr>\n",
       "      <th>541908</th>\n",
       "      <td>581587</td>\n",
       "      <td>22138</td>\n",
       "      <td>BAKING SET 9 PIECE RETROSPOT</td>\n",
       "      <td>3</td>\n",
       "      <td>12/9/2011 12:50</td>\n",
       "      <td>4.95</td>\n",
       "      <td>12680.0</td>\n",
       "      <td>France</td>\n",
       "    </tr>\n",
       "    <tr>\n",
       "      <th>541909</th>\n",
       "      <td>581587</td>\n",
       "      <td>POST</td>\n",
       "      <td>POSTAGE</td>\n",
       "      <td>1</td>\n",
       "      <td>12/9/2011 12:50</td>\n",
       "      <td>18.00</td>\n",
       "      <td>12680.0</td>\n",
       "      <td>France</td>\n",
       "    </tr>\n",
       "  </tbody>\n",
       "</table>\n",
       "</div>"
      ],
      "text/plain": [
       "       Invoice StockCode                      Description  Quantity  \\\n",
       "541905  581587     22899     CHILDREN'S APRON DOLLY GIRL          6   \n",
       "541906  581587     23254    CHILDRENS CUTLERY DOLLY GIRL          4   \n",
       "541907  581587     23255  CHILDRENS CUTLERY CIRCUS PARADE         4   \n",
       "541908  581587     22138    BAKING SET 9 PIECE RETROSPOT          3   \n",
       "541909  581587      POST                          POSTAGE         1   \n",
       "\n",
       "            InvoiceDate  Price  Customer ID Country  \n",
       "541905  12/9/2011 12:50   2.10      12680.0  France  \n",
       "541906  12/9/2011 12:50   4.15      12680.0  France  \n",
       "541907  12/9/2011 12:50   4.15      12680.0  France  \n",
       "541908  12/9/2011 12:50   4.95      12680.0  France  \n",
       "541909  12/9/2011 12:50  18.00      12680.0  France  "
      ]
     },
     "execution_count": 8,
     "metadata": {},
     "output_type": "execute_result"
    }
   ],
   "source": [
    "data_2010_2011.tail()"
   ]
  },
  {
   "cell_type": "code",
   "execution_count": 9,
   "id": "4ab0638c",
   "metadata": {
    "ExecuteTime": {
     "end_time": "2021-09-21T08:59:39.579595Z",
     "start_time": "2021-09-21T08:59:39.472025Z"
    }
   },
   "outputs": [
    {
     "data": {
      "text/html": [
       "<div>\n",
       "<style scoped>\n",
       "    .dataframe tbody tr th:only-of-type {\n",
       "        vertical-align: middle;\n",
       "    }\n",
       "\n",
       "    .dataframe tbody tr th {\n",
       "        vertical-align: top;\n",
       "    }\n",
       "\n",
       "    .dataframe thead th {\n",
       "        text-align: right;\n",
       "    }\n",
       "</style>\n",
       "<table border=\"1\" class=\"dataframe\">\n",
       "  <thead>\n",
       "    <tr style=\"text-align: right;\">\n",
       "      <th></th>\n",
       "      <th>Invoice</th>\n",
       "      <th>StockCode</th>\n",
       "      <th>Description</th>\n",
       "      <th>Quantity</th>\n",
       "      <th>InvoiceDate</th>\n",
       "      <th>Price</th>\n",
       "      <th>Customer ID</th>\n",
       "      <th>Country</th>\n",
       "    </tr>\n",
       "  </thead>\n",
       "  <tbody>\n",
       "    <tr>\n",
       "      <th>35892</th>\n",
       "      <td>539437</td>\n",
       "      <td>22457</td>\n",
       "      <td>NATURAL SLATE HEART CHALKBOARD</td>\n",
       "      <td>8</td>\n",
       "      <td>12/17/2010 14:54</td>\n",
       "      <td>5.91</td>\n",
       "      <td>NaN</td>\n",
       "      <td>United Kingdom</td>\n",
       "    </tr>\n",
       "    <tr>\n",
       "      <th>220290</th>\n",
       "      <td>556181</td>\n",
       "      <td>47503A</td>\n",
       "      <td>ASS FLORAL PRINT MULTI SCREWDRIVER</td>\n",
       "      <td>12</td>\n",
       "      <td>6/9/2011 11:32</td>\n",
       "      <td>1.25</td>\n",
       "      <td>15407.0</td>\n",
       "      <td>United Kingdom</td>\n",
       "    </tr>\n",
       "    <tr>\n",
       "      <th>392974</th>\n",
       "      <td>570784</td>\n",
       "      <td>21154</td>\n",
       "      <td>RED RETROSPOT OVEN GLOVE</td>\n",
       "      <td>10</td>\n",
       "      <td>10/12/2011 11:49</td>\n",
       "      <td>1.25</td>\n",
       "      <td>12569.0</td>\n",
       "      <td>Germany</td>\n",
       "    </tr>\n",
       "    <tr>\n",
       "      <th>273636</th>\n",
       "      <td>560853</td>\n",
       "      <td>22041</td>\n",
       "      <td>RECORD FRAME 7\" SINGLE SIZE</td>\n",
       "      <td>1</td>\n",
       "      <td>7/21/2011 12:33</td>\n",
       "      <td>2.55</td>\n",
       "      <td>15311.0</td>\n",
       "      <td>United Kingdom</td>\n",
       "    </tr>\n",
       "    <tr>\n",
       "      <th>516882</th>\n",
       "      <td>579991</td>\n",
       "      <td>21136</td>\n",
       "      <td>PAINTED METAL PEARS ASSORTED</td>\n",
       "      <td>8</td>\n",
       "      <td>12/1/2011 11:20</td>\n",
       "      <td>1.69</td>\n",
       "      <td>13159.0</td>\n",
       "      <td>United Kingdom</td>\n",
       "    </tr>\n",
       "  </tbody>\n",
       "</table>\n",
       "</div>"
      ],
      "text/plain": [
       "       Invoice StockCode                         Description  Quantity  \\\n",
       "35892   539437     22457     NATURAL SLATE HEART CHALKBOARD          8   \n",
       "220290  556181    47503A  ASS FLORAL PRINT MULTI SCREWDRIVER        12   \n",
       "392974  570784     21154           RED RETROSPOT OVEN GLOVE         10   \n",
       "273636  560853     22041        RECORD FRAME 7\" SINGLE SIZE          1   \n",
       "516882  579991     21136        PAINTED METAL PEARS ASSORTED         8   \n",
       "\n",
       "             InvoiceDate  Price  Customer ID         Country  \n",
       "35892   12/17/2010 14:54   5.91          NaN  United Kingdom  \n",
       "220290    6/9/2011 11:32   1.25      15407.0  United Kingdom  \n",
       "392974  10/12/2011 11:49   1.25      12569.0         Germany  \n",
       "273636   7/21/2011 12:33   2.55      15311.0  United Kingdom  \n",
       "516882   12/1/2011 11:20   1.69      13159.0  United Kingdom  "
      ]
     },
     "execution_count": 9,
     "metadata": {},
     "output_type": "execute_result"
    }
   ],
   "source": [
    "data_2010_2011.sample(5)"
   ]
  },
  {
   "cell_type": "markdown",
   "id": "5d89847e",
   "metadata": {},
   "source": [
    "## Customer Segmentation on Data Des 2009 - Nov 2010"
   ]
  },
  {
   "cell_type": "code",
   "execution_count": 10,
   "id": "d96be285",
   "metadata": {
    "ExecuteTime": {
     "end_time": "2021-09-21T08:59:39.666325Z",
     "start_time": "2021-09-21T08:59:39.584110Z"
    }
   },
   "outputs": [],
   "source": [
    "df1 = data_2009_2010.copy()"
   ]
  },
  {
   "cell_type": "markdown",
   "id": "7e0dd520",
   "metadata": {},
   "source": [
    "### Check Characteristic Data"
   ]
  },
  {
   "cell_type": "markdown",
   "id": "7d37322b",
   "metadata": {},
   "source": [
    "**Data Shape**"
   ]
  },
  {
   "cell_type": "markdown",
   "id": "237f6f37",
   "metadata": {},
   "source": [
    "Kita akan mengecek ukuran dari data tahun 2009-2010 menggunakan atribut `.shape`"
   ]
  },
  {
   "cell_type": "code",
   "execution_count": 11,
   "id": "e676b35d",
   "metadata": {
    "ExecuteTime": {
     "end_time": "2021-09-21T08:59:39.749547Z",
     "start_time": "2021-09-21T08:59:39.668330Z"
    }
   },
   "outputs": [
    {
     "data": {
      "text/plain": [
       "(525461, 8)"
      ]
     },
     "execution_count": 11,
     "metadata": {},
     "output_type": "execute_result"
    }
   ],
   "source": [
    "df1.shape"
   ]
  },
  {
   "cell_type": "markdown",
   "id": "d57db2d7",
   "metadata": {},
   "source": [
    "Terlihat data transaksi pada tahun 2009-2010 sejumlah 525461 baris dengan 8 buah kolom."
   ]
  },
  {
   "cell_type": "markdown",
   "id": "b6113fdb",
   "metadata": {},
   "source": [
    "**Data Columns**"
   ]
  },
  {
   "cell_type": "code",
   "execution_count": 12,
   "id": "ade898bb",
   "metadata": {
    "ExecuteTime": {
     "end_time": "2021-09-21T08:59:39.839285Z",
     "start_time": "2021-09-21T08:59:39.752053Z"
    }
   },
   "outputs": [
    {
     "data": {
      "text/plain": [
       "Index(['Invoice', 'StockCode', 'Description', 'Quantity', 'InvoiceDate',\n",
       "       'Price', 'Customer ID', 'Country'],\n",
       "      dtype='object')"
      ]
     },
     "execution_count": 12,
     "metadata": {},
     "output_type": "execute_result"
    }
   ],
   "source": [
    "df1.columns"
   ]
  },
  {
   "cell_type": "markdown",
   "id": "02976f4c",
   "metadata": {
    "ExecuteTime": {
     "end_time": "2021-09-19T12:00:26.615340Z",
     "start_time": "2021-09-19T12:00:26.611331Z"
    }
   },
   "source": [
    "**Data Info**"
   ]
  },
  {
   "cell_type": "code",
   "execution_count": 13,
   "id": "bd28fa49",
   "metadata": {
    "ExecuteTime": {
     "end_time": "2021-09-21T08:59:40.068434Z",
     "start_time": "2021-09-21T08:59:39.841291Z"
    }
   },
   "outputs": [
    {
     "name": "stdout",
     "output_type": "stream",
     "text": [
      "<class 'pandas.core.frame.DataFrame'>\n",
      "RangeIndex: 525461 entries, 0 to 525460\n",
      "Data columns (total 8 columns):\n",
      " #   Column       Non-Null Count   Dtype  \n",
      "---  ------       --------------   -----  \n",
      " 0   Invoice      525461 non-null  object \n",
      " 1   StockCode    525461 non-null  object \n",
      " 2   Description  522533 non-null  object \n",
      " 3   Quantity     525461 non-null  int64  \n",
      " 4   InvoiceDate  525461 non-null  object \n",
      " 5   Price        525461 non-null  float64\n",
      " 6   Customer ID  417534 non-null  float64\n",
      " 7   Country      525461 non-null  object \n",
      "dtypes: float64(2), int64(1), object(5)\n",
      "memory usage: 32.1+ MB\n"
     ]
    }
   ],
   "source": [
    "df1.info()"
   ]
  },
  {
   "cell_type": "markdown",
   "id": "8d667e8a",
   "metadata": {},
   "source": [
    "Terdapat data yang kosong pada kolom tertentu saat dicek menggunakan metode `.info()`. Untuk data yang kita punya, diperoleh 2 kolom dengan tipe data *float*, 1 kolom dengan tipe data *integer*, dan 5 kolom dengan tipe data *object*."
   ]
  },
  {
   "cell_type": "markdown",
   "id": "e35f184f",
   "metadata": {},
   "source": [
    "**Descriptive Statistic**"
   ]
  },
  {
   "cell_type": "code",
   "execution_count": 14,
   "id": "b1b7b602",
   "metadata": {
    "ExecuteTime": {
     "end_time": "2021-09-21T08:59:40.196737Z",
     "start_time": "2021-09-21T08:59:40.071403Z"
    }
   },
   "outputs": [
    {
     "data": {
      "text/html": [
       "<div>\n",
       "<style scoped>\n",
       "    .dataframe tbody tr th:only-of-type {\n",
       "        vertical-align: middle;\n",
       "    }\n",
       "\n",
       "    .dataframe tbody tr th {\n",
       "        vertical-align: top;\n",
       "    }\n",
       "\n",
       "    .dataframe thead th {\n",
       "        text-align: right;\n",
       "    }\n",
       "</style>\n",
       "<table border=\"1\" class=\"dataframe\">\n",
       "  <thead>\n",
       "    <tr style=\"text-align: right;\">\n",
       "      <th></th>\n",
       "      <th>Quantity</th>\n",
       "      <th>Price</th>\n",
       "      <th>Customer ID</th>\n",
       "    </tr>\n",
       "  </thead>\n",
       "  <tbody>\n",
       "    <tr>\n",
       "      <th>count</th>\n",
       "      <td>525461.000000</td>\n",
       "      <td>525461.000000</td>\n",
       "      <td>417534.000000</td>\n",
       "    </tr>\n",
       "    <tr>\n",
       "      <th>mean</th>\n",
       "      <td>10.337667</td>\n",
       "      <td>4.688834</td>\n",
       "      <td>15360.645478</td>\n",
       "    </tr>\n",
       "    <tr>\n",
       "      <th>std</th>\n",
       "      <td>107.424110</td>\n",
       "      <td>146.126914</td>\n",
       "      <td>1680.811316</td>\n",
       "    </tr>\n",
       "    <tr>\n",
       "      <th>min</th>\n",
       "      <td>-9600.000000</td>\n",
       "      <td>-53594.360000</td>\n",
       "      <td>12346.000000</td>\n",
       "    </tr>\n",
       "    <tr>\n",
       "      <th>25%</th>\n",
       "      <td>1.000000</td>\n",
       "      <td>1.250000</td>\n",
       "      <td>13983.000000</td>\n",
       "    </tr>\n",
       "    <tr>\n",
       "      <th>50%</th>\n",
       "      <td>3.000000</td>\n",
       "      <td>2.100000</td>\n",
       "      <td>15311.000000</td>\n",
       "    </tr>\n",
       "    <tr>\n",
       "      <th>75%</th>\n",
       "      <td>10.000000</td>\n",
       "      <td>4.210000</td>\n",
       "      <td>16799.000000</td>\n",
       "    </tr>\n",
       "    <tr>\n",
       "      <th>max</th>\n",
       "      <td>19152.000000</td>\n",
       "      <td>25111.090000</td>\n",
       "      <td>18287.000000</td>\n",
       "    </tr>\n",
       "  </tbody>\n",
       "</table>\n",
       "</div>"
      ],
      "text/plain": [
       "            Quantity          Price    Customer ID\n",
       "count  525461.000000  525461.000000  417534.000000\n",
       "mean       10.337667       4.688834   15360.645478\n",
       "std       107.424110     146.126914    1680.811316\n",
       "min     -9600.000000  -53594.360000   12346.000000\n",
       "25%         1.000000       1.250000   13983.000000\n",
       "50%         3.000000       2.100000   15311.000000\n",
       "75%        10.000000       4.210000   16799.000000\n",
       "max     19152.000000   25111.090000   18287.000000"
      ]
     },
     "execution_count": 14,
     "metadata": {},
     "output_type": "execute_result"
    }
   ],
   "source": [
    "df1.describe()"
   ]
  },
  {
   "cell_type": "markdown",
   "id": "24a0672f",
   "metadata": {},
   "source": [
    "Saat kita melihat statistika deskriptif dari data tahun 2009-2010, diperoleh beberapa *insight* seperti :\n",
    "1. Nilai maksimum untuk kolom `Quantity` adalah 19152, sementara nilai kuartil atasnya (Q3) adalah 10. Hal ini mengindikasikan terdapat suatu transaksi dengan total pembelian barang yang sangat banyak untuk satu kali transaksi.\n",
    "2. Nilai maksimum untuk kolom `Price` adalah 25111,09, sementara nilai kuartil atasnya (Q3) adalah 4,21. Hal ini mengindikasikan terdapat suatu transaksi dengan total harga yang sangat banyak untuk satu kali transaksi.\n",
    "3. Terdapat nilai negatif pada kolom `Quantity`. Hal ini dapat dicurigai pembelian yang dibatalkan (Terdapat 'C' pada *Invoice*).\n",
    "4. Terdapat nilai negatif pada kolom `Price`. Hal ini juga dicurigain pembelian yang dibatalkan (Terdapat 'C' pada *Invoice*)."
   ]
  },
  {
   "cell_type": "markdown",
   "id": "0ef4d1e2",
   "metadata": {},
   "source": [
    "**Drop Invalid Data On Invoice**"
   ]
  },
  {
   "cell_type": "markdown",
   "id": "3fbeae84",
   "metadata": {},
   "source": [
    "Sebelumnya kita telah mengetahui bahwa huruf `'C'` pada kolom `Invoice` menandakan transaksi yang dibatalkan. Oleh karenanya, kita akan membuang data yang mempunyai huruf `'C'` pada kolom `Invoice`."
   ]
  },
  {
   "cell_type": "code",
   "execution_count": 15,
   "id": "624379b9",
   "metadata": {
    "ExecuteTime": {
     "end_time": "2021-09-21T08:59:40.468461Z",
     "start_time": "2021-09-21T08:59:40.199243Z"
    }
   },
   "outputs": [
    {
     "data": {
      "text/plain": [
       "(10206, 8)"
      ]
     },
     "execution_count": 15,
     "metadata": {},
     "output_type": "execute_result"
    }
   ],
   "source": [
    "df1[df1['Invoice'].str.contains('C')].shape"
   ]
  },
  {
   "cell_type": "markdown",
   "id": "70bca967",
   "metadata": {},
   "source": [
    "Terlihat terdapat 10206 data yang menyatakan transaksi yang dibatalkan. "
   ]
  },
  {
   "cell_type": "code",
   "execution_count": 16,
   "id": "bbe68b03",
   "metadata": {
    "ExecuteTime": {
     "end_time": "2021-09-21T08:59:40.775276Z",
     "start_time": "2021-09-21T08:59:40.470967Z"
    }
   },
   "outputs": [],
   "source": [
    "df1 = df1[~df1['Invoice'].str.contains('C')]"
   ]
  },
  {
   "cell_type": "code",
   "execution_count": 17,
   "id": "4cc7b105",
   "metadata": {
    "ExecuteTime": {
     "end_time": "2021-09-21T08:59:40.782795Z",
     "start_time": "2021-09-21T08:59:40.777280Z"
    }
   },
   "outputs": [
    {
     "data": {
      "text/plain": [
       "(515255, 8)"
      ]
     },
     "execution_count": 17,
     "metadata": {},
     "output_type": "execute_result"
    }
   ],
   "source": [
    "df1.shape"
   ]
  },
  {
   "cell_type": "markdown",
   "id": "cfcd2cc0",
   "metadata": {},
   "source": [
    "Jumlah data setelah dibuang data transaksi yang dibatalkan adalah 515255."
   ]
  },
  {
   "cell_type": "markdown",
   "id": "eff78e50",
   "metadata": {},
   "source": [
    "**Check Null Data**"
   ]
  },
  {
   "cell_type": "code",
   "execution_count": 18,
   "id": "46ca0948",
   "metadata": {
    "ExecuteTime": {
     "end_time": "2021-09-21T08:59:41.011904Z",
     "start_time": "2021-09-21T08:59:40.785302Z"
    }
   },
   "outputs": [
    {
     "data": {
      "text/plain": [
       "Invoice             0\n",
       "StockCode           0\n",
       "Description      2928\n",
       "Quantity            0\n",
       "InvoiceDate         0\n",
       "Price               0\n",
       "Customer ID    107560\n",
       "Country             0\n",
       "dtype: int64"
      ]
     },
     "execution_count": 18,
     "metadata": {},
     "output_type": "execute_result"
    }
   ],
   "source": [
    "df1.isnull().sum()"
   ]
  },
  {
   "cell_type": "markdown",
   "id": "5e95e6b0",
   "metadata": {},
   "source": [
    "Dikarenakan kita tidak bisa menganalisis *customer* jika kolom `CustomerID` bernilai kosong, kita akan membuang data yang mempunyai nilai yang kosong."
   ]
  },
  {
   "cell_type": "code",
   "execution_count": 19,
   "id": "fcafe33c",
   "metadata": {
    "ExecuteTime": {
     "end_time": "2021-09-21T08:59:41.283434Z",
     "start_time": "2021-09-21T08:59:41.016416Z"
    }
   },
   "outputs": [],
   "source": [
    "df1 = df1.dropna()"
   ]
  },
  {
   "cell_type": "code",
   "execution_count": 20,
   "id": "ee51ea76",
   "metadata": {
    "ExecuteTime": {
     "end_time": "2021-09-21T08:59:41.291457Z",
     "start_time": "2021-09-21T08:59:41.285941Z"
    }
   },
   "outputs": [
    {
     "data": {
      "text/plain": [
       "(407695, 8)"
      ]
     },
     "execution_count": 20,
     "metadata": {},
     "output_type": "execute_result"
    }
   ],
   "source": [
    "df1.shape"
   ]
  },
  {
   "cell_type": "markdown",
   "id": "b910fe8d",
   "metadata": {},
   "source": [
    "Terlihat jumlah data setelah membuang data kosong sebanyak 407695."
   ]
  },
  {
   "cell_type": "markdown",
   "id": "22f02e1f",
   "metadata": {},
   "source": [
    "**Check Duplicate Data**"
   ]
  },
  {
   "cell_type": "markdown",
   "id": "b473ec43",
   "metadata": {},
   "source": [
    "Kita akan membuang data duplikat pada data."
   ]
  },
  {
   "cell_type": "code",
   "execution_count": 21,
   "id": "4c90bf14",
   "metadata": {
    "ExecuteTime": {
     "end_time": "2021-09-21T08:59:41.875009Z",
     "start_time": "2021-09-21T08:59:41.294464Z"
    }
   },
   "outputs": [],
   "source": [
    "df1 = df1.drop_duplicates(keep='first')"
   ]
  },
  {
   "cell_type": "code",
   "execution_count": 22,
   "id": "7a143662",
   "metadata": {
    "ExecuteTime": {
     "end_time": "2021-09-21T08:59:41.895564Z",
     "start_time": "2021-09-21T08:59:41.880524Z"
    }
   },
   "outputs": [
    {
     "data": {
      "text/plain": [
       "(400947, 8)"
      ]
     },
     "execution_count": 22,
     "metadata": {},
     "output_type": "execute_result"
    }
   ],
   "source": [
    "df1.shape"
   ]
  },
  {
   "cell_type": "markdown",
   "id": "145154a7",
   "metadata": {},
   "source": [
    "Terlihat jumlah data setelah membuang data duplikat adalah sebanyak 400947."
   ]
  },
  {
   "cell_type": "markdown",
   "id": "824686c2",
   "metadata": {},
   "source": [
    "**Check Describe Again**"
   ]
  },
  {
   "cell_type": "code",
   "execution_count": 23,
   "id": "c5e9c527",
   "metadata": {
    "ExecuteTime": {
     "end_time": "2021-09-21T08:59:42.193846Z",
     "start_time": "2021-09-21T08:59:41.900083Z"
    }
   },
   "outputs": [
    {
     "data": {
      "text/html": [
       "<div>\n",
       "<style scoped>\n",
       "    .dataframe tbody tr th:only-of-type {\n",
       "        vertical-align: middle;\n",
       "    }\n",
       "\n",
       "    .dataframe tbody tr th {\n",
       "        vertical-align: top;\n",
       "    }\n",
       "\n",
       "    .dataframe thead th {\n",
       "        text-align: right;\n",
       "    }\n",
       "</style>\n",
       "<table border=\"1\" class=\"dataframe\">\n",
       "  <thead>\n",
       "    <tr style=\"text-align: right;\">\n",
       "      <th></th>\n",
       "      <th>Quantity</th>\n",
       "      <th>Price</th>\n",
       "      <th>Customer ID</th>\n",
       "    </tr>\n",
       "  </thead>\n",
       "  <tbody>\n",
       "    <tr>\n",
       "      <th>count</th>\n",
       "      <td>400947.000000</td>\n",
       "      <td>400947.000000</td>\n",
       "      <td>400947.000000</td>\n",
       "    </tr>\n",
       "    <tr>\n",
       "      <th>mean</th>\n",
       "      <td>13.768523</td>\n",
       "      <td>3.305571</td>\n",
       "      <td>15361.454639</td>\n",
       "    </tr>\n",
       "    <tr>\n",
       "      <th>std</th>\n",
       "      <td>97.639816</td>\n",
       "      <td>35.046376</td>\n",
       "      <td>1680.669487</td>\n",
       "    </tr>\n",
       "    <tr>\n",
       "      <th>min</th>\n",
       "      <td>1.000000</td>\n",
       "      <td>0.000000</td>\n",
       "      <td>12346.000000</td>\n",
       "    </tr>\n",
       "    <tr>\n",
       "      <th>25%</th>\n",
       "      <td>2.000000</td>\n",
       "      <td>1.250000</td>\n",
       "      <td>13985.000000</td>\n",
       "    </tr>\n",
       "    <tr>\n",
       "      <th>50%</th>\n",
       "      <td>5.000000</td>\n",
       "      <td>1.950000</td>\n",
       "      <td>15311.000000</td>\n",
       "    </tr>\n",
       "    <tr>\n",
       "      <th>75%</th>\n",
       "      <td>12.000000</td>\n",
       "      <td>3.750000</td>\n",
       "      <td>16805.000000</td>\n",
       "    </tr>\n",
       "    <tr>\n",
       "      <th>max</th>\n",
       "      <td>19152.000000</td>\n",
       "      <td>10953.500000</td>\n",
       "      <td>18287.000000</td>\n",
       "    </tr>\n",
       "  </tbody>\n",
       "</table>\n",
       "</div>"
      ],
      "text/plain": [
       "            Quantity          Price    Customer ID\n",
       "count  400947.000000  400947.000000  400947.000000\n",
       "mean       13.768523       3.305571   15361.454639\n",
       "std        97.639816      35.046376    1680.669487\n",
       "min         1.000000       0.000000   12346.000000\n",
       "25%         2.000000       1.250000   13985.000000\n",
       "50%         5.000000       1.950000   15311.000000\n",
       "75%        12.000000       3.750000   16805.000000\n",
       "max     19152.000000   10953.500000   18287.000000"
      ]
     },
     "execution_count": 23,
     "metadata": {},
     "output_type": "execute_result"
    }
   ],
   "source": [
    "df1.describe()"
   ]
  },
  {
   "cell_type": "markdown",
   "id": "8035fd3e",
   "metadata": {},
   "source": [
    "Terlihat untuk kolom `Price`, masih terdapat data yang bernilai 0. Kita akan membuang data tersebut."
   ]
  },
  {
   "cell_type": "code",
   "execution_count": 24,
   "id": "63af72ee",
   "metadata": {
    "ExecuteTime": {
     "end_time": "2021-09-21T08:59:42.389130Z",
     "start_time": "2021-09-21T08:59:42.196352Z"
    }
   },
   "outputs": [],
   "source": [
    "df1 = df1[df1['Price']>0]"
   ]
  },
  {
   "cell_type": "markdown",
   "id": "6acc447c",
   "metadata": {},
   "source": [
    "**Drop Des 2010 Data**"
   ]
  },
  {
   "cell_type": "markdown",
   "id": "a342e3d8",
   "metadata": {},
   "source": [
    "Kita akan membuang data pada bulan Desember 2010 agar kita mempunyai data untuk 1 tahun dimulai dari Desember 2009 hingga November 2010."
   ]
  },
  {
   "cell_type": "code",
   "execution_count": 25,
   "id": "fd7c599c",
   "metadata": {
    "ExecuteTime": {
     "end_time": "2021-09-21T08:59:42.601186Z",
     "start_time": "2021-09-21T08:59:42.391137Z"
    }
   },
   "outputs": [
    {
     "data": {
      "text/plain": [
       "(400916, 8)"
      ]
     },
     "execution_count": 25,
     "metadata": {},
     "output_type": "execute_result"
    }
   ],
   "source": [
    "df1.shape"
   ]
  },
  {
   "cell_type": "code",
   "execution_count": 26,
   "id": "aa9ff77a",
   "metadata": {
    "ExecuteTime": {
     "end_time": "2021-09-21T08:59:44.925492Z",
     "start_time": "2021-09-21T08:59:42.604694Z"
    }
   },
   "outputs": [],
   "source": [
    "df1['InvoiceDate'] = df1['InvoiceDate'].astype('datetime64')"
   ]
  },
  {
   "cell_type": "code",
   "execution_count": 27,
   "id": "17b7faac",
   "metadata": {
    "ExecuteTime": {
     "end_time": "2021-09-21T08:59:44.968559Z",
     "start_time": "2021-09-21T08:59:44.927450Z"
    }
   },
   "outputs": [],
   "source": [
    "df1 = df1[df1['InvoiceDate']<'2010-12-01']"
   ]
  },
  {
   "cell_type": "markdown",
   "id": "4f9205f5",
   "metadata": {},
   "source": [
    "**Check Data Type**"
   ]
  },
  {
   "cell_type": "code",
   "execution_count": 28,
   "id": "bee1bb2d",
   "metadata": {
    "ExecuteTime": {
     "end_time": "2021-09-21T08:59:45.039217Z",
     "start_time": "2021-09-21T08:59:44.976580Z"
    }
   },
   "outputs": [
    {
     "data": {
      "text/plain": [
       "Invoice                object\n",
       "StockCode              object\n",
       "Description            object\n",
       "Quantity                int64\n",
       "InvoiceDate    datetime64[ns]\n",
       "Price                 float64\n",
       "Customer ID           float64\n",
       "Country                object\n",
       "dtype: object"
      ]
     },
     "execution_count": 28,
     "metadata": {},
     "output_type": "execute_result"
    }
   ],
   "source": [
    "df1.dtypes"
   ]
  },
  {
   "cell_type": "markdown",
   "id": "71c7567c",
   "metadata": {},
   "source": [
    "**Check Number of Unique**"
   ]
  },
  {
   "cell_type": "code",
   "execution_count": 29,
   "id": "defca6ca",
   "metadata": {
    "ExecuteTime": {
     "end_time": "2021-09-21T08:59:45.311442Z",
     "start_time": "2021-09-21T08:59:45.041723Z"
    }
   },
   "outputs": [
    {
     "data": {
      "text/plain": [
       "Invoice        18437\n",
       "StockCode       4009\n",
       "Description     4432\n",
       "Quantity         337\n",
       "InvoiceDate    17303\n",
       "Price            442\n",
       "Customer ID     4266\n",
       "Country           37\n",
       "dtype: int64"
      ]
     },
     "execution_count": 29,
     "metadata": {},
     "output_type": "execute_result"
    }
   ],
   "source": [
    "df1.nunique()"
   ]
  },
  {
   "cell_type": "markdown",
   "id": "bc1cb0e0",
   "metadata": {},
   "source": [
    "### Handle Outlier"
   ]
  },
  {
   "cell_type": "code",
   "execution_count": 30,
   "id": "af1e2a94",
   "metadata": {
    "ExecuteTime": {
     "end_time": "2021-09-21T08:59:45.328023Z",
     "start_time": "2021-09-21T08:59:45.313947Z"
    }
   },
   "outputs": [
    {
     "data": {
      "text/html": [
       "<div>\n",
       "<style scoped>\n",
       "    .dataframe tbody tr th:only-of-type {\n",
       "        vertical-align: middle;\n",
       "    }\n",
       "\n",
       "    .dataframe tbody tr th {\n",
       "        vertical-align: top;\n",
       "    }\n",
       "\n",
       "    .dataframe thead th {\n",
       "        text-align: right;\n",
       "    }\n",
       "</style>\n",
       "<table border=\"1\" class=\"dataframe\">\n",
       "  <thead>\n",
       "    <tr style=\"text-align: right;\">\n",
       "      <th></th>\n",
       "      <th>Invoice</th>\n",
       "      <th>StockCode</th>\n",
       "      <th>Description</th>\n",
       "      <th>Quantity</th>\n",
       "      <th>InvoiceDate</th>\n",
       "      <th>Price</th>\n",
       "      <th>Customer ID</th>\n",
       "      <th>Country</th>\n",
       "    </tr>\n",
       "  </thead>\n",
       "  <tbody>\n",
       "    <tr>\n",
       "      <th>0</th>\n",
       "      <td>489434</td>\n",
       "      <td>85048</td>\n",
       "      <td>15CM CHRISTMAS GLASS BALL 20 LIGHTS</td>\n",
       "      <td>12</td>\n",
       "      <td>2009-12-01 07:45:00</td>\n",
       "      <td>6.95</td>\n",
       "      <td>13085.0</td>\n",
       "      <td>United Kingdom</td>\n",
       "    </tr>\n",
       "    <tr>\n",
       "      <th>1</th>\n",
       "      <td>489434</td>\n",
       "      <td>79323P</td>\n",
       "      <td>PINK CHERRY LIGHTS</td>\n",
       "      <td>12</td>\n",
       "      <td>2009-12-01 07:45:00</td>\n",
       "      <td>6.75</td>\n",
       "      <td>13085.0</td>\n",
       "      <td>United Kingdom</td>\n",
       "    </tr>\n",
       "    <tr>\n",
       "      <th>2</th>\n",
       "      <td>489434</td>\n",
       "      <td>79323W</td>\n",
       "      <td>WHITE CHERRY LIGHTS</td>\n",
       "      <td>12</td>\n",
       "      <td>2009-12-01 07:45:00</td>\n",
       "      <td>6.75</td>\n",
       "      <td>13085.0</td>\n",
       "      <td>United Kingdom</td>\n",
       "    </tr>\n",
       "    <tr>\n",
       "      <th>3</th>\n",
       "      <td>489434</td>\n",
       "      <td>22041</td>\n",
       "      <td>RECORD FRAME 7\" SINGLE SIZE</td>\n",
       "      <td>48</td>\n",
       "      <td>2009-12-01 07:45:00</td>\n",
       "      <td>2.10</td>\n",
       "      <td>13085.0</td>\n",
       "      <td>United Kingdom</td>\n",
       "    </tr>\n",
       "    <tr>\n",
       "      <th>4</th>\n",
       "      <td>489434</td>\n",
       "      <td>21232</td>\n",
       "      <td>STRAWBERRY CERAMIC TRINKET BOX</td>\n",
       "      <td>24</td>\n",
       "      <td>2009-12-01 07:45:00</td>\n",
       "      <td>1.25</td>\n",
       "      <td>13085.0</td>\n",
       "      <td>United Kingdom</td>\n",
       "    </tr>\n",
       "  </tbody>\n",
       "</table>\n",
       "</div>"
      ],
      "text/plain": [
       "  Invoice StockCode                          Description  Quantity  \\\n",
       "0  489434     85048  15CM CHRISTMAS GLASS BALL 20 LIGHTS        12   \n",
       "1  489434    79323P                   PINK CHERRY LIGHTS        12   \n",
       "2  489434    79323W                  WHITE CHERRY LIGHTS        12   \n",
       "3  489434     22041         RECORD FRAME 7\" SINGLE SIZE         48   \n",
       "4  489434     21232       STRAWBERRY CERAMIC TRINKET BOX        24   \n",
       "\n",
       "          InvoiceDate  Price  Customer ID         Country  \n",
       "0 2009-12-01 07:45:00   6.95      13085.0  United Kingdom  \n",
       "1 2009-12-01 07:45:00   6.75      13085.0  United Kingdom  \n",
       "2 2009-12-01 07:45:00   6.75      13085.0  United Kingdom  \n",
       "3 2009-12-01 07:45:00   2.10      13085.0  United Kingdom  \n",
       "4 2009-12-01 07:45:00   1.25      13085.0  United Kingdom  "
      ]
     },
     "execution_count": 30,
     "metadata": {},
     "output_type": "execute_result"
    }
   ],
   "source": [
    "df1.head()"
   ]
  },
  {
   "cell_type": "markdown",
   "id": "c1478182",
   "metadata": {},
   "source": [
    "**Boxplot in Quantity Columns**"
   ]
  },
  {
   "cell_type": "code",
   "execution_count": 31,
   "id": "0718f04c",
   "metadata": {
    "ExecuteTime": {
     "end_time": "2021-09-21T08:59:45.847135Z",
     "start_time": "2021-09-21T08:59:45.330491Z"
    }
   },
   "outputs": [
    {
     "data": {
      "image/png": "[encoded data removed]",
      "text/plain": [
       "<Figure size 720x432 with 1 Axes>"
      ]
     },
     "metadata": {
      "needs_background": "light"
     },
     "output_type": "display_data"
    }
   ],
   "source": [
    "plt.figure(figsize=(10,6))\n",
    "sns.boxplot(df1['Quantity'])\n",
    "plt.title('Boxplot Quantity Columns', fontsize=15)\n",
    "plt.show()"
   ]
  },
  {
   "cell_type": "markdown",
   "id": "05b4252a",
   "metadata": {},
   "source": [
    "Berdasarkan gambar di atas, terlihat untuk kolom `Quantity` mempunyai data outlier."
   ]
  },
  {
   "cell_type": "markdown",
   "id": "dae31443",
   "metadata": {},
   "source": [
    "**Boxplot in Price Columns**"
   ]
  },
  {
   "cell_type": "code",
   "execution_count": 32,
   "id": "0fa8db6a",
   "metadata": {
    "ExecuteTime": {
     "end_time": "2021-09-21T08:59:46.052182Z",
     "start_time": "2021-09-21T08:59:45.849643Z"
    }
   },
   "outputs": [
    {
     "data": {
      "image/png": "[encoded data removed]",
      "text/plain": [
       "<Figure size 720x432 with 1 Axes>"
      ]
     },
     "metadata": {
      "needs_background": "light"
     },
     "output_type": "display_data"
    }
   ],
   "source": [
    "plt.figure(figsize=(10,6))\n",
    "sns.boxplot(df1['Price'])\n",
    "plt.title('Boxplot Price Columns', fontsize=15)\n",
    "plt.show()"
   ]
  },
  {
   "cell_type": "markdown",
   "id": "b202bdc3",
   "metadata": {},
   "source": [
    "Berdasarkan gambar di atas, kolom `Price` mempunyai data outlier."
   ]
  },
  {
   "cell_type": "markdown",
   "id": "fa9dc9b2",
   "metadata": {},
   "source": [
    "**Remove Outlier Data From Quantity Columns**"
   ]
  },
  {
   "cell_type": "code",
   "execution_count": 33,
   "id": "503bb6e3",
   "metadata": {
    "ExecuteTime": {
     "end_time": "2021-09-21T08:59:46.079754Z",
     "start_time": "2021-09-21T08:59:46.055189Z"
    }
   },
   "outputs": [
    {
     "name": "stdout",
     "output_type": "stream",
     "text": [
      "Q1:2.0\n",
      "Q3:12.0\n",
      "IQR:10.0\n",
      "Min Quantity:-13.0\n",
      "Max Quantity:27.0\n"
     ]
    }
   ],
   "source": [
    "q1_quantity = df1['Quantity'].quantile(0.25)\n",
    "q3_quantity = df1['Quantity'].quantile(0.75)\n",
    "IQR = q3_quantity - q1_quantity\n",
    "min_quantity = q1_quantity - 1.5*IQR\n",
    "max_quantity = q3_quantity + 1.5*IQR\n",
    "print(f'Q1:{q1_quantity}')\n",
    "print(f'Q3:{q3_quantity}')\n",
    "print(f'IQR:{IQR}')\n",
    "print(f'Min Quantity:{min_quantity}')\n",
    "print(f'Max Quantity:{max_quantity}')"
   ]
  },
  {
   "cell_type": "code",
   "execution_count": 34,
   "id": "6290b42a",
   "metadata": {
    "ExecuteTime": {
     "end_time": "2021-09-21T08:59:46.193856Z",
     "start_time": "2021-09-21T08:59:46.083264Z"
    }
   },
   "outputs": [],
   "source": [
    "df1 = df1[(df1['Quantity']<=max_quantity) & (df1['Quantity']>=min_quantity)]"
   ]
  },
  {
   "cell_type": "code",
   "execution_count": 35,
   "id": "0d2c5be4",
   "metadata": {
    "ExecuteTime": {
     "end_time": "2021-09-21T08:59:46.261246Z",
     "start_time": "2021-09-21T08:59:46.196865Z"
    }
   },
   "outputs": [
    {
     "data": {
      "text/plain": [
       "(361229, 8)"
      ]
     },
     "execution_count": 35,
     "metadata": {},
     "output_type": "execute_result"
    }
   ],
   "source": [
    "df1.shape"
   ]
  },
  {
   "cell_type": "markdown",
   "id": "9c3a15b2",
   "metadata": {},
   "source": [
    "**Remove Outlier Data From Price Columns**"
   ]
  },
  {
   "cell_type": "code",
   "execution_count": 36,
   "id": "fc226500",
   "metadata": {
    "ExecuteTime": {
     "end_time": "2021-09-21T08:59:46.400149Z",
     "start_time": "2021-09-21T08:59:46.263755Z"
    }
   },
   "outputs": [
    {
     "name": "stdout",
     "output_type": "stream",
     "text": [
      "Q1:1.25\n",
      "Q3:3.75\n",
      "IQR:2.5\n",
      "Min Price:-2.5\n",
      "Max Price:7.5\n"
     ]
    }
   ],
   "source": [
    "q1_price = df1['Price'].quantile(0.25)\n",
    "q3_price = df1['Price'].quantile(0.75)\n",
    "IQR = q3_price - q1_price\n",
    "min_price = q1_price - 1.5*IQR\n",
    "max_price = q3_price + 1.5*IQR\n",
    "print(f'Q1:{q1_price}')\n",
    "print(f'Q3:{q3_price}')\n",
    "print(f'IQR:{IQR}')\n",
    "print(f'Min Price:{min_price}')\n",
    "print(f'Max Price:{max_price}')"
   ]
  },
  {
   "cell_type": "code",
   "execution_count": 37,
   "id": "e94e41a3",
   "metadata": {
    "ExecuteTime": {
     "end_time": "2021-09-21T08:59:46.525480Z",
     "start_time": "2021-09-21T08:59:46.402654Z"
    }
   },
   "outputs": [],
   "source": [
    "df1 = df1[(df1['Price']<=max_price) & (df1['Price']>=min_price)]"
   ]
  },
  {
   "cell_type": "code",
   "execution_count": 38,
   "id": "4ef76f45",
   "metadata": {
    "ExecuteTime": {
     "end_time": "2021-09-21T08:59:46.594530Z",
     "start_time": "2021-09-21T08:59:46.527988Z"
    },
    "scrolled": true
   },
   "outputs": [
    {
     "data": {
      "text/plain": [
       "(330139, 8)"
      ]
     },
     "execution_count": 38,
     "metadata": {},
     "output_type": "execute_result"
    }
   ],
   "source": [
    "df1.shape"
   ]
  },
  {
   "cell_type": "markdown",
   "id": "352f880e",
   "metadata": {},
   "source": [
    "## Exploratory Data Analysis (EDA)"
   ]
  },
  {
   "cell_type": "markdown",
   "id": "aee09652",
   "metadata": {},
   "source": [
    "### Per Month"
   ]
  },
  {
   "cell_type": "code",
   "execution_count": 39,
   "id": "6cb83a48",
   "metadata": {
    "ExecuteTime": {
     "end_time": "2021-09-21T08:59:46.692793Z",
     "start_time": "2021-09-21T08:59:46.596534Z"
    }
   },
   "outputs": [],
   "source": [
    "def make_line_plot(x, y, title, xlabel, ylabel):\n",
    "    plt.figure(figsize=(16,5))\n",
    "    plt.plot(x, y, linestyle='--', marker='o', color='maroon')\n",
    "    plt.xlabel(xlabel, fontsize=12)\n",
    "    plt.ylabel(ylabel, fontsize=12)\n",
    "    plt.title(title, fontsize=15)\n",
    "    plt.show()"
   ]
  },
  {
   "cell_type": "markdown",
   "id": "e286408d",
   "metadata": {},
   "source": [
    "**Number of Transaction Per Month**"
   ]
  },
  {
   "cell_type": "markdown",
   "id": "108b6e22",
   "metadata": {
    "ExecuteTime": {
     "end_time": "2021-09-19T17:31:33.383017Z",
     "start_time": "2021-09-19T17:31:33.369943Z"
    }
   },
   "source": [
    "Buat kolom baru `InvoiceMonth` yang menyatakan bulan dari tiap transaksi pembelian."
   ]
  },
  {
   "cell_type": "code",
   "execution_count": 40,
   "id": "085ffd7e",
   "metadata": {
    "ExecuteTime": {
     "end_time": "2021-09-21T08:59:49.612647Z",
     "start_time": "2021-09-21T08:59:46.695297Z"
    }
   },
   "outputs": [],
   "source": [
    "df1['InvoiceMonth'] = df1['InvoiceDate'].dt.strftime('%Y-%m')"
   ]
  },
  {
   "cell_type": "code",
   "execution_count": 41,
   "id": "0cd62bf6",
   "metadata": {
    "ExecuteTime": {
     "end_time": "2021-09-21T08:59:49.665056Z",
     "start_time": "2021-09-21T08:59:49.614911Z"
    }
   },
   "outputs": [
    {
     "data": {
      "text/plain": [
       "InvoiceMonth\n",
       "2009-12    26073\n",
       "2010-01    18546\n",
       "2010-02    20012\n",
       "2010-03    27460\n",
       "2010-04    22593\n",
       "2010-05    23547\n",
       "2010-06    25780\n",
       "2010-07    22685\n",
       "2010-08    22146\n",
       "2010-09    29010\n",
       "2010-10    41666\n",
       "2010-11    50621\n",
       "Name: Invoice, dtype: int64"
      ]
     },
     "execution_count": 41,
     "metadata": {},
     "output_type": "execute_result"
    }
   ],
   "source": [
    "df1_grp1 = df1.groupby('InvoiceMonth')['Invoice'].count()\n",
    "df1_grp1"
   ]
  },
  {
   "cell_type": "code",
   "execution_count": 42,
   "id": "23b5e980",
   "metadata": {
    "ExecuteTime": {
     "end_time": "2021-09-21T08:59:49.948040Z",
     "start_time": "2021-09-21T08:59:49.667555Z"
    }
   },
   "outputs": [
    {
     "data": {
      "image/png": "[encoded data removed]",
      "text/plain": [
       "<Figure size 1152x360 with 1 Axes>"
      ]
     },
     "metadata": {
      "needs_background": "light"
     },
     "output_type": "display_data"
    }
   ],
   "source": [
    "make_line_plot(x=df1_grp1.index, \n",
    "               y=df1_grp1, \n",
    "               title='Number of Transaction Per Month in Des 2009 - Nov 2010',\n",
    "               xlabel='Month',\n",
    "               ylabel='Number of Transaction')"
   ]
  },
  {
   "cell_type": "markdown",
   "id": "bcaed404",
   "metadata": {},
   "source": [
    "**Total Customer Money Spend Per Month**"
   ]
  },
  {
   "cell_type": "markdown",
   "id": "b01ac572",
   "metadata": {},
   "source": [
    "Buat kolom baru `Spend` yang menyatakan perkalian antara kolom `Quantity` dan `Price`."
   ]
  },
  {
   "cell_type": "code",
   "execution_count": 43,
   "id": "c8479987",
   "metadata": {
    "ExecuteTime": {
     "end_time": "2021-09-21T08:59:49.959600Z",
     "start_time": "2021-09-21T08:59:49.950538Z"
    }
   },
   "outputs": [],
   "source": [
    "df1['Spend'] = df1['Quantity']*df1['Price']"
   ]
  },
  {
   "cell_type": "code",
   "execution_count": 44,
   "id": "a355e501",
   "metadata": {
    "ExecuteTime": {
     "end_time": "2021-09-21T08:59:50.067687Z",
     "start_time": "2021-09-21T08:59:49.961566Z"
    }
   },
   "outputs": [
    {
     "data": {
      "text/html": [
       "<div>\n",
       "<style scoped>\n",
       "    .dataframe tbody tr th:only-of-type {\n",
       "        vertical-align: middle;\n",
       "    }\n",
       "\n",
       "    .dataframe tbody tr th {\n",
       "        vertical-align: top;\n",
       "    }\n",
       "\n",
       "    .dataframe thead th {\n",
       "        text-align: right;\n",
       "    }\n",
       "</style>\n",
       "<table border=\"1\" class=\"dataframe\">\n",
       "  <thead>\n",
       "    <tr style=\"text-align: right;\">\n",
       "      <th></th>\n",
       "      <th>Invoice</th>\n",
       "      <th>StockCode</th>\n",
       "      <th>Description</th>\n",
       "      <th>Quantity</th>\n",
       "      <th>InvoiceDate</th>\n",
       "      <th>Price</th>\n",
       "      <th>Customer ID</th>\n",
       "      <th>Country</th>\n",
       "      <th>InvoiceMonth</th>\n",
       "      <th>Spend</th>\n",
       "    </tr>\n",
       "  </thead>\n",
       "  <tbody>\n",
       "    <tr>\n",
       "      <th>0</th>\n",
       "      <td>489434</td>\n",
       "      <td>85048</td>\n",
       "      <td>15CM CHRISTMAS GLASS BALL 20 LIGHTS</td>\n",
       "      <td>12</td>\n",
       "      <td>2009-12-01 07:45:00</td>\n",
       "      <td>6.95</td>\n",
       "      <td>13085.0</td>\n",
       "      <td>United Kingdom</td>\n",
       "      <td>2009-12</td>\n",
       "      <td>83.4</td>\n",
       "    </tr>\n",
       "    <tr>\n",
       "      <th>1</th>\n",
       "      <td>489434</td>\n",
       "      <td>79323P</td>\n",
       "      <td>PINK CHERRY LIGHTS</td>\n",
       "      <td>12</td>\n",
       "      <td>2009-12-01 07:45:00</td>\n",
       "      <td>6.75</td>\n",
       "      <td>13085.0</td>\n",
       "      <td>United Kingdom</td>\n",
       "      <td>2009-12</td>\n",
       "      <td>81.0</td>\n",
       "    </tr>\n",
       "  </tbody>\n",
       "</table>\n",
       "</div>"
      ],
      "text/plain": [
       "  Invoice StockCode                          Description  Quantity  \\\n",
       "0  489434     85048  15CM CHRISTMAS GLASS BALL 20 LIGHTS        12   \n",
       "1  489434    79323P                   PINK CHERRY LIGHTS        12   \n",
       "\n",
       "          InvoiceDate  Price  Customer ID         Country InvoiceMonth  Spend  \n",
       "0 2009-12-01 07:45:00   6.95      13085.0  United Kingdom      2009-12   83.4  \n",
       "1 2009-12-01 07:45:00   6.75      13085.0  United Kingdom      2009-12   81.0  "
      ]
     },
     "execution_count": 44,
     "metadata": {},
     "output_type": "execute_result"
    }
   ],
   "source": [
    "df1.head(2)"
   ]
  },
  {
   "cell_type": "code",
   "execution_count": 45,
   "id": "636b1ccb",
   "metadata": {
    "ExecuteTime": {
     "end_time": "2021-09-21T08:59:50.205553Z",
     "start_time": "2021-09-21T08:59:50.070695Z"
    }
   },
   "outputs": [
    {
     "data": {
      "text/plain": [
       "InvoiceMonth\n",
       "2009-12    365431.430\n",
       "2010-01    254326.762\n",
       "2010-02    264033.436\n",
       "2010-03    356433.261\n",
       "2010-04    309740.902\n",
       "2010-05    309253.180\n",
       "2010-06    319489.440\n",
       "2010-07    296543.660\n",
       "2010-08    296085.140\n",
       "2010-09    405579.911\n",
       "2010-10    541450.180\n",
       "2010-11    610665.452\n",
       "Name: Spend, dtype: float64"
      ]
     },
     "execution_count": 45,
     "metadata": {},
     "output_type": "execute_result"
    }
   ],
   "source": [
    "df1_grp2 = df1.groupby('InvoiceMonth')['Spend'].sum()\n",
    "df1_grp2"
   ]
  },
  {
   "cell_type": "code",
   "execution_count": 46,
   "id": "39022d25",
   "metadata": {
    "ExecuteTime": {
     "end_time": "2021-09-21T08:59:50.499345Z",
     "start_time": "2021-09-21T08:59:50.208061Z"
    }
   },
   "outputs": [
    {
     "data": {
      "image/png": "[encoded data removed]",
      "text/plain": [
       "<Figure size 1152x360 with 1 Axes>"
      ]
     },
     "metadata": {
      "needs_background": "light"
     },
     "output_type": "display_data"
    }
   ],
   "source": [
    "make_line_plot(x=df1_grp2.index, \n",
    "               y=df1_grp2, \n",
    "               title='Total Customer Money Spend Per Month in Des 2009 - Nov 2010',\n",
    "               xlabel='Month',\n",
    "               ylabel='Total')"
   ]
  },
  {
   "cell_type": "markdown",
   "id": "698cda76",
   "metadata": {},
   "source": [
    "**Average Customer Money Spend Per Month**"
   ]
  },
  {
   "cell_type": "code",
   "execution_count": 47,
   "id": "f25abfe2",
   "metadata": {
    "ExecuteTime": {
     "end_time": "2021-09-21T08:59:50.539441Z",
     "start_time": "2021-09-21T08:59:50.502343Z"
    }
   },
   "outputs": [
    {
     "data": {
      "text/plain": [
       "InvoiceMonth\n",
       "2009-12    14.015703\n",
       "2010-01    13.713295\n",
       "2010-02    13.193756\n",
       "2010-03    12.980090\n",
       "2010-04    13.709596\n",
       "2010-05    13.133443\n",
       "2010-06    12.392919\n",
       "2010-07    13.072235\n",
       "2010-08    13.369689\n",
       "2010-09    13.980693\n",
       "2010-10    12.995012\n",
       "2010-11    12.063481\n",
       "Name: Spend, dtype: float64"
      ]
     },
     "execution_count": 47,
     "metadata": {},
     "output_type": "execute_result"
    }
   ],
   "source": [
    "df1_grp3 = df1.groupby('InvoiceMonth')['Spend'].mean()\n",
    "df1_grp3"
   ]
  },
  {
   "cell_type": "code",
   "execution_count": 48,
   "id": "42b19298",
   "metadata": {
    "ExecuteTime": {
     "end_time": "2021-09-21T08:59:50.831217Z",
     "start_time": "2021-09-21T08:59:50.541948Z"
    }
   },
   "outputs": [
    {
     "data": {
      "image/png": "[encoded data removed]",
      "text/plain": [
       "<Figure size 1152x360 with 1 Axes>"
      ]
     },
     "metadata": {
      "needs_background": "light"
     },
     "output_type": "display_data"
    }
   ],
   "source": [
    "make_line_plot(x=df1_grp3.index, \n",
    "               y=df1_grp3, \n",
    "               title='Average Customer Money Spend Per Month in Des 2009 - Nov 2010',\n",
    "               xlabel='Month',\n",
    "               ylabel='Total')"
   ]
  },
  {
   "cell_type": "markdown",
   "id": "06ae6150",
   "metadata": {},
   "source": [
    "### Function to Make Barplot"
   ]
  },
  {
   "cell_type": "code",
   "execution_count": 49,
   "id": "afd3c8e8",
   "metadata": {
    "ExecuteTime": {
     "end_time": "2021-09-21T08:59:50.839239Z",
     "start_time": "2021-09-21T08:59:50.833724Z"
    }
   },
   "outputs": [],
   "source": [
    "def make_bar_plot(x, y, title, xlabel, ylabel):\n",
    "    plt.figure(figsize=(16,5))\n",
    "    sns.barplot(x, y)\n",
    "    plt.xlabel(xlabel, fontsize=12)\n",
    "    plt.ylabel(ylabel, fontsize=12)\n",
    "    plt.title(title, fontsize=15)\n",
    "    plt.show()"
   ]
  },
  {
   "cell_type": "markdown",
   "id": "2e46c26a",
   "metadata": {},
   "source": [
    "### Per Day"
   ]
  },
  {
   "cell_type": "code",
   "execution_count": 50,
   "id": "238e3e49",
   "metadata": {
    "ExecuteTime": {
     "end_time": "2021-09-21T08:59:50.937540Z",
     "start_time": "2021-09-21T08:59:50.841745Z"
    }
   },
   "outputs": [],
   "source": [
    "day_index = ['Monday', 'Tuesday', 'Wednesday', 'Thursday', 'Friday', 'Saturday', 'Sunday']"
   ]
  },
  {
   "cell_type": "markdown",
   "id": "cd5c4de6",
   "metadata": {},
   "source": [
    "Buat kolom baru `InvoiceDay` yang menyatakan hari dari tiap transaksi pembelian."
   ]
  },
  {
   "cell_type": "code",
   "execution_count": 51,
   "id": "1a480be3",
   "metadata": {
    "ExecuteTime": {
     "end_time": "2021-09-21T08:59:53.516509Z",
     "start_time": "2021-09-21T08:59:50.940007Z"
    }
   },
   "outputs": [],
   "source": [
    "df1['InvoiceDay'] = df1['InvoiceDate'].dt.strftime('%A')"
   ]
  },
  {
   "cell_type": "markdown",
   "id": "5a2724c8",
   "metadata": {},
   "source": [
    "**Number of Transaction Per Day**"
   ]
  },
  {
   "cell_type": "code",
   "execution_count": 52,
   "id": "734ccd0d",
   "metadata": {
    "ExecuteTime": {
     "end_time": "2021-09-21T08:59:53.569635Z",
     "start_time": "2021-09-21T08:59:53.519003Z"
    }
   },
   "outputs": [
    {
     "data": {
      "text/plain": [
       "InvoiceDay\n",
       "Friday       41107\n",
       "Monday       51865\n",
       "Saturday       338\n",
       "Sunday       60967\n",
       "Thursday     65365\n",
       "Tuesday      57640\n",
       "Wednesday    52857\n",
       "Name: Invoice, dtype: int64"
      ]
     },
     "execution_count": 52,
     "metadata": {},
     "output_type": "execute_result"
    }
   ],
   "source": [
    "df1_grp4 = df1.groupby('InvoiceDay')['Invoice'].count()\n",
    "df1_grp4"
   ]
  },
  {
   "cell_type": "code",
   "execution_count": 53,
   "id": "99a98fbc",
   "metadata": {
    "ExecuteTime": {
     "end_time": "2021-09-21T08:59:53.692563Z",
     "start_time": "2021-09-21T08:59:53.572142Z"
    }
   },
   "outputs": [],
   "source": [
    "df1_grp4 = df1_grp4.reindex(day_index)"
   ]
  },
  {
   "cell_type": "code",
   "execution_count": 54,
   "id": "49fdb9b3",
   "metadata": {
    "ExecuteTime": {
     "end_time": "2021-09-21T08:59:53.819183Z",
     "start_time": "2021-09-21T08:59:53.694569Z"
    }
   },
   "outputs": [
    {
     "data": {
      "text/plain": [
       "InvoiceDay\n",
       "Monday       51865\n",
       "Tuesday      57640\n",
       "Wednesday    52857\n",
       "Thursday     65365\n",
       "Friday       41107\n",
       "Saturday       338\n",
       "Sunday       60967\n",
       "Name: Invoice, dtype: int64"
      ]
     },
     "execution_count": 54,
     "metadata": {},
     "output_type": "execute_result"
    }
   ],
   "source": [
    "df1_grp4"
   ]
  },
  {
   "cell_type": "code",
   "execution_count": 55,
   "id": "7ae2a736",
   "metadata": {
    "ExecuteTime": {
     "end_time": "2021-09-21T08:59:54.153509Z",
     "start_time": "2021-09-21T08:59:53.821687Z"
    }
   },
   "outputs": [
    {
     "data": {
      "image/png": "[encoded data removed]",
      "text/plain": [
       "<Figure size 1152x360 with 1 Axes>"
      ]
     },
     "metadata": {
      "needs_background": "light"
     },
     "output_type": "display_data"
    }
   ],
   "source": [
    "make_bar_plot(y=df1_grp4.index,\n",
    "              x=df1_grp4,\n",
    "              title='Number of Transaction Per Day in Des 2009 - Nov 2010',\n",
    "              ylabel='Day',\n",
    "              xlabel='Total')"
   ]
  },
  {
   "cell_type": "markdown",
   "id": "51b3bde8",
   "metadata": {},
   "source": [
    "**Total Customer Money Spend Per Day**"
   ]
  },
  {
   "cell_type": "code",
   "execution_count": 56,
   "id": "f6e8504a",
   "metadata": {
    "ExecuteTime": {
     "end_time": "2021-09-21T08:59:54.187100Z",
     "start_time": "2021-09-21T08:59:54.156016Z"
    }
   },
   "outputs": [],
   "source": [
    "df1_grp5 = df1.groupby('InvoiceDay')['Spend'].sum()"
   ]
  },
  {
   "cell_type": "code",
   "execution_count": 57,
   "id": "fdebc3d3",
   "metadata": {
    "ExecuteTime": {
     "end_time": "2021-09-21T08:59:54.270294Z",
     "start_time": "2021-09-21T08:59:54.191626Z"
    }
   },
   "outputs": [],
   "source": [
    "df1_grp5 = df1_grp5.reindex(day_index)"
   ]
  },
  {
   "cell_type": "code",
   "execution_count": 58,
   "id": "ef0fda2a",
   "metadata": {
    "ExecuteTime": {
     "end_time": "2021-09-21T08:59:54.372863Z",
     "start_time": "2021-09-21T08:59:54.272801Z"
    }
   },
   "outputs": [
    {
     "data": {
      "text/plain": [
       "InvoiceDay\n",
       "Monday       689468.085\n",
       "Tuesday      808938.731\n",
       "Wednesday    732053.673\n",
       "Thursday     883074.762\n",
       "Friday       586265.172\n",
       "Saturday       7560.660\n",
       "Sunday       621671.671\n",
       "Name: Spend, dtype: float64"
      ]
     },
     "execution_count": 58,
     "metadata": {},
     "output_type": "execute_result"
    }
   ],
   "source": [
    "df1_grp5"
   ]
  },
  {
   "cell_type": "code",
   "execution_count": 59,
   "id": "18d8da79",
   "metadata": {
    "ExecuteTime": {
     "end_time": "2021-09-21T08:59:54.639596Z",
     "start_time": "2021-09-21T08:59:54.375369Z"
    }
   },
   "outputs": [
    {
     "data": {
      "image/png": "[encoded data removed]",
      "text/plain": [
       "<Figure size 1152x360 with 1 Axes>"
      ]
     },
     "metadata": {
      "needs_background": "light"
     },
     "output_type": "display_data"
    }
   ],
   "source": [
    "make_bar_plot(y=df1_grp5.index,\n",
    "              x=df1_grp5,\n",
    "              title='Total Customer Money Spend Per Day in Des 2009 - Nov 2010',\n",
    "              ylabel='Day',\n",
    "              xlabel='Total')"
   ]
  },
  {
   "cell_type": "markdown",
   "id": "18b51a09",
   "metadata": {},
   "source": [
    "**Average Customer Money Spend Per Day**"
   ]
  },
  {
   "cell_type": "code",
   "execution_count": 60,
   "id": "bab215ea",
   "metadata": {
    "ExecuteTime": {
     "end_time": "2021-09-21T08:59:54.675190Z",
     "start_time": "2021-09-21T08:59:54.642102Z"
    }
   },
   "outputs": [],
   "source": [
    "df1_grp6 = df1.groupby('InvoiceDay')['Spend'].mean()"
   ]
  },
  {
   "cell_type": "code",
   "execution_count": 61,
   "id": "a0c5309b",
   "metadata": {
    "ExecuteTime": {
     "end_time": "2021-09-21T08:59:54.748423Z",
     "start_time": "2021-09-21T08:59:54.676697Z"
    }
   },
   "outputs": [],
   "source": [
    "df1_grp6 = df1_grp6.reindex(day_index)"
   ]
  },
  {
   "cell_type": "code",
   "execution_count": 62,
   "id": "8b2ab381",
   "metadata": {
    "ExecuteTime": {
     "end_time": "2021-09-21T08:59:54.828731Z",
     "start_time": "2021-09-21T08:59:54.750892Z"
    }
   },
   "outputs": [
    {
     "data": {
      "text/plain": [
       "InvoiceDay\n",
       "Monday       13.293514\n",
       "Tuesday      14.034329\n",
       "Wednesday    13.849702\n",
       "Thursday     13.509902\n",
       "Friday       14.261930\n",
       "Saturday     22.368817\n",
       "Sunday       10.196855\n",
       "Name: Spend, dtype: float64"
      ]
     },
     "execution_count": 62,
     "metadata": {},
     "output_type": "execute_result"
    }
   ],
   "source": [
    "df1_grp6"
   ]
  },
  {
   "cell_type": "code",
   "execution_count": 63,
   "id": "68060bfc",
   "metadata": {
    "ExecuteTime": {
     "end_time": "2021-09-21T08:59:55.088922Z",
     "start_time": "2021-09-21T08:59:54.831239Z"
    }
   },
   "outputs": [
    {
     "data": {
      "image/png": "[encoded data removed]",
      "text/plain": [
       "<Figure size 1152x360 with 1 Axes>"
      ]
     },
     "metadata": {
      "needs_background": "light"
     },
     "output_type": "display_data"
    }
   ],
   "source": [
    "make_bar_plot(y=df1_grp6.index,\n",
    "              x=df1_grp6,\n",
    "              title='Average Customer Money Spend Per Day in Des 2009 - Nov 2010',\n",
    "              ylabel='Day',\n",
    "              xlabel='Total')"
   ]
  },
  {
   "cell_type": "markdown",
   "id": "39f0a6f6",
   "metadata": {},
   "source": [
    "## Per Hour"
   ]
  },
  {
   "cell_type": "markdown",
   "id": "83927497",
   "metadata": {},
   "source": [
    "Buat kolom baru `InvoiceHour` yang menyatakan jam dari setiap transaksi."
   ]
  },
  {
   "cell_type": "code",
   "execution_count": 64,
   "id": "c6de242e",
   "metadata": {
    "ExecuteTime": {
     "end_time": "2021-09-21T08:59:57.539929Z",
     "start_time": "2021-09-21T08:59:55.091429Z"
    }
   },
   "outputs": [],
   "source": [
    "df1['InvoiceHour'] = df1['InvoiceDate'].dt.strftime('%H')"
   ]
  },
  {
   "cell_type": "markdown",
   "id": "fd3d47c9",
   "metadata": {},
   "source": [
    "**Number of Transaction Per Hour**"
   ]
  },
  {
   "cell_type": "code",
   "execution_count": 65,
   "id": "faeb7e29",
   "metadata": {
    "ExecuteTime": {
     "end_time": "2021-09-21T08:59:57.595586Z",
     "start_time": "2021-09-21T08:59:57.541443Z"
    }
   },
   "outputs": [
    {
     "data": {
      "text/plain": [
       "InvoiceHour\n",
       "07      442\n",
       "08     5047\n",
       "09    15379\n",
       "10    27734\n",
       "11    41465\n",
       "12    58845\n",
       "13    55366\n",
       "14    46420\n",
       "15    35591\n",
       "16    23505\n",
       "17    11551\n",
       "18     3673\n",
       "19     4144\n",
       "20      977\n",
       "Name: Invoice, dtype: int64"
      ]
     },
     "execution_count": 65,
     "metadata": {},
     "output_type": "execute_result"
    }
   ],
   "source": [
    "df1_grp7 = df1.groupby('InvoiceHour')['Invoice'].count()\n",
    "df1_grp7"
   ]
  },
  {
   "cell_type": "code",
   "execution_count": 66,
   "id": "f4627e06",
   "metadata": {
    "ExecuteTime": {
     "end_time": "2021-09-21T08:59:57.943021Z",
     "start_time": "2021-09-21T08:59:57.599598Z"
    }
   },
   "outputs": [
    {
     "data": {
      "image/png": "[encoded data removed]",
      "text/plain": [
       "<Figure size 1152x360 with 1 Axes>"
      ]
     },
     "metadata": {
      "needs_background": "light"
     },
     "output_type": "display_data"
    }
   ],
   "source": [
    "make_bar_plot(x=df1_grp7.index,\n",
    "              y=df1_grp7,\n",
    "              title='Number of Transaction Per Hour in Des 2009 - Nov 2010',\n",
    "              xlabel='Hour',\n",
    "              ylabel='Total')"
   ]
  },
  {
   "cell_type": "markdown",
   "id": "b96d6991",
   "metadata": {},
   "source": [
    "**Total Customer Money Spend Per Hour**"
   ]
  },
  {
   "cell_type": "code",
   "execution_count": 67,
   "id": "196b76c3",
   "metadata": {
    "ExecuteTime": {
     "end_time": "2021-09-21T08:59:57.982132Z",
     "start_time": "2021-09-21T08:59:57.946030Z"
    }
   },
   "outputs": [
    {
     "data": {
      "text/plain": [
       "InvoiceHour\n",
       "07     11422.570\n",
       "08    107900.230\n",
       "09    291732.610\n",
       "10    481531.452\n",
       "11    524846.033\n",
       "12    705529.081\n",
       "13    659721.064\n",
       "14    580946.500\n",
       "15    453513.242\n",
       "16    274137.321\n",
       "17    136739.871\n",
       "18     54385.170\n",
       "19     40457.510\n",
       "20      6170.100\n",
       "Name: Spend, dtype: float64"
      ]
     },
     "execution_count": 67,
     "metadata": {},
     "output_type": "execute_result"
    }
   ],
   "source": [
    "df1_grp8 = df1.groupby('InvoiceHour')['Spend'].sum()\n",
    "df1_grp8"
   ]
  },
  {
   "cell_type": "code",
   "execution_count": 68,
   "id": "5702aef2",
   "metadata": {
    "ExecuteTime": {
     "end_time": "2021-09-21T08:59:58.280277Z",
     "start_time": "2021-09-21T08:59:57.985134Z"
    }
   },
   "outputs": [
    {
     "data": {
      "image/png": "[encoded data removed]",
      "text/plain": [
       "<Figure size 1152x360 with 1 Axes>"
      ]
     },
     "metadata": {
      "needs_background": "light"
     },
     "output_type": "display_data"
    }
   ],
   "source": [
    "make_bar_plot(x=df1_grp8.index,\n",
    "              y=df1_grp8,\n",
    "              title='Total Customer Money Spend Per Hour in Des 2009 - Nov 2010',\n",
    "              xlabel='Hour',\n",
    "              ylabel='Total')"
   ]
  },
  {
   "cell_type": "markdown",
   "id": "a0d6066c",
   "metadata": {},
   "source": [
    "**Average Customer Money Spend Per Hour**"
   ]
  },
  {
   "cell_type": "code",
   "execution_count": 69,
   "id": "9d6cbebe",
   "metadata": {
    "ExecuteTime": {
     "end_time": "2021-09-21T08:59:58.318379Z",
     "start_time": "2021-09-21T08:59:58.283285Z"
    }
   },
   "outputs": [
    {
     "data": {
      "text/plain": [
       "InvoiceHour\n",
       "07    25.842919\n",
       "08    21.379083\n",
       "09    18.969544\n",
       "10    17.362496\n",
       "11    12.657567\n",
       "12    11.989618\n",
       "13    11.915635\n",
       "14    12.515004\n",
       "15    12.742357\n",
       "16    11.662936\n",
       "17    11.837925\n",
       "18    14.806744\n",
       "19     9.762913\n",
       "20     6.315353\n",
       "Name: Spend, dtype: float64"
      ]
     },
     "execution_count": 69,
     "metadata": {},
     "output_type": "execute_result"
    }
   ],
   "source": [
    "df1_grp9 = df1.groupby('InvoiceHour')['Spend'].mean()\n",
    "df1_grp9"
   ]
  },
  {
   "cell_type": "code",
   "execution_count": 70,
   "id": "12b22ab6",
   "metadata": {
    "ExecuteTime": {
     "end_time": "2021-09-21T08:59:58.630513Z",
     "start_time": "2021-09-21T08:59:58.320885Z"
    }
   },
   "outputs": [
    {
     "data": {
      "image/png": "[encoded data removed]",
      "text/plain": [
       "<Figure size 1152x360 with 1 Axes>"
      ]
     },
     "metadata": {
      "needs_background": "light"
     },
     "output_type": "display_data"
    }
   ],
   "source": [
    "make_bar_plot(x=df1_grp9.index,\n",
    "              y=df1_grp9,\n",
    "              title='Average Customer Money Spend Per Hour in Des 2009 - Nov 2010',\n",
    "              xlabel='Hour',\n",
    "              ylabel='Total')"
   ]
  },
  {
   "cell_type": "markdown",
   "id": "71cf9398",
   "metadata": {},
   "source": [
    "### Per Product"
   ]
  },
  {
   "cell_type": "code",
   "execution_count": 71,
   "id": "edee39b0",
   "metadata": {
    "ExecuteTime": {
     "end_time": "2021-09-21T08:59:58.692679Z",
     "start_time": "2021-09-21T08:59:58.633522Z"
    }
   },
   "outputs": [
    {
     "data": {
      "text/plain": [
       "WHITE HANGING HEART T-LIGHT HOLDER    2369\n",
       "STRAWBERRY CERAMIC TRINKET BOX        1181\n",
       "HOME BUILDING BLOCK WORD              1154\n",
       "REX CASH+CARRY JUMBO SHOPPER          1052\n",
       "ASSORTED COLOUR BIRD ORNAMENT         1028\n",
       "60 TEATIME FAIRY CAKE CASES            987\n",
       "PACK OF 72 RETRO SPOT CAKE CASES       969\n",
       "LUNCH BAG RED SPOTTY                   959\n",
       "WOODEN FRAME ANTIQUE WHITE             946\n",
       "LOVE BUILDING BLOCK WORD               941\n",
       "Name: Description, dtype: int64"
      ]
     },
     "execution_count": 71,
     "metadata": {},
     "output_type": "execute_result"
    }
   ],
   "source": [
    "df1_grp10 = df1['Description'].value_counts().head(10)\n",
    "df1_grp10"
   ]
  },
  {
   "cell_type": "code",
   "execution_count": 72,
   "id": "73e2fc18",
   "metadata": {
    "ExecuteTime": {
     "end_time": "2021-09-21T08:59:58.991838Z",
     "start_time": "2021-09-21T08:59:58.695186Z"
    }
   },
   "outputs": [
    {
     "data": {
      "image/png": "[encoded data removed]",
      "text/plain": [
       "<Figure size 1152x360 with 1 Axes>"
      ]
     },
     "metadata": {
      "needs_background": "light"
     },
     "output_type": "display_data"
    }
   ],
   "source": [
    "make_bar_plot(y=df1_grp10.index,\n",
    "              x=df1_grp10,\n",
    "              title='Top 10 Popular Product in Des 2009 - Nov 2010',\n",
    "              xlabel='Total',\n",
    "              ylabel='Product')"
   ]
  },
  {
   "cell_type": "markdown",
   "id": "4729f125",
   "metadata": {},
   "source": [
    "### Per Country"
   ]
  },
  {
   "cell_type": "code",
   "execution_count": 73,
   "id": "ade5b0f0",
   "metadata": {
    "ExecuteTime": {
     "end_time": "2021-09-21T08:59:59.030905Z",
     "start_time": "2021-09-21T08:59:58.994808Z"
    }
   },
   "outputs": [
    {
     "data": {
      "text/plain": [
       "United Kingdom     302776\n",
       "EIRE                 6342\n",
       "Germany              6122\n",
       "France               4236\n",
       "Netherlands          1288\n",
       "Spain                 969\n",
       "Switzerland           875\n",
       "Belgium               844\n",
       "Portugal              726\n",
       "Channel Islands       594\n",
       "Name: Country, dtype: int64"
      ]
     },
     "execution_count": 73,
     "metadata": {},
     "output_type": "execute_result"
    }
   ],
   "source": [
    "df1_grp11 = df1['Country'].value_counts().head(10)\n",
    "df1_grp11"
   ]
  },
  {
   "cell_type": "code",
   "execution_count": 74,
   "id": "3a68ebbe",
   "metadata": {
    "ExecuteTime": {
     "end_time": "2021-09-21T08:59:59.326257Z",
     "start_time": "2021-09-21T08:59:59.036420Z"
    }
   },
   "outputs": [
    {
     "data": {
      "image/png": "[encoded data removed]",
      "text/plain": [
       "<Figure size 1152x360 with 1 Axes>"
      ]
     },
     "metadata": {
      "needs_background": "light"
     },
     "output_type": "display_data"
    }
   ],
   "source": [
    "make_bar_plot(y=df1_grp11.index,\n",
    "              x=df1_grp11,\n",
    "              title='Top 10 Country in Des 2009 - Nov 2010',\n",
    "              xlabel='Total',\n",
    "              ylabel='Country')"
   ]
  },
  {
   "cell_type": "markdown",
   "id": "7ac45b4e",
   "metadata": {},
   "source": [
    "## RFM Analysis"
   ]
  },
  {
   "cell_type": "code",
   "execution_count": 75,
   "id": "9afe5b36",
   "metadata": {
    "ExecuteTime": {
     "end_time": "2021-09-21T08:59:59.335282Z",
     "start_time": "2021-09-21T08:59:59.328765Z"
    }
   },
   "outputs": [],
   "source": [
    "def make_displot(data, xlabel):\n",
    "    plt.figure(figsize=(15,6))\n",
    "    sns.distplot(data, kde=True, bins=50)\n",
    "    plt.xlabel(xlabel, fontsize=12)\n",
    "    plt.ylabel('Density', fontsize=12)\n",
    "    plt.title(f'Distribution on {xlabel}', fontsize=15)\n",
    "    plt.show()"
   ]
  },
  {
   "cell_type": "code",
   "execution_count": 76,
   "id": "7c46e09c",
   "metadata": {
    "ExecuteTime": {
     "end_time": "2021-09-21T08:59:59.436521Z",
     "start_time": "2021-09-21T08:59:59.337790Z"
    }
   },
   "outputs": [
    {
     "data": {
      "text/html": [
       "<div>\n",
       "<style scoped>\n",
       "    .dataframe tbody tr th:only-of-type {\n",
       "        vertical-align: middle;\n",
       "    }\n",
       "\n",
       "    .dataframe tbody tr th {\n",
       "        vertical-align: top;\n",
       "    }\n",
       "\n",
       "    .dataframe thead th {\n",
       "        text-align: right;\n",
       "    }\n",
       "</style>\n",
       "<table border=\"1\" class=\"dataframe\">\n",
       "  <thead>\n",
       "    <tr style=\"text-align: right;\">\n",
       "      <th></th>\n",
       "      <th>Customer ID</th>\n",
       "    </tr>\n",
       "  </thead>\n",
       "  <tbody>\n",
       "    <tr>\n",
       "      <th>0</th>\n",
       "      <td>13085</td>\n",
       "    </tr>\n",
       "    <tr>\n",
       "      <th>1</th>\n",
       "      <td>13078</td>\n",
       "    </tr>\n",
       "    <tr>\n",
       "      <th>2</th>\n",
       "      <td>15362</td>\n",
       "    </tr>\n",
       "    <tr>\n",
       "      <th>3</th>\n",
       "      <td>12682</td>\n",
       "    </tr>\n",
       "    <tr>\n",
       "      <th>4</th>\n",
       "      <td>18087</td>\n",
       "    </tr>\n",
       "  </tbody>\n",
       "</table>\n",
       "</div>"
      ],
      "text/plain": [
       "   Customer ID\n",
       "0        13085\n",
       "1        13078\n",
       "2        15362\n",
       "3        12682\n",
       "4        18087"
      ]
     },
     "execution_count": 76,
     "metadata": {},
     "output_type": "execute_result"
    }
   ],
   "source": [
    "df1_customer_unique = pd.DataFrame(df1['Customer ID'].unique()).rename(columns={0:'Customer ID'}).astype(int)\n",
    "df1_customer_unique.head()"
   ]
  },
  {
   "cell_type": "markdown",
   "id": "ce319c0d",
   "metadata": {},
   "source": [
    "### Recency"
   ]
  },
  {
   "cell_type": "code",
   "execution_count": 77,
   "id": "80a3c89a",
   "metadata": {
    "ExecuteTime": {
     "end_time": "2021-09-21T08:59:59.549822Z",
     "start_time": "2021-09-21T08:59:59.439029Z"
    }
   },
   "outputs": [
    {
     "data": {
      "text/html": [
       "<div>\n",
       "<style scoped>\n",
       "    .dataframe tbody tr th:only-of-type {\n",
       "        vertical-align: middle;\n",
       "    }\n",
       "\n",
       "    .dataframe tbody tr th {\n",
       "        vertical-align: top;\n",
       "    }\n",
       "\n",
       "    .dataframe thead th {\n",
       "        text-align: right;\n",
       "    }\n",
       "</style>\n",
       "<table border=\"1\" class=\"dataframe\">\n",
       "  <thead>\n",
       "    <tr style=\"text-align: right;\">\n",
       "      <th></th>\n",
       "      <th>Customer ID</th>\n",
       "      <th>Latest Date</th>\n",
       "    </tr>\n",
       "  </thead>\n",
       "  <tbody>\n",
       "    <tr>\n",
       "      <th>0</th>\n",
       "      <td>12346</td>\n",
       "      <td>2010-06-28 13:53:00</td>\n",
       "    </tr>\n",
       "    <tr>\n",
       "      <th>1</th>\n",
       "      <td>12347</td>\n",
       "      <td>2010-10-31 14:20:00</td>\n",
       "    </tr>\n",
       "    <tr>\n",
       "      <th>2</th>\n",
       "      <td>12348</td>\n",
       "      <td>2010-09-27 14:59:00</td>\n",
       "    </tr>\n",
       "    <tr>\n",
       "      <th>3</th>\n",
       "      <td>12349</td>\n",
       "      <td>2010-10-28 08:23:00</td>\n",
       "    </tr>\n",
       "    <tr>\n",
       "      <th>4</th>\n",
       "      <td>12351</td>\n",
       "      <td>2010-11-29 15:23:00</td>\n",
       "    </tr>\n",
       "  </tbody>\n",
       "</table>\n",
       "</div>"
      ],
      "text/plain": [
       "   Customer ID         Latest Date\n",
       "0        12346 2010-06-28 13:53:00\n",
       "1        12347 2010-10-31 14:20:00\n",
       "2        12348 2010-09-27 14:59:00\n",
       "3        12349 2010-10-28 08:23:00\n",
       "4        12351 2010-11-29 15:23:00"
      ]
     },
     "execution_count": 77,
     "metadata": {},
     "output_type": "execute_result"
    }
   ],
   "source": [
    "df1_recent_trans = df1.groupby('Customer ID')['InvoiceDate'].max().reset_index().rename(columns={'InvoiceDate':'Latest Date'})\n",
    "df1_recent_trans['Customer ID'] = df1_recent_trans['Customer ID'].astype(int)\n",
    "df1_recent_trans.head()"
   ]
  },
  {
   "cell_type": "code",
   "execution_count": 78,
   "id": "6b672387",
   "metadata": {
    "ExecuteTime": {
     "end_time": "2021-09-21T08:59:59.624456Z",
     "start_time": "2021-09-21T08:59:59.551829Z"
    }
   },
   "outputs": [
    {
     "data": {
      "text/html": [
       "<div>\n",
       "<style scoped>\n",
       "    .dataframe tbody tr th:only-of-type {\n",
       "        vertical-align: middle;\n",
       "    }\n",
       "\n",
       "    .dataframe tbody tr th {\n",
       "        vertical-align: top;\n",
       "    }\n",
       "\n",
       "    .dataframe thead th {\n",
       "        text-align: right;\n",
       "    }\n",
       "</style>\n",
       "<table border=\"1\" class=\"dataframe\">\n",
       "  <thead>\n",
       "    <tr style=\"text-align: right;\">\n",
       "      <th></th>\n",
       "      <th>Customer ID</th>\n",
       "      <th>Latest Date</th>\n",
       "      <th>Recency</th>\n",
       "    </tr>\n",
       "  </thead>\n",
       "  <tbody>\n",
       "    <tr>\n",
       "      <th>0</th>\n",
       "      <td>12346</td>\n",
       "      <td>2010-06-28 13:53:00</td>\n",
       "      <td>155</td>\n",
       "    </tr>\n",
       "    <tr>\n",
       "      <th>1</th>\n",
       "      <td>12347</td>\n",
       "      <td>2010-10-31 14:20:00</td>\n",
       "      <td>30</td>\n",
       "    </tr>\n",
       "    <tr>\n",
       "      <th>2</th>\n",
       "      <td>12348</td>\n",
       "      <td>2010-09-27 14:59:00</td>\n",
       "      <td>64</td>\n",
       "    </tr>\n",
       "    <tr>\n",
       "      <th>3</th>\n",
       "      <td>12349</td>\n",
       "      <td>2010-10-28 08:23:00</td>\n",
       "      <td>33</td>\n",
       "    </tr>\n",
       "    <tr>\n",
       "      <th>4</th>\n",
       "      <td>12351</td>\n",
       "      <td>2010-11-29 15:23:00</td>\n",
       "      <td>1</td>\n",
       "    </tr>\n",
       "  </tbody>\n",
       "</table>\n",
       "</div>"
      ],
      "text/plain": [
       "   Customer ID         Latest Date  Recency\n",
       "0        12346 2010-06-28 13:53:00      155\n",
       "1        12347 2010-10-31 14:20:00       30\n",
       "2        12348 2010-09-27 14:59:00       64\n",
       "3        12349 2010-10-28 08:23:00       33\n",
       "4        12351 2010-11-29 15:23:00        1"
      ]
     },
     "execution_count": 78,
     "metadata": {},
     "output_type": "execute_result"
    }
   ],
   "source": [
    "df1_recent_trans['Recency'] = (df1_recent_trans['Latest Date'].max() - df1_recent_trans['Latest Date']).dt.days\n",
    "df1_recent_trans.head()"
   ]
  },
  {
   "cell_type": "code",
   "execution_count": 79,
   "id": "ce4df4b6",
   "metadata": {
    "ExecuteTime": {
     "end_time": "2021-09-21T08:59:59.725815Z",
     "start_time": "2021-09-21T08:59:59.626926Z"
    }
   },
   "outputs": [
    {
     "data": {
      "text/html": [
       "<div>\n",
       "<style scoped>\n",
       "    .dataframe tbody tr th:only-of-type {\n",
       "        vertical-align: middle;\n",
       "    }\n",
       "\n",
       "    .dataframe tbody tr th {\n",
       "        vertical-align: top;\n",
       "    }\n",
       "\n",
       "    .dataframe thead th {\n",
       "        text-align: right;\n",
       "    }\n",
       "</style>\n",
       "<table border=\"1\" class=\"dataframe\">\n",
       "  <thead>\n",
       "    <tr style=\"text-align: right;\">\n",
       "      <th></th>\n",
       "      <th>Customer ID</th>\n",
       "      <th>Recency</th>\n",
       "    </tr>\n",
       "  </thead>\n",
       "  <tbody>\n",
       "    <tr>\n",
       "      <th>0</th>\n",
       "      <td>13085</td>\n",
       "      <td>305</td>\n",
       "    </tr>\n",
       "    <tr>\n",
       "      <th>1</th>\n",
       "      <td>13078</td>\n",
       "      <td>0</td>\n",
       "    </tr>\n",
       "    <tr>\n",
       "      <th>2</th>\n",
       "      <td>15362</td>\n",
       "      <td>74</td>\n",
       "    </tr>\n",
       "    <tr>\n",
       "      <th>3</th>\n",
       "      <td>12682</td>\n",
       "      <td>11</td>\n",
       "    </tr>\n",
       "    <tr>\n",
       "      <th>4</th>\n",
       "      <td>18087</td>\n",
       "      <td>5</td>\n",
       "    </tr>\n",
       "  </tbody>\n",
       "</table>\n",
       "</div>"
      ],
      "text/plain": [
       "   Customer ID  Recency\n",
       "0        13085      305\n",
       "1        13078        0\n",
       "2        15362       74\n",
       "3        12682       11\n",
       "4        18087        5"
      ]
     },
     "execution_count": 79,
     "metadata": {},
     "output_type": "execute_result"
    }
   ],
   "source": [
    "df1_recency = pd.merge(left=df1_customer_unique, \n",
    "                       right=df1_recent_trans[['Customer ID', 'Recency']],\n",
    "                       on='Customer ID')\n",
    "df1_recency.head()"
   ]
  },
  {
   "cell_type": "code",
   "execution_count": 80,
   "id": "5e5b1c4a",
   "metadata": {
    "ExecuteTime": {
     "end_time": "2021-09-21T09:00:00.090731Z",
     "start_time": "2021-09-21T08:59:59.728323Z"
    }
   },
   "outputs": [
    {
     "data": {
      "image/png": "[encoded data removed]",
      "text/plain": [
       "<Figure size 1080x432 with 1 Axes>"
      ]
     },
     "metadata": {
      "needs_background": "light"
     },
     "output_type": "display_data"
    }
   ],
   "source": [
    "make_displot(df1_recency['Recency'], 'Recency')"
   ]
  },
  {
   "cell_type": "markdown",
   "id": "3cf0f9d6",
   "metadata": {},
   "source": [
    "### Frequency"
   ]
  },
  {
   "cell_type": "code",
   "execution_count": 81,
   "id": "7e562af3",
   "metadata": {
    "ExecuteTime": {
     "end_time": "2021-09-21T09:00:00.125797Z",
     "start_time": "2021-09-21T09:00:00.093712Z"
    }
   },
   "outputs": [
    {
     "data": {
      "text/html": [
       "<div>\n",
       "<style scoped>\n",
       "    .dataframe tbody tr th:only-of-type {\n",
       "        vertical-align: middle;\n",
       "    }\n",
       "\n",
       "    .dataframe tbody tr th {\n",
       "        vertical-align: top;\n",
       "    }\n",
       "\n",
       "    .dataframe thead th {\n",
       "        text-align: right;\n",
       "    }\n",
       "</style>\n",
       "<table border=\"1\" class=\"dataframe\">\n",
       "  <thead>\n",
       "    <tr style=\"text-align: right;\">\n",
       "      <th></th>\n",
       "      <th>Customer ID</th>\n",
       "      <th>Frequency</th>\n",
       "    </tr>\n",
       "  </thead>\n",
       "  <tbody>\n",
       "    <tr>\n",
       "      <th>0</th>\n",
       "      <td>12346.0</td>\n",
       "      <td>33</td>\n",
       "    </tr>\n",
       "    <tr>\n",
       "      <th>1</th>\n",
       "      <td>12347.0</td>\n",
       "      <td>39</td>\n",
       "    </tr>\n",
       "    <tr>\n",
       "      <th>2</th>\n",
       "      <td>12348.0</td>\n",
       "      <td>20</td>\n",
       "    </tr>\n",
       "    <tr>\n",
       "      <th>3</th>\n",
       "      <td>12349.0</td>\n",
       "      <td>80</td>\n",
       "    </tr>\n",
       "    <tr>\n",
       "      <th>4</th>\n",
       "      <td>12351.0</td>\n",
       "      <td>20</td>\n",
       "    </tr>\n",
       "  </tbody>\n",
       "</table>\n",
       "</div>"
      ],
      "text/plain": [
       "   Customer ID  Frequency\n",
       "0      12346.0         33\n",
       "1      12347.0         39\n",
       "2      12348.0         20\n",
       "3      12349.0         80\n",
       "4      12351.0         20"
      ]
     },
     "execution_count": 81,
     "metadata": {},
     "output_type": "execute_result"
    }
   ],
   "source": [
    "df1_freq = df1.groupby('Customer ID')['InvoiceDate'].count().reset_index().rename(columns={'InvoiceDate':'Frequency'})\n",
    "df1_freq.head()"
   ]
  },
  {
   "cell_type": "code",
   "execution_count": 82,
   "id": "dec3bab8",
   "metadata": {
    "ExecuteTime": {
     "end_time": "2021-09-21T09:00:00.210991Z",
     "start_time": "2021-09-21T09:00:00.143343Z"
    }
   },
   "outputs": [
    {
     "data": {
      "text/html": [
       "<div>\n",
       "<style scoped>\n",
       "    .dataframe tbody tr th:only-of-type {\n",
       "        vertical-align: middle;\n",
       "    }\n",
       "\n",
       "    .dataframe tbody tr th {\n",
       "        vertical-align: top;\n",
       "    }\n",
       "\n",
       "    .dataframe thead th {\n",
       "        text-align: right;\n",
       "    }\n",
       "</style>\n",
       "<table border=\"1\" class=\"dataframe\">\n",
       "  <thead>\n",
       "    <tr style=\"text-align: right;\">\n",
       "      <th></th>\n",
       "      <th>Customer ID</th>\n",
       "      <th>Recency</th>\n",
       "      <th>Frequency</th>\n",
       "    </tr>\n",
       "  </thead>\n",
       "  <tbody>\n",
       "    <tr>\n",
       "      <th>0</th>\n",
       "      <td>13085</td>\n",
       "      <td>305</td>\n",
       "      <td>61</td>\n",
       "    </tr>\n",
       "    <tr>\n",
       "      <th>1</th>\n",
       "      <td>13078</td>\n",
       "      <td>0</td>\n",
       "      <td>347</td>\n",
       "    </tr>\n",
       "    <tr>\n",
       "      <th>2</th>\n",
       "      <td>15362</td>\n",
       "      <td>74</td>\n",
       "      <td>31</td>\n",
       "    </tr>\n",
       "    <tr>\n",
       "      <th>3</th>\n",
       "      <td>12682</td>\n",
       "      <td>11</td>\n",
       "      <td>400</td>\n",
       "    </tr>\n",
       "    <tr>\n",
       "      <th>4</th>\n",
       "      <td>18087</td>\n",
       "      <td>5</td>\n",
       "      <td>50</td>\n",
       "    </tr>\n",
       "  </tbody>\n",
       "</table>\n",
       "</div>"
      ],
      "text/plain": [
       "   Customer ID  Recency  Frequency\n",
       "0        13085      305         61\n",
       "1        13078        0        347\n",
       "2        15362       74         31\n",
       "3        12682       11        400\n",
       "4        18087        5         50"
      ]
     },
     "execution_count": 82,
     "metadata": {},
     "output_type": "execute_result"
    }
   ],
   "source": [
    "df1_rf = pd.merge(left=df1_recency,\n",
    "                  right=df1_freq,\n",
    "                  on='Customer ID')\n",
    "df1_rf.head()"
   ]
  },
  {
   "cell_type": "code",
   "execution_count": 83,
   "id": "c58a4537",
   "metadata": {
    "ExecuteTime": {
     "end_time": "2021-09-21T09:00:00.643869Z",
     "start_time": "2021-09-21T09:00:00.213534Z"
    }
   },
   "outputs": [
    {
     "data": {
      "image/png": "[encoded data removed]",
      "text/plain": [
       "<Figure size 1080x432 with 1 Axes>"
      ]
     },
     "metadata": {
      "needs_background": "light"
     },
     "output_type": "display_data"
    }
   ],
   "source": [
    "make_displot(df1_rf['Frequency'], 'Frequency')"
   ]
  },
  {
   "cell_type": "markdown",
   "id": "a23e7d09",
   "metadata": {},
   "source": [
    "### Monetary"
   ]
  },
  {
   "cell_type": "code",
   "execution_count": 84,
   "id": "d83e7633",
   "metadata": {
    "ExecuteTime": {
     "end_time": "2021-09-21T09:00:00.675953Z",
     "start_time": "2021-09-21T09:00:00.646375Z"
    }
   },
   "outputs": [
    {
     "data": {
      "text/html": [
       "<div>\n",
       "<style scoped>\n",
       "    .dataframe tbody tr th:only-of-type {\n",
       "        vertical-align: middle;\n",
       "    }\n",
       "\n",
       "    .dataframe tbody tr th {\n",
       "        vertical-align: top;\n",
       "    }\n",
       "\n",
       "    .dataframe thead th {\n",
       "        text-align: right;\n",
       "    }\n",
       "</style>\n",
       "<table border=\"1\" class=\"dataframe\">\n",
       "  <thead>\n",
       "    <tr style=\"text-align: right;\">\n",
       "      <th></th>\n",
       "      <th>Customer ID</th>\n",
       "      <th>Monetary</th>\n",
       "    </tr>\n",
       "  </thead>\n",
       "  <tbody>\n",
       "    <tr>\n",
       "      <th>0</th>\n",
       "      <td>12346.0</td>\n",
       "      <td>372.86</td>\n",
       "    </tr>\n",
       "    <tr>\n",
       "      <th>1</th>\n",
       "      <td>12347.0</td>\n",
       "      <td>573.28</td>\n",
       "    </tr>\n",
       "    <tr>\n",
       "      <th>2</th>\n",
       "      <td>12348.0</td>\n",
       "      <td>222.16</td>\n",
       "    </tr>\n",
       "    <tr>\n",
       "      <th>3</th>\n",
       "      <td>12349.0</td>\n",
       "      <td>1635.89</td>\n",
       "    </tr>\n",
       "    <tr>\n",
       "      <th>4</th>\n",
       "      <td>12351.0</td>\n",
       "      <td>288.18</td>\n",
       "    </tr>\n",
       "  </tbody>\n",
       "</table>\n",
       "</div>"
      ],
      "text/plain": [
       "   Customer ID  Monetary\n",
       "0      12346.0    372.86\n",
       "1      12347.0    573.28\n",
       "2      12348.0    222.16\n",
       "3      12349.0   1635.89\n",
       "4      12351.0    288.18"
      ]
     },
     "execution_count": 84,
     "metadata": {},
     "output_type": "execute_result"
    }
   ],
   "source": [
    "df1_monetary = df1.groupby('Customer ID')['Spend'].sum().reset_index().rename(columns={'Spend':'Monetary'})\n",
    "df1_monetary.head()"
   ]
  },
  {
   "cell_type": "code",
   "execution_count": 85,
   "id": "9b57ea67",
   "metadata": {
    "ExecuteTime": {
     "end_time": "2021-09-21T09:00:00.830340Z",
     "start_time": "2021-09-21T09:00:00.679464Z"
    }
   },
   "outputs": [
    {
     "data": {
      "text/html": [
       "<div>\n",
       "<style scoped>\n",
       "    .dataframe tbody tr th:only-of-type {\n",
       "        vertical-align: middle;\n",
       "    }\n",
       "\n",
       "    .dataframe tbody tr th {\n",
       "        vertical-align: top;\n",
       "    }\n",
       "\n",
       "    .dataframe thead th {\n",
       "        text-align: right;\n",
       "    }\n",
       "</style>\n",
       "<table border=\"1\" class=\"dataframe\">\n",
       "  <thead>\n",
       "    <tr style=\"text-align: right;\">\n",
       "      <th></th>\n",
       "      <th>Customer ID</th>\n",
       "      <th>Recency</th>\n",
       "      <th>Frequency</th>\n",
       "      <th>Monetary</th>\n",
       "    </tr>\n",
       "  </thead>\n",
       "  <tbody>\n",
       "    <tr>\n",
       "      <th>0</th>\n",
       "      <td>13085</td>\n",
       "      <td>305</td>\n",
       "      <td>61</td>\n",
       "      <td>1916.40</td>\n",
       "    </tr>\n",
       "    <tr>\n",
       "      <th>1</th>\n",
       "      <td>13078</td>\n",
       "      <td>0</td>\n",
       "      <td>347</td>\n",
       "      <td>11466.64</td>\n",
       "    </tr>\n",
       "    <tr>\n",
       "      <th>2</th>\n",
       "      <td>15362</td>\n",
       "      <td>74</td>\n",
       "      <td>31</td>\n",
       "      <td>444.81</td>\n",
       "    </tr>\n",
       "    <tr>\n",
       "      <th>3</th>\n",
       "      <td>12682</td>\n",
       "      <td>11</td>\n",
       "      <td>400</td>\n",
       "      <td>7977.27</td>\n",
       "    </tr>\n",
       "    <tr>\n",
       "      <th>4</th>\n",
       "      <td>18087</td>\n",
       "      <td>5</td>\n",
       "      <td>50</td>\n",
       "      <td>1675.26</td>\n",
       "    </tr>\n",
       "  </tbody>\n",
       "</table>\n",
       "</div>"
      ],
      "text/plain": [
       "   Customer ID  Recency  Frequency  Monetary\n",
       "0        13085      305         61   1916.40\n",
       "1        13078        0        347  11466.64\n",
       "2        15362       74         31    444.81\n",
       "3        12682       11        400   7977.27\n",
       "4        18087        5         50   1675.26"
      ]
     },
     "execution_count": 85,
     "metadata": {},
     "output_type": "execute_result"
    }
   ],
   "source": [
    "df1_rfm = pd.merge(left=df1_rf,\n",
    "                   right=df1_monetary,\n",
    "                   on='Customer ID')\n",
    "df1_rfm.head()"
   ]
  },
  {
   "cell_type": "code",
   "execution_count": 86,
   "id": "7507aec4",
   "metadata": {
    "ExecuteTime": {
     "end_time": "2021-09-21T09:00:01.213168Z",
     "start_time": "2021-09-21T09:00:00.834351Z"
    }
   },
   "outputs": [
    {
     "data": {
      "image/png": "[encoded data removed]",
      "text/plain": [
       "<Figure size 1080x432 with 1 Axes>"
      ]
     },
     "metadata": {
      "needs_background": "light"
     },
     "output_type": "display_data"
    }
   ],
   "source": [
    "make_displot(df1_rfm['Monetary'], 'Monetary')"
   ]
  },
  {
   "cell_type": "markdown",
   "id": "e3806888",
   "metadata": {},
   "source": [
    "## Building Model RFM"
   ]
  },
  {
   "cell_type": "markdown",
   "id": "b7be2f90",
   "metadata": {},
   "source": [
    "### Calculate Weight RFM"
   ]
  },
  {
   "cell_type": "code",
   "execution_count": 87,
   "id": "c3999716",
   "metadata": {
    "ExecuteTime": {
     "end_time": "2021-09-21T09:00:01.222190Z",
     "start_time": "2021-09-21T09:00:01.216175Z"
    }
   },
   "outputs": [],
   "source": [
    "df1_rfm = df1_rfm.sort_values(by='Customer ID').reset_index(drop=True)"
   ]
  },
  {
   "cell_type": "code",
   "execution_count": 88,
   "id": "488ed7b4",
   "metadata": {
    "ExecuteTime": {
     "end_time": "2021-09-21T09:00:01.364138Z",
     "start_time": "2021-09-21T09:00:01.224699Z"
    }
   },
   "outputs": [
    {
     "data": {
      "text/html": [
       "<div>\n",
       "<style scoped>\n",
       "    .dataframe tbody tr th:only-of-type {\n",
       "        vertical-align: middle;\n",
       "    }\n",
       "\n",
       "    .dataframe tbody tr th {\n",
       "        vertical-align: top;\n",
       "    }\n",
       "\n",
       "    .dataframe thead th {\n",
       "        text-align: right;\n",
       "    }\n",
       "</style>\n",
       "<table border=\"1\" class=\"dataframe\">\n",
       "  <thead>\n",
       "    <tr style=\"text-align: right;\">\n",
       "      <th></th>\n",
       "      <th>Recency</th>\n",
       "      <th>Frequency</th>\n",
       "      <th>Monetary</th>\n",
       "    </tr>\n",
       "  </thead>\n",
       "  <tbody>\n",
       "    <tr>\n",
       "      <th>count</th>\n",
       "      <td>4096.000000</td>\n",
       "      <td>4096.000000</td>\n",
       "      <td>4096.000000</td>\n",
       "    </tr>\n",
       "    <tr>\n",
       "      <th>mean</th>\n",
       "      <td>87.174805</td>\n",
       "      <td>80.600342</td>\n",
       "      <td>1056.892762</td>\n",
       "    </tr>\n",
       "    <tr>\n",
       "      <th>std</th>\n",
       "      <td>95.081551</td>\n",
       "      <td>169.459371</td>\n",
       "      <td>2314.858825</td>\n",
       "    </tr>\n",
       "    <tr>\n",
       "      <th>min</th>\n",
       "      <td>0.000000</td>\n",
       "      <td>1.000000</td>\n",
       "      <td>0.950000</td>\n",
       "    </tr>\n",
       "    <tr>\n",
       "      <th>25%</th>\n",
       "      <td>15.000000</td>\n",
       "      <td>16.000000</td>\n",
       "      <td>219.952500</td>\n",
       "    </tr>\n",
       "    <tr>\n",
       "      <th>50%</th>\n",
       "      <td>47.000000</td>\n",
       "      <td>38.000000</td>\n",
       "      <td>489.550000</td>\n",
       "    </tr>\n",
       "    <tr>\n",
       "      <th>75%</th>\n",
       "      <td>135.000000</td>\n",
       "      <td>87.000000</td>\n",
       "      <td>1183.540000</td>\n",
       "    </tr>\n",
       "    <tr>\n",
       "      <th>max</th>\n",
       "      <td>364.000000</td>\n",
       "      <td>4425.000000</td>\n",
       "      <td>89915.720000</td>\n",
       "    </tr>\n",
       "  </tbody>\n",
       "</table>\n",
       "</div>"
      ],
      "text/plain": [
       "           Recency    Frequency      Monetary\n",
       "count  4096.000000  4096.000000   4096.000000\n",
       "mean     87.174805    80.600342   1056.892762\n",
       "std      95.081551   169.459371   2314.858825\n",
       "min       0.000000     1.000000      0.950000\n",
       "25%      15.000000    16.000000    219.952500\n",
       "50%      47.000000    38.000000    489.550000\n",
       "75%     135.000000    87.000000   1183.540000\n",
       "max     364.000000  4425.000000  89915.720000"
      ]
     },
     "execution_count": 88,
     "metadata": {},
     "output_type": "execute_result"
    }
   ],
   "source": [
    "df1_rfm[['Recency', 'Frequency', 'Monetary']].describe()"
   ]
  },
  {
   "cell_type": "code",
   "execution_count": 89,
   "id": "8f9b9e3b",
   "metadata": {
    "ExecuteTime": {
     "end_time": "2021-09-21T09:00:01.443848Z",
     "start_time": "2021-09-21T09:00:01.366643Z"
    }
   },
   "outputs": [
    {
     "data": {
      "text/html": [
       "<div>\n",
       "<style scoped>\n",
       "    .dataframe tbody tr th:only-of-type {\n",
       "        vertical-align: middle;\n",
       "    }\n",
       "\n",
       "    .dataframe tbody tr th {\n",
       "        vertical-align: top;\n",
       "    }\n",
       "\n",
       "    .dataframe thead th {\n",
       "        text-align: right;\n",
       "    }\n",
       "</style>\n",
       "<table border=\"1\" class=\"dataframe\">\n",
       "  <thead>\n",
       "    <tr style=\"text-align: right;\">\n",
       "      <th></th>\n",
       "      <th>Customer ID</th>\n",
       "      <th>Recency</th>\n",
       "      <th>Frequency</th>\n",
       "      <th>Monetary</th>\n",
       "    </tr>\n",
       "  </thead>\n",
       "  <tbody>\n",
       "    <tr>\n",
       "      <th>0</th>\n",
       "      <td>12346</td>\n",
       "      <td>155</td>\n",
       "      <td>33</td>\n",
       "      <td>372.86</td>\n",
       "    </tr>\n",
       "    <tr>\n",
       "      <th>1</th>\n",
       "      <td>12347</td>\n",
       "      <td>30</td>\n",
       "      <td>39</td>\n",
       "      <td>573.28</td>\n",
       "    </tr>\n",
       "    <tr>\n",
       "      <th>2</th>\n",
       "      <td>12348</td>\n",
       "      <td>64</td>\n",
       "      <td>20</td>\n",
       "      <td>222.16</td>\n",
       "    </tr>\n",
       "    <tr>\n",
       "      <th>3</th>\n",
       "      <td>12349</td>\n",
       "      <td>33</td>\n",
       "      <td>80</td>\n",
       "      <td>1635.89</td>\n",
       "    </tr>\n",
       "    <tr>\n",
       "      <th>4</th>\n",
       "      <td>12351</td>\n",
       "      <td>1</td>\n",
       "      <td>20</td>\n",
       "      <td>288.18</td>\n",
       "    </tr>\n",
       "  </tbody>\n",
       "</table>\n",
       "</div>"
      ],
      "text/plain": [
       "   Customer ID  Recency  Frequency  Monetary\n",
       "0        12346      155         33    372.86\n",
       "1        12347       30         39    573.28\n",
       "2        12348       64         20    222.16\n",
       "3        12349       33         80   1635.89\n",
       "4        12351        1         20    288.18"
      ]
     },
     "execution_count": 89,
     "metadata": {},
     "output_type": "execute_result"
    }
   ],
   "source": [
    "df1_rfm.head()"
   ]
  },
  {
   "cell_type": "markdown",
   "id": "db5010a9",
   "metadata": {},
   "source": [
    "**Function to Find Optimum Cluster**"
   ]
  },
  {
   "cell_type": "code",
   "execution_count": 90,
   "id": "9161ad6b",
   "metadata": {
    "ExecuteTime": {
     "end_time": "2021-09-21T09:00:01.576530Z",
     "start_time": "2021-09-21T09:00:01.446356Z"
    }
   },
   "outputs": [],
   "source": [
    "def find_cluster(data, max_k):\n",
    "    sse = {}\n",
    "    df = data\n",
    "    for k in range(1, max_k):\n",
    "        kmeans = KMeans(n_clusters=k, max_iter=1000, random_state=0).fit(df)\n",
    "        df['Cluster'] = kmeans.labels_\n",
    "        sse[k] = kmeans.inertia_\n",
    "    \n",
    "    plt.figure(figsize=(16,5))\n",
    "    plt.plot(list(sse.keys()), list(sse.values()))\n",
    "    plt.xticks(np.arange(1,max_k))\n",
    "    plt.xlabel('Number of cluster', fontsize=12)\n",
    "    plt.ylabel('Inertia', fontsize=12)\n",
    "    plt.title('Optimum Number of Cluster', fontsize=15)\n",
    "    plt.show()"
   ]
  },
  {
   "cell_type": "markdown",
   "id": "526a9767",
   "metadata": {},
   "source": [
    "**Function to Make Scatterplot**"
   ]
  },
  {
   "cell_type": "code",
   "execution_count": 91,
   "id": "d422f020",
   "metadata": {
    "ExecuteTime": {
     "end_time": "2021-09-21T09:00:01.695645Z",
     "start_time": "2021-09-21T09:00:01.579037Z"
    }
   },
   "outputs": [],
   "source": [
    "def make_scatter(data_x, data_y, xlabel):\n",
    "    plt.figure(figsize=(16,5))\n",
    "    sns.scatterplot(data_x, data_y)\n",
    "    plt.xlabel(xlabel, fontsize=12)\n",
    "    plt.ylabel(f'{xlabel} Cluster', fontsize=12)\n",
    "    plt.title(f'Scatter Plot {xlabel} and {xlabel} Cluster', fontsize=15)\n",
    "    plt.show()"
   ]
  },
  {
   "cell_type": "markdown",
   "id": "3846be8c",
   "metadata": {},
   "source": [
    "**Recency**"
   ]
  },
  {
   "cell_type": "code",
   "execution_count": 92,
   "id": "c4e163ec",
   "metadata": {
    "ExecuteTime": {
     "end_time": "2021-09-21T09:00:03.146912Z",
     "start_time": "2021-09-21T09:00:01.698025Z"
    }
   },
   "outputs": [
    {
     "data": {
      "image/png": "[encoded data removed]",
      "text/plain": [
       "<Figure size 1152x360 with 1 Axes>"
      ]
     },
     "metadata": {
      "needs_background": "light"
     },
     "output_type": "display_data"
    }
   ],
   "source": [
    "find_cluster(df1_rfm[['Recency']], 11)"
   ]
  },
  {
   "cell_type": "code",
   "execution_count": 93,
   "id": "00c18284",
   "metadata": {
    "ExecuteTime": {
     "end_time": "2021-09-21T09:00:03.233142Z",
     "start_time": "2021-09-21T09:00:03.149920Z"
    }
   },
   "outputs": [],
   "source": [
    "kmeans = KMeans(n_clusters=3, random_state=0).fit(df1_rfm[['Recency']])\n",
    "df1_rfm['Recency Cluster'] = kmeans.predict(df1_rfm[['Recency']])"
   ]
  },
  {
   "cell_type": "code",
   "execution_count": 94,
   "id": "6e1e992b",
   "metadata": {
    "ExecuteTime": {
     "end_time": "2021-09-21T09:00:03.451221Z",
     "start_time": "2021-09-21T09:00:03.235146Z"
    }
   },
   "outputs": [
    {
     "data": {
      "image/png": "[encoded data removed]",
      "text/plain": [
       "<Figure size 1152x360 with 1 Axes>"
      ]
     },
     "metadata": {
      "needs_background": "light"
     },
     "output_type": "display_data"
    }
   ],
   "source": [
    "make_scatter(df1_rfm['Recency'], df1_rfm['Recency Cluster'], 'Recency')"
   ]
  },
  {
   "cell_type": "code",
   "execution_count": 95,
   "id": "2be4d2e2",
   "metadata": {
    "ExecuteTime": {
     "end_time": "2021-09-21T09:00:03.461785Z",
     "start_time": "2021-09-21T09:00:03.454730Z"
    }
   },
   "outputs": [],
   "source": [
    "cluster_swap = {0:1, 1:2, 2:0}\n",
    "df1_rfm['Recency Cluster'] = df1_rfm['Recency Cluster'].replace(cluster_swap)"
   ]
  },
  {
   "cell_type": "code",
   "execution_count": 96,
   "id": "5f3c33e4",
   "metadata": {
    "ExecuteTime": {
     "end_time": "2021-09-21T09:00:03.731311Z",
     "start_time": "2021-09-21T09:00:03.464256Z"
    }
   },
   "outputs": [
    {
     "data": {
      "image/png": "[encoded data removed]",
      "text/plain": [
       "<Figure size 1152x360 with 1 Axes>"
      ]
     },
     "metadata": {
      "needs_background": "light"
     },
     "output_type": "display_data"
    }
   ],
   "source": [
    "make_scatter(df1_rfm['Recency'], df1_rfm['Recency Cluster'], 'Recency')"
   ]
  },
  {
   "cell_type": "code",
   "execution_count": 97,
   "id": "0d24a998",
   "metadata": {
    "ExecuteTime": {
     "end_time": "2021-09-21T09:00:03.743304Z",
     "start_time": "2021-09-21T09:00:03.733778Z"
    }
   },
   "outputs": [
    {
     "data": {
      "text/html": [
       "<div>\n",
       "<style scoped>\n",
       "    .dataframe tbody tr th:only-of-type {\n",
       "        vertical-align: middle;\n",
       "    }\n",
       "\n",
       "    .dataframe tbody tr th {\n",
       "        vertical-align: top;\n",
       "    }\n",
       "\n",
       "    .dataframe thead th {\n",
       "        text-align: right;\n",
       "    }\n",
       "</style>\n",
       "<table border=\"1\" class=\"dataframe\">\n",
       "  <thead>\n",
       "    <tr style=\"text-align: right;\">\n",
       "      <th></th>\n",
       "      <th>Customer ID</th>\n",
       "      <th>Recency</th>\n",
       "      <th>Frequency</th>\n",
       "      <th>Monetary</th>\n",
       "      <th>Recency Cluster</th>\n",
       "    </tr>\n",
       "  </thead>\n",
       "  <tbody>\n",
       "    <tr>\n",
       "      <th>0</th>\n",
       "      <td>12346</td>\n",
       "      <td>155</td>\n",
       "      <td>33</td>\n",
       "      <td>372.86</td>\n",
       "      <td>1</td>\n",
       "    </tr>\n",
       "    <tr>\n",
       "      <th>1</th>\n",
       "      <td>12347</td>\n",
       "      <td>30</td>\n",
       "      <td>39</td>\n",
       "      <td>573.28</td>\n",
       "      <td>2</td>\n",
       "    </tr>\n",
       "    <tr>\n",
       "      <th>2</th>\n",
       "      <td>12348</td>\n",
       "      <td>64</td>\n",
       "      <td>20</td>\n",
       "      <td>222.16</td>\n",
       "      <td>2</td>\n",
       "    </tr>\n",
       "    <tr>\n",
       "      <th>3</th>\n",
       "      <td>12349</td>\n",
       "      <td>33</td>\n",
       "      <td>80</td>\n",
       "      <td>1635.89</td>\n",
       "      <td>2</td>\n",
       "    </tr>\n",
       "    <tr>\n",
       "      <th>4</th>\n",
       "      <td>12351</td>\n",
       "      <td>1</td>\n",
       "      <td>20</td>\n",
       "      <td>288.18</td>\n",
       "      <td>2</td>\n",
       "    </tr>\n",
       "  </tbody>\n",
       "</table>\n",
       "</div>"
      ],
      "text/plain": [
       "   Customer ID  Recency  Frequency  Monetary  Recency Cluster\n",
       "0        12346      155         33    372.86                1\n",
       "1        12347       30         39    573.28                2\n",
       "2        12348       64         20    222.16                2\n",
       "3        12349       33         80   1635.89                2\n",
       "4        12351        1         20    288.18                2"
      ]
     },
     "execution_count": 97,
     "metadata": {},
     "output_type": "execute_result"
    }
   ],
   "source": [
    "df1_rfm.head()"
   ]
  },
  {
   "cell_type": "markdown",
   "id": "722e82d9",
   "metadata": {},
   "source": [
    "**Frequency**"
   ]
  },
  {
   "cell_type": "code",
   "execution_count": 98,
   "id": "ab7d1f34",
   "metadata": {
    "ExecuteTime": {
     "end_time": "2021-09-21T09:00:04.925654Z",
     "start_time": "2021-09-21T09:00:03.745811Z"
    }
   },
   "outputs": [
    {
     "data": {
      "image/png": "[encoded data removed]",
      "text/plain": [
       "<Figure size 1152x360 with 1 Axes>"
      ]
     },
     "metadata": {
      "needs_background": "light"
     },
     "output_type": "display_data"
    }
   ],
   "source": [
    "find_cluster(df1_rfm[['Frequency']], 11)"
   ]
  },
  {
   "cell_type": "code",
   "execution_count": 99,
   "id": "8bc3af2b",
   "metadata": {
    "ExecuteTime": {
     "end_time": "2021-09-21T09:00:05.016894Z",
     "start_time": "2021-09-21T09:00:04.928159Z"
    }
   },
   "outputs": [],
   "source": [
    "kmeans = KMeans(n_clusters=3, random_state=0).fit(df1_rfm[['Frequency']])\n",
    "df1_rfm['Frequency Cluster'] = kmeans.predict(df1_rfm[['Frequency']])"
   ]
  },
  {
   "cell_type": "code",
   "execution_count": 100,
   "id": "7674a6c8",
   "metadata": {
    "ExecuteTime": {
     "end_time": "2021-09-21T09:00:05.231465Z",
     "start_time": "2021-09-21T09:00:05.018900Z"
    }
   },
   "outputs": [
    {
     "data": {
      "image/png": "[encoded data removed]",
      "text/plain": [
       "<Figure size 1152x360 with 1 Axes>"
      ]
     },
     "metadata": {
      "needs_background": "light"
     },
     "output_type": "display_data"
    }
   ],
   "source": [
    "make_scatter(df1_rfm['Frequency'], df1_rfm['Frequency Cluster'], 'Frequency')"
   ]
  },
  {
   "cell_type": "code",
   "execution_count": 101,
   "id": "de3dd815",
   "metadata": {
    "ExecuteTime": {
     "end_time": "2021-09-21T09:00:05.246007Z",
     "start_time": "2021-09-21T09:00:05.234474Z"
    }
   },
   "outputs": [
    {
     "data": {
      "text/html": [
       "<div>\n",
       "<style scoped>\n",
       "    .dataframe tbody tr th:only-of-type {\n",
       "        vertical-align: middle;\n",
       "    }\n",
       "\n",
       "    .dataframe tbody tr th {\n",
       "        vertical-align: top;\n",
       "    }\n",
       "\n",
       "    .dataframe thead th {\n",
       "        text-align: right;\n",
       "    }\n",
       "</style>\n",
       "<table border=\"1\" class=\"dataframe\">\n",
       "  <thead>\n",
       "    <tr style=\"text-align: right;\">\n",
       "      <th></th>\n",
       "      <th>Customer ID</th>\n",
       "      <th>Recency</th>\n",
       "      <th>Frequency</th>\n",
       "      <th>Monetary</th>\n",
       "      <th>Recency Cluster</th>\n",
       "      <th>Frequency Cluster</th>\n",
       "    </tr>\n",
       "  </thead>\n",
       "  <tbody>\n",
       "    <tr>\n",
       "      <th>0</th>\n",
       "      <td>12346</td>\n",
       "      <td>155</td>\n",
       "      <td>33</td>\n",
       "      <td>372.86</td>\n",
       "      <td>1</td>\n",
       "      <td>0</td>\n",
       "    </tr>\n",
       "    <tr>\n",
       "      <th>1</th>\n",
       "      <td>12347</td>\n",
       "      <td>30</td>\n",
       "      <td>39</td>\n",
       "      <td>573.28</td>\n",
       "      <td>2</td>\n",
       "      <td>0</td>\n",
       "    </tr>\n",
       "    <tr>\n",
       "      <th>2</th>\n",
       "      <td>12348</td>\n",
       "      <td>64</td>\n",
       "      <td>20</td>\n",
       "      <td>222.16</td>\n",
       "      <td>2</td>\n",
       "      <td>0</td>\n",
       "    </tr>\n",
       "    <tr>\n",
       "      <th>3</th>\n",
       "      <td>12349</td>\n",
       "      <td>33</td>\n",
       "      <td>80</td>\n",
       "      <td>1635.89</td>\n",
       "      <td>2</td>\n",
       "      <td>0</td>\n",
       "    </tr>\n",
       "    <tr>\n",
       "      <th>4</th>\n",
       "      <td>12351</td>\n",
       "      <td>1</td>\n",
       "      <td>20</td>\n",
       "      <td>288.18</td>\n",
       "      <td>2</td>\n",
       "      <td>0</td>\n",
       "    </tr>\n",
       "  </tbody>\n",
       "</table>\n",
       "</div>"
      ],
      "text/plain": [
       "   Customer ID  Recency  Frequency  Monetary  Recency Cluster  \\\n",
       "0        12346      155         33    372.86                1   \n",
       "1        12347       30         39    573.28                2   \n",
       "2        12348       64         20    222.16                2   \n",
       "3        12349       33         80   1635.89                2   \n",
       "4        12351        1         20    288.18                2   \n",
       "\n",
       "   Frequency Cluster  \n",
       "0                  0  \n",
       "1                  0  \n",
       "2                  0  \n",
       "3                  0  \n",
       "4                  0  "
      ]
     },
     "execution_count": 101,
     "metadata": {},
     "output_type": "execute_result"
    }
   ],
   "source": [
    "df1_rfm.head()"
   ]
  },
  {
   "cell_type": "markdown",
   "id": "e7317410",
   "metadata": {},
   "source": [
    "**Monetary**"
   ]
  },
  {
   "cell_type": "code",
   "execution_count": 102,
   "id": "da3b8dc1",
   "metadata": {
    "ExecuteTime": {
     "end_time": "2021-09-21T09:00:06.468929Z",
     "start_time": "2021-09-21T09:00:05.248511Z"
    }
   },
   "outputs": [
    {
     "data": {
      "image/png": "[encoded data removed]",
      "text/plain": [
       "<Figure size 1152x360 with 1 Axes>"
      ]
     },
     "metadata": {
      "needs_background": "light"
     },
     "output_type": "display_data"
    }
   ],
   "source": [
    "find_cluster(df1_rfm[['Monetary']], 11)"
   ]
  },
  {
   "cell_type": "code",
   "execution_count": 103,
   "id": "1558995b",
   "metadata": {
    "ExecuteTime": {
     "end_time": "2021-09-21T09:00:06.566688Z",
     "start_time": "2021-09-21T09:00:06.471937Z"
    }
   },
   "outputs": [],
   "source": [
    "kmeans = KMeans(n_clusters=3, random_state=0).fit(df1_rfm[['Monetary']])\n",
    "df1_rfm['Monetary Cluster'] = kmeans.predict(df1_rfm[['Monetary']])"
   ]
  },
  {
   "cell_type": "code",
   "execution_count": 104,
   "id": "4c08430d",
   "metadata": {
    "ExecuteTime": {
     "end_time": "2021-09-21T09:00:06.768224Z",
     "start_time": "2021-09-21T09:00:06.568696Z"
    }
   },
   "outputs": [
    {
     "data": {
      "image/png": "[encoded data removed]",
      "text/plain": [
       "<Figure size 1152x360 with 1 Axes>"
      ]
     },
     "metadata": {
      "needs_background": "light"
     },
     "output_type": "display_data"
    }
   ],
   "source": [
    "make_scatter(df1_rfm['Monetary'], df1_rfm['Monetary Cluster'], 'Monetary')"
   ]
  },
  {
   "cell_type": "code",
   "execution_count": 105,
   "id": "7bf2fcdb",
   "metadata": {
    "ExecuteTime": {
     "end_time": "2021-09-21T09:00:06.777749Z",
     "start_time": "2021-09-21T09:00:06.770732Z"
    }
   },
   "outputs": [],
   "source": [
    "cluster_swap = {0:1, 1:0}\n",
    "df1_rfm['Monetary Cluster'] = df1_rfm['Monetary Cluster'].replace(cluster_swap)"
   ]
  },
  {
   "cell_type": "code",
   "execution_count": 106,
   "id": "31f0c0db",
   "metadata": {
    "ExecuteTime": {
     "end_time": "2021-09-21T09:00:07.048031Z",
     "start_time": "2021-09-21T09:00:06.779254Z"
    }
   },
   "outputs": [
    {
     "data": {
      "image/png": "[encoded data removed]",
      "text/plain": [
       "<Figure size 1152x360 with 1 Axes>"
      ]
     },
     "metadata": {
      "needs_background": "light"
     },
     "output_type": "display_data"
    }
   ],
   "source": [
    "make_scatter(df1_rfm['Monetary'], df1_rfm['Monetary Cluster'], 'Monetary')"
   ]
  },
  {
   "cell_type": "markdown",
   "id": "eaeaa64d",
   "metadata": {},
   "source": [
    "### Scoring"
   ]
  },
  {
   "cell_type": "code",
   "execution_count": 107,
   "id": "1616bf6b",
   "metadata": {
    "ExecuteTime": {
     "end_time": "2021-09-21T09:00:07.057014Z",
     "start_time": "2021-09-21T09:00:07.050496Z"
    }
   },
   "outputs": [],
   "source": [
    "df1_rfm['Score'] = df1_rfm['Recency Cluster']+df1_rfm['Frequency Cluster']+df1_rfm['Monetary Cluster']"
   ]
  },
  {
   "cell_type": "code",
   "execution_count": 108,
   "id": "dfcf6db0",
   "metadata": {
    "ExecuteTime": {
     "end_time": "2021-09-21T09:00:07.916974Z",
     "start_time": "2021-09-21T09:00:07.059018Z"
    }
   },
   "outputs": [
    {
     "data": {
      "image/png": "[encoded data removed]",
      "text/plain": [
       "<Figure size 1152x360 with 1 Axes>"
      ]
     },
     "metadata": {
      "needs_background": "light"
     },
     "output_type": "display_data"
    }
   ],
   "source": [
    "find_cluster(df1_rfm[['Score']], 11)"
   ]
  },
  {
   "cell_type": "code",
   "execution_count": 109,
   "id": "ff65436d",
   "metadata": {
    "ExecuteTime": {
     "end_time": "2021-09-21T09:00:07.964097Z",
     "start_time": "2021-09-21T09:00:07.919479Z"
    }
   },
   "outputs": [],
   "source": [
    "kmeans = KMeans(n_clusters=3, random_state=0).fit(df1_rfm[['Score']])\n",
    "df1_rfm['Score Cluster'] = kmeans.predict(df1_rfm[['Score']])"
   ]
  },
  {
   "cell_type": "code",
   "execution_count": 110,
   "id": "13094fc9",
   "metadata": {
    "ExecuteTime": {
     "end_time": "2021-09-21T09:00:08.205740Z",
     "start_time": "2021-09-21T09:00:07.966103Z"
    }
   },
   "outputs": [
    {
     "data": {
      "image/png": "[encoded data removed]",
      "text/plain": [
       "<Figure size 1152x360 with 1 Axes>"
      ]
     },
     "metadata": {
      "needs_background": "light"
     },
     "output_type": "display_data"
    }
   ],
   "source": [
    "make_scatter(df1_rfm['Score'], df1_rfm['Score Cluster'], 'Score')"
   ]
  },
  {
   "cell_type": "code",
   "execution_count": 111,
   "id": "5789d148",
   "metadata": {
    "ExecuteTime": {
     "end_time": "2021-09-21T09:00:08.213762Z",
     "start_time": "2021-09-21T09:00:08.207746Z"
    }
   },
   "outputs": [],
   "source": [
    "cluster_swap = {0:2, 1:0, 2:1}\n",
    "df1_rfm['Score Cluster'] = df1_rfm['Score Cluster'].replace(cluster_swap)"
   ]
  },
  {
   "cell_type": "code",
   "execution_count": 112,
   "id": "34843a9b",
   "metadata": {
    "ExecuteTime": {
     "end_time": "2021-09-21T09:00:08.536987Z",
     "start_time": "2021-09-21T09:00:08.216770Z"
    }
   },
   "outputs": [
    {
     "data": {
      "image/png": "[encoded data removed]",
      "text/plain": [
       "<Figure size 1152x360 with 1 Axes>"
      ]
     },
     "metadata": {
      "needs_background": "light"
     },
     "output_type": "display_data"
    }
   ],
   "source": [
    "make_scatter(df1_rfm['Score'], df1_rfm['Score Cluster'], 'Score')"
   ]
  },
  {
   "cell_type": "code",
   "execution_count": 113,
   "id": "d6eae9be",
   "metadata": {
    "ExecuteTime": {
     "end_time": "2021-09-21T09:00:08.553030Z",
     "start_time": "2021-09-21T09:00:08.539493Z"
    }
   },
   "outputs": [
    {
     "data": {
      "text/html": [
       "<div>\n",
       "<style scoped>\n",
       "    .dataframe tbody tr th:only-of-type {\n",
       "        vertical-align: middle;\n",
       "    }\n",
       "\n",
       "    .dataframe tbody tr th {\n",
       "        vertical-align: top;\n",
       "    }\n",
       "\n",
       "    .dataframe thead th {\n",
       "        text-align: right;\n",
       "    }\n",
       "</style>\n",
       "<table border=\"1\" class=\"dataframe\">\n",
       "  <thead>\n",
       "    <tr style=\"text-align: right;\">\n",
       "      <th></th>\n",
       "      <th>Customer ID</th>\n",
       "      <th>Recency</th>\n",
       "      <th>Frequency</th>\n",
       "      <th>Monetary</th>\n",
       "      <th>Recency Cluster</th>\n",
       "      <th>Frequency Cluster</th>\n",
       "      <th>Monetary Cluster</th>\n",
       "      <th>Score</th>\n",
       "      <th>Score Cluster</th>\n",
       "    </tr>\n",
       "  </thead>\n",
       "  <tbody>\n",
       "    <tr>\n",
       "      <th>0</th>\n",
       "      <td>12346</td>\n",
       "      <td>155</td>\n",
       "      <td>33</td>\n",
       "      <td>372.86</td>\n",
       "      <td>1</td>\n",
       "      <td>0</td>\n",
       "      <td>0</td>\n",
       "      <td>1</td>\n",
       "      <td>0</td>\n",
       "    </tr>\n",
       "    <tr>\n",
       "      <th>1</th>\n",
       "      <td>12347</td>\n",
       "      <td>30</td>\n",
       "      <td>39</td>\n",
       "      <td>573.28</td>\n",
       "      <td>2</td>\n",
       "      <td>0</td>\n",
       "      <td>0</td>\n",
       "      <td>2</td>\n",
       "      <td>1</td>\n",
       "    </tr>\n",
       "    <tr>\n",
       "      <th>2</th>\n",
       "      <td>12348</td>\n",
       "      <td>64</td>\n",
       "      <td>20</td>\n",
       "      <td>222.16</td>\n",
       "      <td>2</td>\n",
       "      <td>0</td>\n",
       "      <td>0</td>\n",
       "      <td>2</td>\n",
       "      <td>1</td>\n",
       "    </tr>\n",
       "    <tr>\n",
       "      <th>3</th>\n",
       "      <td>12349</td>\n",
       "      <td>33</td>\n",
       "      <td>80</td>\n",
       "      <td>1635.89</td>\n",
       "      <td>2</td>\n",
       "      <td>0</td>\n",
       "      <td>0</td>\n",
       "      <td>2</td>\n",
       "      <td>1</td>\n",
       "    </tr>\n",
       "    <tr>\n",
       "      <th>4</th>\n",
       "      <td>12351</td>\n",
       "      <td>1</td>\n",
       "      <td>20</td>\n",
       "      <td>288.18</td>\n",
       "      <td>2</td>\n",
       "      <td>0</td>\n",
       "      <td>0</td>\n",
       "      <td>2</td>\n",
       "      <td>1</td>\n",
       "    </tr>\n",
       "  </tbody>\n",
       "</table>\n",
       "</div>"
      ],
      "text/plain": [
       "   Customer ID  Recency  Frequency  Monetary  Recency Cluster  \\\n",
       "0        12346      155         33    372.86                1   \n",
       "1        12347       30         39    573.28                2   \n",
       "2        12348       64         20    222.16                2   \n",
       "3        12349       33         80   1635.89                2   \n",
       "4        12351        1         20    288.18                2   \n",
       "\n",
       "   Frequency Cluster  Monetary Cluster  Score  Score Cluster  \n",
       "0                  0                 0      1              0  \n",
       "1                  0                 0      2              1  \n",
       "2                  0                 0      2              1  \n",
       "3                  0                 0      2              1  \n",
       "4                  0                 0      2              1  "
      ]
     },
     "execution_count": 113,
     "metadata": {},
     "output_type": "execute_result"
    }
   ],
   "source": [
    "df1_rfm.head()"
   ]
  },
  {
   "cell_type": "code",
   "execution_count": 114,
   "id": "ec5d9097",
   "metadata": {
    "ExecuteTime": {
     "end_time": "2021-09-21T09:00:08.662265Z",
     "start_time": "2021-09-21T09:00:08.555537Z"
    }
   },
   "outputs": [],
   "source": [
    "cluster_swap = {0:'Low Value Customer', 1:'Medium Value Customer', 2:'High Value Customer'}\n",
    "df1_rfm['Score Cluster'] = df1_rfm['Score Cluster'].replace(cluster_swap)\n",
    "df1_rfm = df1_rfm.rename(columns={'Score Cluster':'Label'})"
   ]
  },
  {
   "cell_type": "code",
   "execution_count": 115,
   "id": "b21cfced",
   "metadata": {
    "ExecuteTime": {
     "end_time": "2021-09-21T09:00:08.766651Z",
     "start_time": "2021-09-21T09:00:08.665738Z"
    }
   },
   "outputs": [
    {
     "data": {
      "text/html": [
       "<div>\n",
       "<style scoped>\n",
       "    .dataframe tbody tr th:only-of-type {\n",
       "        vertical-align: middle;\n",
       "    }\n",
       "\n",
       "    .dataframe tbody tr th {\n",
       "        vertical-align: top;\n",
       "    }\n",
       "\n",
       "    .dataframe thead th {\n",
       "        text-align: right;\n",
       "    }\n",
       "</style>\n",
       "<table border=\"1\" class=\"dataframe\">\n",
       "  <thead>\n",
       "    <tr style=\"text-align: right;\">\n",
       "      <th></th>\n",
       "      <th>Customer ID</th>\n",
       "      <th>Recency</th>\n",
       "      <th>Frequency</th>\n",
       "      <th>Monetary</th>\n",
       "      <th>Recency Cluster</th>\n",
       "      <th>Frequency Cluster</th>\n",
       "      <th>Monetary Cluster</th>\n",
       "      <th>Score</th>\n",
       "      <th>Label</th>\n",
       "    </tr>\n",
       "  </thead>\n",
       "  <tbody>\n",
       "    <tr>\n",
       "      <th>0</th>\n",
       "      <td>12346</td>\n",
       "      <td>155</td>\n",
       "      <td>33</td>\n",
       "      <td>372.86</td>\n",
       "      <td>1</td>\n",
       "      <td>0</td>\n",
       "      <td>0</td>\n",
       "      <td>1</td>\n",
       "      <td>Low Value Customer</td>\n",
       "    </tr>\n",
       "    <tr>\n",
       "      <th>1</th>\n",
       "      <td>12347</td>\n",
       "      <td>30</td>\n",
       "      <td>39</td>\n",
       "      <td>573.28</td>\n",
       "      <td>2</td>\n",
       "      <td>0</td>\n",
       "      <td>0</td>\n",
       "      <td>2</td>\n",
       "      <td>Medium Value Customer</td>\n",
       "    </tr>\n",
       "    <tr>\n",
       "      <th>2</th>\n",
       "      <td>12348</td>\n",
       "      <td>64</td>\n",
       "      <td>20</td>\n",
       "      <td>222.16</td>\n",
       "      <td>2</td>\n",
       "      <td>0</td>\n",
       "      <td>0</td>\n",
       "      <td>2</td>\n",
       "      <td>Medium Value Customer</td>\n",
       "    </tr>\n",
       "    <tr>\n",
       "      <th>3</th>\n",
       "      <td>12349</td>\n",
       "      <td>33</td>\n",
       "      <td>80</td>\n",
       "      <td>1635.89</td>\n",
       "      <td>2</td>\n",
       "      <td>0</td>\n",
       "      <td>0</td>\n",
       "      <td>2</td>\n",
       "      <td>Medium Value Customer</td>\n",
       "    </tr>\n",
       "    <tr>\n",
       "      <th>4</th>\n",
       "      <td>12351</td>\n",
       "      <td>1</td>\n",
       "      <td>20</td>\n",
       "      <td>288.18</td>\n",
       "      <td>2</td>\n",
       "      <td>0</td>\n",
       "      <td>0</td>\n",
       "      <td>2</td>\n",
       "      <td>Medium Value Customer</td>\n",
       "    </tr>\n",
       "  </tbody>\n",
       "</table>\n",
       "</div>"
      ],
      "text/plain": [
       "   Customer ID  Recency  Frequency  Monetary  Recency Cluster  \\\n",
       "0        12346      155         33    372.86                1   \n",
       "1        12347       30         39    573.28                2   \n",
       "2        12348       64         20    222.16                2   \n",
       "3        12349       33         80   1635.89                2   \n",
       "4        12351        1         20    288.18                2   \n",
       "\n",
       "   Frequency Cluster  Monetary Cluster  Score                  Label  \n",
       "0                  0                 0      1     Low Value Customer  \n",
       "1                  0                 0      2  Medium Value Customer  \n",
       "2                  0                 0      2  Medium Value Customer  \n",
       "3                  0                 0      2  Medium Value Customer  \n",
       "4                  0                 0      2  Medium Value Customer  "
      ]
     },
     "execution_count": 115,
     "metadata": {},
     "output_type": "execute_result"
    }
   ],
   "source": [
    "df1_rfm.head()"
   ]
  },
  {
   "cell_type": "markdown",
   "id": "cf9dc423",
   "metadata": {},
   "source": [
    "### Analysis Based on Label"
   ]
  },
  {
   "cell_type": "markdown",
   "id": "579a18c4",
   "metadata": {},
   "source": [
    "**Number of Customer After Segmentation**"
   ]
  },
  {
   "cell_type": "code",
   "execution_count": 116,
   "id": "62c96d94",
   "metadata": {
    "ExecuteTime": {
     "end_time": "2021-09-21T09:00:08.877559Z",
     "start_time": "2021-09-21T09:00:08.769159Z"
    }
   },
   "outputs": [
    {
     "data": {
      "text/html": [
       "<div>\n",
       "<style scoped>\n",
       "    .dataframe tbody tr th:only-of-type {\n",
       "        vertical-align: middle;\n",
       "    }\n",
       "\n",
       "    .dataframe tbody tr th {\n",
       "        vertical-align: top;\n",
       "    }\n",
       "\n",
       "    .dataframe thead th {\n",
       "        text-align: right;\n",
       "    }\n",
       "</style>\n",
       "<table border=\"1\" class=\"dataframe\">\n",
       "  <thead>\n",
       "    <tr style=\"text-align: right;\">\n",
       "      <th></th>\n",
       "      <th>Label</th>\n",
       "      <th>Count</th>\n",
       "    </tr>\n",
       "  </thead>\n",
       "  <tbody>\n",
       "    <tr>\n",
       "      <th>0</th>\n",
       "      <td>Low Value Customer</td>\n",
       "      <td>1350</td>\n",
       "    </tr>\n",
       "    <tr>\n",
       "      <th>1</th>\n",
       "      <td>Medium Value Customer</td>\n",
       "      <td>2388</td>\n",
       "    </tr>\n",
       "    <tr>\n",
       "      <th>2</th>\n",
       "      <td>High Value Customer</td>\n",
       "      <td>358</td>\n",
       "    </tr>\n",
       "  </tbody>\n",
       "</table>\n",
       "</div>"
      ],
      "text/plain": [
       "                   Label  Count\n",
       "0     Low Value Customer   1350\n",
       "1  Medium Value Customer   2388\n",
       "2    High Value Customer    358"
      ]
     },
     "execution_count": 116,
     "metadata": {},
     "output_type": "execute_result"
    }
   ],
   "source": [
    "df1_rfm['Label'].value_counts().reindex(['Low Value Customer',\n",
    "                                         'Medium Value Customer',\n",
    "                                         'High Value Customer']).reset_index().rename(columns={'index':'Label',\n",
    "                                                                                               'Label':'Count'})"
   ]
  },
  {
   "cell_type": "code",
   "execution_count": 117,
   "id": "f66de4b4",
   "metadata": {
    "ExecuteTime": {
     "end_time": "2021-09-21T09:00:09.076536Z",
     "start_time": "2021-09-21T09:00:08.880567Z"
    }
   },
   "outputs": [
    {
     "data": {
      "image/png": "[encoded data removed]",
      "text/plain": [
       "<Figure size 720x360 with 1 Axes>"
      ]
     },
     "metadata": {
      "needs_background": "light"
     },
     "output_type": "display_data"
    }
   ],
   "source": [
    "plt.figure(figsize=(10,5))\n",
    "sns.countplot(df1_rfm['Label'])\n",
    "plt.show()"
   ]
  },
  {
   "cell_type": "markdown",
   "id": "1555df75",
   "metadata": {},
   "source": [
    "**Function to Make 3d Scatter Plot**"
   ]
  },
  {
   "cell_type": "code",
   "execution_count": 118,
   "id": "9b439de1",
   "metadata": {
    "ExecuteTime": {
     "end_time": "2021-09-21T09:00:09.086026Z",
     "start_time": "2021-09-21T09:00:09.079007Z"
    }
   },
   "outputs": [],
   "source": [
    "def make_3d_scatter(data, label):\n",
    "    fig = plt.figure(figsize=(10,10))\n",
    "    ax = fig.add_subplot(111, projection='3d')\n",
    "    xs = data[data['Label']==label]['Recency']\n",
    "    ys = data[data['Label']==label]['Frequency']\n",
    "    zs = data[data['Label']==label]['Monetary']\n",
    "    \n",
    "    ax.scatter(xs,ys,zs)\n",
    "    ax.set_xlabel('Recency')\n",
    "    ax.set_ylabel('Frequency')\n",
    "    ax.set_zlabel('Monetary')\n",
    "    ax.set_title(f\"RFM Based on {label}\")\n",
    "    plt.show()"
   ]
  },
  {
   "cell_type": "markdown",
   "id": "4be9d624",
   "metadata": {
    "ExecuteTime": {
     "end_time": "2021-09-21T08:16:55.675641Z",
     "start_time": "2021-09-21T08:16:55.671130Z"
    }
   },
   "source": [
    "**Group By Label**"
   ]
  },
  {
   "cell_type": "code",
   "execution_count": 119,
   "id": "53c9c937",
   "metadata": {
    "ExecuteTime": {
     "end_time": "2021-09-21T09:00:09.345378Z",
     "start_time": "2021-09-21T09:00:09.088531Z"
    }
   },
   "outputs": [
    {
     "data": {
      "text/html": [
       "<div>\n",
       "<style scoped>\n",
       "    .dataframe tbody tr th:only-of-type {\n",
       "        vertical-align: middle;\n",
       "    }\n",
       "\n",
       "    .dataframe tbody tr th {\n",
       "        vertical-align: top;\n",
       "    }\n",
       "\n",
       "    .dataframe thead tr th {\n",
       "        text-align: left;\n",
       "    }\n",
       "\n",
       "    .dataframe thead tr:last-of-type th {\n",
       "        text-align: right;\n",
       "    }\n",
       "</style>\n",
       "<table border=\"1\" class=\"dataframe\">\n",
       "  <thead>\n",
       "    <tr>\n",
       "      <th></th>\n",
       "      <th colspan=\"4\" halign=\"left\">Recency</th>\n",
       "      <th colspan=\"4\" halign=\"left\">Frequency</th>\n",
       "      <th colspan=\"4\" halign=\"left\">Monetary</th>\n",
       "    </tr>\n",
       "    <tr>\n",
       "      <th></th>\n",
       "      <th>sum</th>\n",
       "      <th>min</th>\n",
       "      <th>max</th>\n",
       "      <th>mean</th>\n",
       "      <th>sum</th>\n",
       "      <th>min</th>\n",
       "      <th>max</th>\n",
       "      <th>mean</th>\n",
       "      <th>sum</th>\n",
       "      <th>min</th>\n",
       "      <th>max</th>\n",
       "      <th>mean</th>\n",
       "    </tr>\n",
       "    <tr>\n",
       "      <th>Label</th>\n",
       "      <th></th>\n",
       "      <th></th>\n",
       "      <th></th>\n",
       "      <th></th>\n",
       "      <th></th>\n",
       "      <th></th>\n",
       "      <th></th>\n",
       "      <th></th>\n",
       "      <th></th>\n",
       "      <th></th>\n",
       "      <th></th>\n",
       "      <th></th>\n",
       "    </tr>\n",
       "  </thead>\n",
       "  <tbody>\n",
       "    <tr>\n",
       "      <th>Low Value Customer</th>\n",
       "      <td>274081</td>\n",
       "      <td>88</td>\n",
       "      <td>364</td>\n",
       "      <td>203.022963</td>\n",
       "      <td>41826</td>\n",
       "      <td>1</td>\n",
       "      <td>245</td>\n",
       "      <td>30.982222</td>\n",
       "      <td>553099.874</td>\n",
       "      <td>0.95</td>\n",
       "      <td>3125.08</td>\n",
       "      <td>409.703610</td>\n",
       "    </tr>\n",
       "    <tr>\n",
       "      <th>Medium Value Customer</th>\n",
       "      <td>76812</td>\n",
       "      <td>0</td>\n",
       "      <td>209</td>\n",
       "      <td>32.165829</td>\n",
       "      <td>145508</td>\n",
       "      <td>1</td>\n",
       "      <td>344</td>\n",
       "      <td>60.932998</td>\n",
       "      <td>1930866.604</td>\n",
       "      <td>1.25</td>\n",
       "      <td>4059.95</td>\n",
       "      <td>808.570605</td>\n",
       "    </tr>\n",
       "    <tr>\n",
       "      <th>High Value Customer</th>\n",
       "      <td>6175</td>\n",
       "      <td>0</td>\n",
       "      <td>155</td>\n",
       "      <td>17.248603</td>\n",
       "      <td>142805</td>\n",
       "      <td>70</td>\n",
       "      <td>4425</td>\n",
       "      <td>398.896648</td>\n",
       "      <td>1845066.276</td>\n",
       "      <td>786.02</td>\n",
       "      <td>89915.72</td>\n",
       "      <td>5153.816413</td>\n",
       "    </tr>\n",
       "  </tbody>\n",
       "</table>\n",
       "</div>"
      ],
      "text/plain": [
       "                      Recency                      Frequency            \\\n",
       "                          sum min  max        mean       sum min   max   \n",
       "Label                                                                    \n",
       "Low Value Customer     274081  88  364  203.022963     41826   1   245   \n",
       "Medium Value Customer   76812   0  209   32.165829    145508   1   344   \n",
       "High Value Customer      6175   0  155   17.248603    142805  70  4425   \n",
       "\n",
       "                                      Monetary                                 \n",
       "                             mean          sum     min       max         mean  \n",
       "Label                                                                          \n",
       "Low Value Customer      30.982222   553099.874    0.95   3125.08   409.703610  \n",
       "Medium Value Customer   60.932998  1930866.604    1.25   4059.95   808.570605  \n",
       "High Value Customer    398.896648  1845066.276  786.02  89915.72  5153.816413  "
      ]
     },
     "execution_count": 119,
     "metadata": {},
     "output_type": "execute_result"
    }
   ],
   "source": [
    "df1_rfm.groupby('Label')[['Recency', 'Frequency', 'Monetary']].agg(['sum', 'min', 'max', 'mean']).reindex(['Low Value Customer', 'Medium Value Customer', 'High Value Customer'])"
   ]
  },
  {
   "cell_type": "markdown",
   "id": "3e29a5bd",
   "metadata": {},
   "source": [
    "### Customer Behaviour"
   ]
  },
  {
   "cell_type": "markdown",
   "id": "c30cb525",
   "metadata": {},
   "source": [
    "**Create New Data Frame**"
   ]
  },
  {
   "cell_type": "code",
   "execution_count": 120,
   "id": "2b8c8126",
   "metadata": {
    "ExecuteTime": {
     "end_time": "2021-09-21T09:00:09.433362Z",
     "start_time": "2021-09-21T09:00:09.348386Z"
    }
   },
   "outputs": [
    {
     "data": {
      "text/html": [
       "<div>\n",
       "<style scoped>\n",
       "    .dataframe tbody tr th:only-of-type {\n",
       "        vertical-align: middle;\n",
       "    }\n",
       "\n",
       "    .dataframe tbody tr th {\n",
       "        vertical-align: top;\n",
       "    }\n",
       "\n",
       "    .dataframe thead th {\n",
       "        text-align: right;\n",
       "    }\n",
       "</style>\n",
       "<table border=\"1\" class=\"dataframe\">\n",
       "  <thead>\n",
       "    <tr style=\"text-align: right;\">\n",
       "      <th></th>\n",
       "      <th>Customer ID</th>\n",
       "      <th>Label</th>\n",
       "      <th>Recency</th>\n",
       "      <th>Frequency</th>\n",
       "      <th>Monetary</th>\n",
       "    </tr>\n",
       "  </thead>\n",
       "  <tbody>\n",
       "    <tr>\n",
       "      <th>0</th>\n",
       "      <td>12346</td>\n",
       "      <td>Low Value Customer</td>\n",
       "      <td>155</td>\n",
       "      <td>33</td>\n",
       "      <td>372.86</td>\n",
       "    </tr>\n",
       "    <tr>\n",
       "      <th>1</th>\n",
       "      <td>12347</td>\n",
       "      <td>Medium Value Customer</td>\n",
       "      <td>30</td>\n",
       "      <td>39</td>\n",
       "      <td>573.28</td>\n",
       "    </tr>\n",
       "    <tr>\n",
       "      <th>2</th>\n",
       "      <td>12348</td>\n",
       "      <td>Medium Value Customer</td>\n",
       "      <td>64</td>\n",
       "      <td>20</td>\n",
       "      <td>222.16</td>\n",
       "    </tr>\n",
       "    <tr>\n",
       "      <th>3</th>\n",
       "      <td>12349</td>\n",
       "      <td>Medium Value Customer</td>\n",
       "      <td>33</td>\n",
       "      <td>80</td>\n",
       "      <td>1635.89</td>\n",
       "    </tr>\n",
       "    <tr>\n",
       "      <th>4</th>\n",
       "      <td>12351</td>\n",
       "      <td>Medium Value Customer</td>\n",
       "      <td>1</td>\n",
       "      <td>20</td>\n",
       "      <td>288.18</td>\n",
       "    </tr>\n",
       "  </tbody>\n",
       "</table>\n",
       "</div>"
      ],
      "text/plain": [
       "   Customer ID                  Label  Recency  Frequency  Monetary\n",
       "0        12346     Low Value Customer      155         33    372.86\n",
       "1        12347  Medium Value Customer       30         39    573.28\n",
       "2        12348  Medium Value Customer       64         20    222.16\n",
       "3        12349  Medium Value Customer       33         80   1635.89\n",
       "4        12351  Medium Value Customer        1         20    288.18"
      ]
     },
     "execution_count": 120,
     "metadata": {},
     "output_type": "execute_result"
    }
   ],
   "source": [
    "df1_rfm_new = df1_rfm[['Customer ID', 'Label', 'Recency', 'Frequency', 'Monetary']].copy()\n",
    "df1_rfm_new.head()"
   ]
  },
  {
   "cell_type": "markdown",
   "id": "c229b1c9",
   "metadata": {
    "ExecuteTime": {
     "end_time": "2021-09-21T08:30:10.734033Z",
     "start_time": "2021-09-21T08:30:10.729522Z"
    }
   },
   "source": [
    "**Scalling**"
   ]
  },
  {
   "cell_type": "code",
   "execution_count": 121,
   "id": "c427c3e8",
   "metadata": {
    "ExecuteTime": {
     "end_time": "2021-09-21T09:00:09.555755Z",
     "start_time": "2021-09-21T09:00:09.435869Z"
    }
   },
   "outputs": [],
   "source": [
    "scaler = StandardScaler()\n",
    "df1_rfm_scaled = df1_rfm_new.copy()\n",
    "df1_rfm_scaled[['Recency', 'Frequency', 'Monetary']] = np.log(df1_rfm_scaled[['Recency', 'Frequency', 'Monetary']]+1)\n",
    "df1_rfm_scaled[['Recency', 'Frequency', 'Monetary']] = scaler.fit_transform(df1_rfm_scaled[['Recency', 'Frequency', 'Monetary']])"
   ]
  },
  {
   "cell_type": "markdown",
   "id": "16ed6210",
   "metadata": {},
   "source": [
    "**Check Distribution**"
   ]
  },
  {
   "cell_type": "code",
   "execution_count": 122,
   "id": "07ee4c60",
   "metadata": {
    "ExecuteTime": {
     "end_time": "2021-09-21T09:00:09.908995Z",
     "start_time": "2021-09-21T09:00:09.557263Z"
    }
   },
   "outputs": [
    {
     "data": {
      "image/png": "[encoded data removed]",
      "text/plain": [
       "<Figure size 1080x432 with 1 Axes>"
      ]
     },
     "metadata": {
      "needs_background": "light"
     },
     "output_type": "display_data"
    }
   ],
   "source": [
    "make_displot(df1_rfm_scaled['Recency'], 'Recency')"
   ]
  },
  {
   "cell_type": "code",
   "execution_count": 123,
   "id": "9079cb06",
   "metadata": {
    "ExecuteTime": {
     "end_time": "2021-09-21T09:00:10.183716Z",
     "start_time": "2021-09-21T09:00:09.911492Z"
    }
   },
   "outputs": [
    {
     "data": {
      "image/png": "[encoded data removed]",
      "text/plain": [
       "<Figure size 1080x432 with 1 Axes>"
      ]
     },
     "metadata": {
      "needs_background": "light"
     },
     "output_type": "display_data"
    }
   ],
   "source": [
    "make_displot(df1_rfm_scaled['Frequency'], 'Frequency')"
   ]
  },
  {
   "cell_type": "code",
   "execution_count": 124,
   "id": "e8df8b96",
   "metadata": {
    "ExecuteTime": {
     "end_time": "2021-09-21T09:00:10.496045Z",
     "start_time": "2021-09-21T09:00:10.186224Z"
    }
   },
   "outputs": [
    {
     "data": {
      "image/png": "[encoded data removed]",
      "text/plain": [
       "<Figure size 1080x432 with 1 Axes>"
      ]
     },
     "metadata": {
      "needs_background": "light"
     },
     "output_type": "display_data"
    }
   ],
   "source": [
    "make_displot(df1_rfm_scaled['Monetary'], 'Monetary')"
   ]
  },
  {
   "cell_type": "markdown",
   "id": "051bf6f4",
   "metadata": {},
   "source": [
    "**Melt**"
   ]
  },
  {
   "cell_type": "code",
   "execution_count": 125,
   "id": "01e1cfa4",
   "metadata": {
    "ExecuteTime": {
     "end_time": "2021-09-21T09:00:10.513593Z",
     "start_time": "2021-09-21T09:00:10.499056Z"
    }
   },
   "outputs": [
    {
     "data": {
      "text/html": [
       "<div>\n",
       "<style scoped>\n",
       "    .dataframe tbody tr th:only-of-type {\n",
       "        vertical-align: middle;\n",
       "    }\n",
       "\n",
       "    .dataframe tbody tr th {\n",
       "        vertical-align: top;\n",
       "    }\n",
       "\n",
       "    .dataframe thead th {\n",
       "        text-align: right;\n",
       "    }\n",
       "</style>\n",
       "<table border=\"1\" class=\"dataframe\">\n",
       "  <thead>\n",
       "    <tr style=\"text-align: right;\">\n",
       "      <th></th>\n",
       "      <th>Customer ID</th>\n",
       "      <th>Label</th>\n",
       "      <th>Metric</th>\n",
       "      <th>Value</th>\n",
       "    </tr>\n",
       "  </thead>\n",
       "  <tbody>\n",
       "    <tr>\n",
       "      <th>0</th>\n",
       "      <td>12346</td>\n",
       "      <td>Low Value Customer</td>\n",
       "      <td>Recency</td>\n",
       "      <td>0.931735</td>\n",
       "    </tr>\n",
       "    <tr>\n",
       "      <th>1</th>\n",
       "      <td>12347</td>\n",
       "      <td>Medium Value Customer</td>\n",
       "      <td>Recency</td>\n",
       "      <td>-0.213820</td>\n",
       "    </tr>\n",
       "    <tr>\n",
       "      <th>2</th>\n",
       "      <td>12348</td>\n",
       "      <td>Medium Value Customer</td>\n",
       "      <td>Recency</td>\n",
       "      <td>0.311080</td>\n",
       "    </tr>\n",
       "    <tr>\n",
       "      <th>3</th>\n",
       "      <td>12349</td>\n",
       "      <td>Medium Value Customer</td>\n",
       "      <td>Recency</td>\n",
       "      <td>-0.148333</td>\n",
       "    </tr>\n",
       "    <tr>\n",
       "      <th>4</th>\n",
       "      <td>12351</td>\n",
       "      <td>Medium Value Customer</td>\n",
       "      <td>Recency</td>\n",
       "      <td>-2.156914</td>\n",
       "    </tr>\n",
       "  </tbody>\n",
       "</table>\n",
       "</div>"
      ],
      "text/plain": [
       "   Customer ID                  Label   Metric     Value\n",
       "0        12346     Low Value Customer  Recency  0.931735\n",
       "1        12347  Medium Value Customer  Recency -0.213820\n",
       "2        12348  Medium Value Customer  Recency  0.311080\n",
       "3        12349  Medium Value Customer  Recency -0.148333\n",
       "4        12351  Medium Value Customer  Recency -2.156914"
      ]
     },
     "execution_count": 125,
     "metadata": {},
     "output_type": "execute_result"
    }
   ],
   "source": [
    "df1_rfm_melt = df1_rfm_scaled.melt(id_vars=['Customer ID', 'Label'], var_name='Metric', value_name='Value')\n",
    "df1_rfm_melt.head()"
   ]
  },
  {
   "cell_type": "markdown",
   "id": "9a2fd5c6",
   "metadata": {},
   "source": [
    "**Plot Customer Behaviour**"
   ]
  },
  {
   "cell_type": "code",
   "execution_count": 136,
   "id": "bd2c3587",
   "metadata": {
    "ExecuteTime": {
     "end_time": "2021-09-21T09:39:06.252046Z",
     "start_time": "2021-09-21T09:39:05.691338Z"
    }
   },
   "outputs": [
    {
     "data": {
      "image/png": "[encoded data removed]",
      "text/plain": [
       "<Figure size 1008x360 with 1 Axes>"
      ]
     },
     "metadata": {
      "needs_background": "light"
     },
     "output_type": "display_data"
    }
   ],
   "source": [
    "plt.figure(figsize=(14,5))\n",
    "sns.lineplot(x='Metric', y='Value', hue='Label', data=df1_rfm_melt)\n",
    "plt.xlabel('Metric', fontsize=12)\n",
    "plt.ylabel('Value', fontsize=12)\n",
    "plt.title('Customer Behaviour Based on Label From Des 2009 - Nov 2010 Data', fontsize=15)\n",
    "plt.legend(bbox_to_anchor=(1,1), loc='best', title='Customer Label')\n",
    "plt.show()"
   ]
  },
  {
   "cell_type": "markdown",
   "id": "3f6010c6",
   "metadata": {},
   "source": [
    "## Customer Segmentation on Data Des 2010 - Nov 2011"
   ]
  },
  {
   "cell_type": "code",
   "execution_count": null,
   "id": "bf087b7a",
   "metadata": {},
   "outputs": [],
   "source": []
  }
 ],
 "metadata": {
  "kernelspec": {
   "display_name": "MachineLearning",
   "language": "python",
   "name": "machinelearning"
  },
  "language_info": {
   "codemirror_mode": {
    "name": "ipython",
    "version": 3
   },
   "file_extension": ".py",
   "mimetype": "text/x-python",
   "name": "python",
   "nbconvert_exporter": "python",
   "pygments_lexer": "ipython3",
   "version": "3.8.11"
  },
  "toc": {
   "base_numbering": 1,
   "nav_menu": {},
   "number_sections": false,
   "sideBar": true,
   "skip_h1_title": false,
   "title_cell": "Table of Contents",
   "title_sidebar": "Contents",
   "toc_cell": false,
   "toc_position": {},
   "toc_section_display": true,
   "toc_window_display": false
  },
  "varInspector": {
   "cols": {
    "lenName": 16,
    "lenType": 16,
    "lenVar": 40
   },
   "kernels_config": {
    "python": {
     "delete_cmd_postfix": "",
     "delete_cmd_prefix": "del ",
     "library": "var_list.py",
     "varRefreshCmd": "print(var_dic_list())"
    },
    "r": {
     "delete_cmd_postfix": ") ",
     "delete_cmd_prefix": "rm(",
     "library": "var_list.r",
     "varRefreshCmd": "cat(var_dic_list()) "
    }
   },
   "types_to_exclude": [
    "module",
    "function",
    "builtin_function_or_method",
    "instance",
    "_Feature"
   ],
   "window_display": false
  }
 },
 "nbformat": 4,
 "nbformat_minor": 5
}
