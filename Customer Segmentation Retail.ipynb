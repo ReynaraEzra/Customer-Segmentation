{
 "cells": [
  {
   "cell_type": "markdown",
   "id": "b57a3720",
   "metadata": {},
   "source": [
    "# Customer Segmentation on Online Retail Data Using RFM Analysis \n",
    "## Reynara Ezra Pratama"
   ]
  },
  {
   "cell_type": "markdown",
   "id": "98c77755",
   "metadata": {},
   "source": [
    "## Background"
   ]
  },
  {
   "cell_type": "markdown",
   "id": "b5480085",
   "metadata": {},
   "source": [
    "Data retail online II berisi seluruh data transaksi retail non-toko yang berbasis di Inggris dan terdaftar yang terjadi pada tanggal 1 Desember 2009 s/d 9 Desember 2011. Perusahaan ini terutama menjual perlengkapan hadiah unik dan banyak pelanggan perusahaan adalah grosir. \n",
    "\n",
    "Dataset yang akan digunakan dalam melakukan *customer segmentation* dapat dilihat pada [link ini](https://www.kaggle.com/mathchi/online-retail-ii-data-set-from-ml-repository)"
   ]
  },
  {
   "cell_type": "markdown",
   "id": "3b310e37",
   "metadata": {},
   "source": [
    "## Business Understanding"
   ]
  },
  {
   "cell_type": "markdown",
   "id": "dd643551",
   "metadata": {},
   "source": [
    "1. Mendapatkan gambaran bisnis produk yang terjual pada tahun 2009-2010 dan 2010-2011.\n",
    "2. Melakukan segmentasi pada *Customer* untuk melihat karakteristiknya.\n",
    "3. Mengetahui rekomendasi yang dapat dilakukan setelah diketahui karakteristik *Customer*."
   ]
  },
  {
   "cell_type": "markdown",
   "id": "db35dbb9",
   "metadata": {},
   "source": [
    "## Data Understanding"
   ]
  },
  {
   "cell_type": "markdown",
   "id": "b4f8a53f",
   "metadata": {},
   "source": [
    "1. `Invoice` : Nomer invoice. 6 digit angka unik untuk setiap transaksi. Jika data diawali 'c', menandakan pembatalan.\n",
    "2. `StockCode` : Kode produk. 5 digit angka unik untuk setiap produk.\n",
    "3. `Description` : Penjelasan nama dari produk.\n",
    "4. `Quantity` : Jumlah produk setiap transaksi.\n",
    "5. `InvoiceDate` : Tanggal dan waktu dari Invoice.\n",
    "6. `Price` : Harga unit.\n",
    "7. `Customer ID` : Nomer *customer*. 5 digit angka untuk untuk setiap *customer*.\n",
    "8. `Country` : Negara dimana *customer* berada."
   ]
  },
  {
   "cell_type": "markdown",
   "id": "07b825fa",
   "metadata": {},
   "source": [
    "## Import Library"
   ]
  },
  {
   "cell_type": "code",
   "execution_count": 42,
   "id": "2135aba2",
   "metadata": {
    "ExecuteTime": {
     "end_time": "2021-09-19T17:17:30.938936Z",
     "start_time": "2021-09-19T17:17:30.933422Z"
    }
   },
   "outputs": [],
   "source": [
    "import pandas as pd\n",
    "import numpy as np\n",
    "import matplotlib.pyplot as plt\n",
    "import seaborn as sns\n",
    "sns.set_theme()\n",
    "\n",
    "import warnings\n",
    "warnings.filterwarnings(\"ignore\")\n",
    "\n",
    "from sklearn.preprocessing import StandardScaler\n",
    "from sklearn.cluster import KMeans"
   ]
  },
  {
   "cell_type": "markdown",
   "id": "1e5d53d1",
   "metadata": {},
   "source": [
    "## Loading Dataset"
   ]
  },
  {
   "cell_type": "markdown",
   "id": "599243ed",
   "metadata": {},
   "source": [
    "### Load Data From Github"
   ]
  },
  {
   "cell_type": "code",
   "execution_count": 2,
   "id": "602f747f",
   "metadata": {
    "ExecuteTime": {
     "end_time": "2021-09-19T17:04:17.173783Z",
     "start_time": "2021-09-19T17:04:17.169773Z"
    }
   },
   "outputs": [],
   "source": [
    "# data_2009_2010 = pd.read_csv('https://raw.githubusercontent.com/ReynaraEzra/Customer-Segmentation/main/data_input/Year%202009-2010.csv')\n",
    "# data_2010_2011 = pd.read_csv('https://raw.githubusercontent.com/ReynaraEzra/Customer-Segmentation/main/data_input/Year%202010-2011.csv')"
   ]
  },
  {
   "cell_type": "markdown",
   "id": "648f10a6",
   "metadata": {},
   "source": [
    "### Load Data From Local File"
   ]
  },
  {
   "cell_type": "code",
   "execution_count": 3,
   "id": "c30621f4",
   "metadata": {
    "ExecuteTime": {
     "end_time": "2021-09-19T17:04:19.082161Z",
     "start_time": "2021-09-19T17:04:17.178296Z"
    }
   },
   "outputs": [],
   "source": [
    "data_2009_2010 = pd.read_csv('data_input\\Year 2009-2010.csv', encoding='unicode_escape')\n",
    "data_2010_2011 = pd.read_csv('data_input\\Year 2010-2011.csv', encoding='unicode_escape')"
   ]
  },
  {
   "cell_type": "markdown",
   "id": "4b16459b",
   "metadata": {},
   "source": [
    "## Checking Dataset"
   ]
  },
  {
   "cell_type": "markdown",
   "id": "30d1201f",
   "metadata": {},
   "source": [
    "### Data 2009 - 2010"
   ]
  },
  {
   "cell_type": "code",
   "execution_count": 4,
   "id": "d0303155",
   "metadata": {
    "ExecuteTime": {
     "end_time": "2021-09-19T17:04:19.171298Z",
     "start_time": "2021-09-19T17:04:19.084011Z"
    }
   },
   "outputs": [
    {
     "data": {
      "text/html": [
       "<div>\n",
       "<style scoped>\n",
       "    .dataframe tbody tr th:only-of-type {\n",
       "        vertical-align: middle;\n",
       "    }\n",
       "\n",
       "    .dataframe tbody tr th {\n",
       "        vertical-align: top;\n",
       "    }\n",
       "\n",
       "    .dataframe thead th {\n",
       "        text-align: right;\n",
       "    }\n",
       "</style>\n",
       "<table border=\"1\" class=\"dataframe\">\n",
       "  <thead>\n",
       "    <tr style=\"text-align: right;\">\n",
       "      <th></th>\n",
       "      <th>Invoice</th>\n",
       "      <th>StockCode</th>\n",
       "      <th>Description</th>\n",
       "      <th>Quantity</th>\n",
       "      <th>InvoiceDate</th>\n",
       "      <th>Price</th>\n",
       "      <th>Customer ID</th>\n",
       "      <th>Country</th>\n",
       "    </tr>\n",
       "  </thead>\n",
       "  <tbody>\n",
       "    <tr>\n",
       "      <th>0</th>\n",
       "      <td>489434</td>\n",
       "      <td>85048</td>\n",
       "      <td>15CM CHRISTMAS GLASS BALL 20 LIGHTS</td>\n",
       "      <td>12</td>\n",
       "      <td>12/1/2009 7:45</td>\n",
       "      <td>6.95</td>\n",
       "      <td>13085.0</td>\n",
       "      <td>United Kingdom</td>\n",
       "    </tr>\n",
       "    <tr>\n",
       "      <th>1</th>\n",
       "      <td>489434</td>\n",
       "      <td>79323P</td>\n",
       "      <td>PINK CHERRY LIGHTS</td>\n",
       "      <td>12</td>\n",
       "      <td>12/1/2009 7:45</td>\n",
       "      <td>6.75</td>\n",
       "      <td>13085.0</td>\n",
       "      <td>United Kingdom</td>\n",
       "    </tr>\n",
       "    <tr>\n",
       "      <th>2</th>\n",
       "      <td>489434</td>\n",
       "      <td>79323W</td>\n",
       "      <td>WHITE CHERRY LIGHTS</td>\n",
       "      <td>12</td>\n",
       "      <td>12/1/2009 7:45</td>\n",
       "      <td>6.75</td>\n",
       "      <td>13085.0</td>\n",
       "      <td>United Kingdom</td>\n",
       "    </tr>\n",
       "    <tr>\n",
       "      <th>3</th>\n",
       "      <td>489434</td>\n",
       "      <td>22041</td>\n",
       "      <td>RECORD FRAME 7\" SINGLE SIZE</td>\n",
       "      <td>48</td>\n",
       "      <td>12/1/2009 7:45</td>\n",
       "      <td>2.10</td>\n",
       "      <td>13085.0</td>\n",
       "      <td>United Kingdom</td>\n",
       "    </tr>\n",
       "    <tr>\n",
       "      <th>4</th>\n",
       "      <td>489434</td>\n",
       "      <td>21232</td>\n",
       "      <td>STRAWBERRY CERAMIC TRINKET BOX</td>\n",
       "      <td>24</td>\n",
       "      <td>12/1/2009 7:45</td>\n",
       "      <td>1.25</td>\n",
       "      <td>13085.0</td>\n",
       "      <td>United Kingdom</td>\n",
       "    </tr>\n",
       "  </tbody>\n",
       "</table>\n",
       "</div>"
      ],
      "text/plain": [
       "  Invoice StockCode                          Description  Quantity  \\\n",
       "0  489434     85048  15CM CHRISTMAS GLASS BALL 20 LIGHTS        12   \n",
       "1  489434    79323P                   PINK CHERRY LIGHTS        12   \n",
       "2  489434    79323W                  WHITE CHERRY LIGHTS        12   \n",
       "3  489434     22041         RECORD FRAME 7\" SINGLE SIZE         48   \n",
       "4  489434     21232       STRAWBERRY CERAMIC TRINKET BOX        24   \n",
       "\n",
       "      InvoiceDate  Price  Customer ID         Country  \n",
       "0  12/1/2009 7:45   6.95      13085.0  United Kingdom  \n",
       "1  12/1/2009 7:45   6.75      13085.0  United Kingdom  \n",
       "2  12/1/2009 7:45   6.75      13085.0  United Kingdom  \n",
       "3  12/1/2009 7:45   2.10      13085.0  United Kingdom  \n",
       "4  12/1/2009 7:45   1.25      13085.0  United Kingdom  "
      ]
     },
     "execution_count": 4,
     "metadata": {},
     "output_type": "execute_result"
    }
   ],
   "source": [
    "data_2009_2010.head()"
   ]
  },
  {
   "cell_type": "code",
   "execution_count": 5,
   "id": "3bdb0b40",
   "metadata": {
    "ExecuteTime": {
     "end_time": "2021-09-19T17:04:19.241926Z",
     "start_time": "2021-09-19T17:04:19.173768Z"
    }
   },
   "outputs": [
    {
     "data": {
      "text/html": [
       "<div>\n",
       "<style scoped>\n",
       "    .dataframe tbody tr th:only-of-type {\n",
       "        vertical-align: middle;\n",
       "    }\n",
       "\n",
       "    .dataframe tbody tr th {\n",
       "        vertical-align: top;\n",
       "    }\n",
       "\n",
       "    .dataframe thead th {\n",
       "        text-align: right;\n",
       "    }\n",
       "</style>\n",
       "<table border=\"1\" class=\"dataframe\">\n",
       "  <thead>\n",
       "    <tr style=\"text-align: right;\">\n",
       "      <th></th>\n",
       "      <th>Invoice</th>\n",
       "      <th>StockCode</th>\n",
       "      <th>Description</th>\n",
       "      <th>Quantity</th>\n",
       "      <th>InvoiceDate</th>\n",
       "      <th>Price</th>\n",
       "      <th>Customer ID</th>\n",
       "      <th>Country</th>\n",
       "    </tr>\n",
       "  </thead>\n",
       "  <tbody>\n",
       "    <tr>\n",
       "      <th>525456</th>\n",
       "      <td>538171</td>\n",
       "      <td>22271</td>\n",
       "      <td>FELTCRAFT DOLL ROSIE</td>\n",
       "      <td>2</td>\n",
       "      <td>12/9/2010 20:01</td>\n",
       "      <td>2.95</td>\n",
       "      <td>17530.0</td>\n",
       "      <td>United Kingdom</td>\n",
       "    </tr>\n",
       "    <tr>\n",
       "      <th>525457</th>\n",
       "      <td>538171</td>\n",
       "      <td>22750</td>\n",
       "      <td>FELTCRAFT PRINCESS LOLA DOLL</td>\n",
       "      <td>1</td>\n",
       "      <td>12/9/2010 20:01</td>\n",
       "      <td>3.75</td>\n",
       "      <td>17530.0</td>\n",
       "      <td>United Kingdom</td>\n",
       "    </tr>\n",
       "    <tr>\n",
       "      <th>525458</th>\n",
       "      <td>538171</td>\n",
       "      <td>22751</td>\n",
       "      <td>FELTCRAFT PRINCESS OLIVIA DOLL</td>\n",
       "      <td>1</td>\n",
       "      <td>12/9/2010 20:01</td>\n",
       "      <td>3.75</td>\n",
       "      <td>17530.0</td>\n",
       "      <td>United Kingdom</td>\n",
       "    </tr>\n",
       "    <tr>\n",
       "      <th>525459</th>\n",
       "      <td>538171</td>\n",
       "      <td>20970</td>\n",
       "      <td>PINK FLORAL FELTCRAFT SHOULDER BAG</td>\n",
       "      <td>2</td>\n",
       "      <td>12/9/2010 20:01</td>\n",
       "      <td>3.75</td>\n",
       "      <td>17530.0</td>\n",
       "      <td>United Kingdom</td>\n",
       "    </tr>\n",
       "    <tr>\n",
       "      <th>525460</th>\n",
       "      <td>538171</td>\n",
       "      <td>21931</td>\n",
       "      <td>JUMBO STORAGE BAG SUKI</td>\n",
       "      <td>2</td>\n",
       "      <td>12/9/2010 20:01</td>\n",
       "      <td>1.95</td>\n",
       "      <td>17530.0</td>\n",
       "      <td>United Kingdom</td>\n",
       "    </tr>\n",
       "  </tbody>\n",
       "</table>\n",
       "</div>"
      ],
      "text/plain": [
       "       Invoice StockCode                         Description  Quantity  \\\n",
       "525456  538171     22271                FELTCRAFT DOLL ROSIE         2   \n",
       "525457  538171     22750        FELTCRAFT PRINCESS LOLA DOLL         1   \n",
       "525458  538171     22751      FELTCRAFT PRINCESS OLIVIA DOLL         1   \n",
       "525459  538171     20970  PINK FLORAL FELTCRAFT SHOULDER BAG         2   \n",
       "525460  538171     21931              JUMBO STORAGE BAG SUKI         2   \n",
       "\n",
       "            InvoiceDate  Price  Customer ID         Country  \n",
       "525456  12/9/2010 20:01   2.95      17530.0  United Kingdom  \n",
       "525457  12/9/2010 20:01   3.75      17530.0  United Kingdom  \n",
       "525458  12/9/2010 20:01   3.75      17530.0  United Kingdom  \n",
       "525459  12/9/2010 20:01   3.75      17530.0  United Kingdom  \n",
       "525460  12/9/2010 20:01   1.95      17530.0  United Kingdom  "
      ]
     },
     "execution_count": 5,
     "metadata": {},
     "output_type": "execute_result"
    }
   ],
   "source": [
    "data_2009_2010.tail()"
   ]
  },
  {
   "cell_type": "code",
   "execution_count": 6,
   "id": "8b9e5ee0",
   "metadata": {
    "ExecuteTime": {
     "end_time": "2021-09-19T17:04:19.381502Z",
     "start_time": "2021-09-19T17:04:19.244433Z"
    }
   },
   "outputs": [
    {
     "data": {
      "text/html": [
       "<div>\n",
       "<style scoped>\n",
       "    .dataframe tbody tr th:only-of-type {\n",
       "        vertical-align: middle;\n",
       "    }\n",
       "\n",
       "    .dataframe tbody tr th {\n",
       "        vertical-align: top;\n",
       "    }\n",
       "\n",
       "    .dataframe thead th {\n",
       "        text-align: right;\n",
       "    }\n",
       "</style>\n",
       "<table border=\"1\" class=\"dataframe\">\n",
       "  <thead>\n",
       "    <tr style=\"text-align: right;\">\n",
       "      <th></th>\n",
       "      <th>Invoice</th>\n",
       "      <th>StockCode</th>\n",
       "      <th>Description</th>\n",
       "      <th>Quantity</th>\n",
       "      <th>InvoiceDate</th>\n",
       "      <th>Price</th>\n",
       "      <th>Customer ID</th>\n",
       "      <th>Country</th>\n",
       "    </tr>\n",
       "  </thead>\n",
       "  <tbody>\n",
       "    <tr>\n",
       "      <th>268890</th>\n",
       "      <td>515409</td>\n",
       "      <td>37464</td>\n",
       "      <td>ROBOT MUG IN DISPLAY BOX</td>\n",
       "      <td>10</td>\n",
       "      <td>7/12/2010 12:24</td>\n",
       "      <td>1.25</td>\n",
       "      <td>16701.0</td>\n",
       "      <td>United Kingdom</td>\n",
       "    </tr>\n",
       "    <tr>\n",
       "      <th>329233</th>\n",
       "      <td>521488</td>\n",
       "      <td>22623</td>\n",
       "      <td>BOX OF VINTAGE JIGSAW BLOCKS</td>\n",
       "      <td>1</td>\n",
       "      <td>9/6/2010 13:42</td>\n",
       "      <td>11.02</td>\n",
       "      <td>NaN</td>\n",
       "      <td>United Kingdom</td>\n",
       "    </tr>\n",
       "    <tr>\n",
       "      <th>473648</th>\n",
       "      <td>534003</td>\n",
       "      <td>22941</td>\n",
       "      <td>CHRISTMAS LIGHTS 10 REINDEER</td>\n",
       "      <td>1</td>\n",
       "      <td>11/19/2010 14:27</td>\n",
       "      <td>8.50</td>\n",
       "      <td>17589.0</td>\n",
       "      <td>United Kingdom</td>\n",
       "    </tr>\n",
       "    <tr>\n",
       "      <th>67909</th>\n",
       "      <td>495391</td>\n",
       "      <td>84837</td>\n",
       "      <td>WHITE SWEETHEARTS CABINET 4 DRAWERS</td>\n",
       "      <td>1</td>\n",
       "      <td>1/24/2010 15:25</td>\n",
       "      <td>12.75</td>\n",
       "      <td>16206.0</td>\n",
       "      <td>United Kingdom</td>\n",
       "    </tr>\n",
       "    <tr>\n",
       "      <th>506664</th>\n",
       "      <td>536663</td>\n",
       "      <td>22952</td>\n",
       "      <td>60 CAKE CASES VINTAGE CHRISTMAS</td>\n",
       "      <td>24</td>\n",
       "      <td>12/2/2010 12:07</td>\n",
       "      <td>0.55</td>\n",
       "      <td>16546.0</td>\n",
       "      <td>United Kingdom</td>\n",
       "    </tr>\n",
       "  </tbody>\n",
       "</table>\n",
       "</div>"
      ],
      "text/plain": [
       "       Invoice StockCode                          Description  Quantity  \\\n",
       "268890  515409     37464             ROBOT MUG IN DISPLAY BOX        10   \n",
       "329233  521488     22623        BOX OF VINTAGE JIGSAW BLOCKS          1   \n",
       "473648  534003     22941         CHRISTMAS LIGHTS 10 REINDEER         1   \n",
       "67909   495391     84837  WHITE SWEETHEARTS CABINET 4 DRAWERS         1   \n",
       "506664  536663     22952      60 CAKE CASES VINTAGE CHRISTMAS        24   \n",
       "\n",
       "             InvoiceDate  Price  Customer ID         Country  \n",
       "268890   7/12/2010 12:24   1.25      16701.0  United Kingdom  \n",
       "329233    9/6/2010 13:42  11.02          NaN  United Kingdom  \n",
       "473648  11/19/2010 14:27   8.50      17589.0  United Kingdom  \n",
       "67909    1/24/2010 15:25  12.75      16206.0  United Kingdom  \n",
       "506664   12/2/2010 12:07   0.55      16546.0  United Kingdom  "
      ]
     },
     "execution_count": 6,
     "metadata": {},
     "output_type": "execute_result"
    }
   ],
   "source": [
    "data_2009_2010.sample(5)"
   ]
  },
  {
   "cell_type": "markdown",
   "id": "dafe5cf5",
   "metadata": {},
   "source": [
    "### Data 2010 - 2011"
   ]
  },
  {
   "cell_type": "code",
   "execution_count": 7,
   "id": "c63d740c",
   "metadata": {
    "ExecuteTime": {
     "end_time": "2021-09-19T17:04:19.488636Z",
     "start_time": "2021-09-19T17:04:19.384008Z"
    }
   },
   "outputs": [
    {
     "data": {
      "text/html": [
       "<div>\n",
       "<style scoped>\n",
       "    .dataframe tbody tr th:only-of-type {\n",
       "        vertical-align: middle;\n",
       "    }\n",
       "\n",
       "    .dataframe tbody tr th {\n",
       "        vertical-align: top;\n",
       "    }\n",
       "\n",
       "    .dataframe thead th {\n",
       "        text-align: right;\n",
       "    }\n",
       "</style>\n",
       "<table border=\"1\" class=\"dataframe\">\n",
       "  <thead>\n",
       "    <tr style=\"text-align: right;\">\n",
       "      <th></th>\n",
       "      <th>Invoice</th>\n",
       "      <th>StockCode</th>\n",
       "      <th>Description</th>\n",
       "      <th>Quantity</th>\n",
       "      <th>InvoiceDate</th>\n",
       "      <th>Price</th>\n",
       "      <th>Customer ID</th>\n",
       "      <th>Country</th>\n",
       "    </tr>\n",
       "  </thead>\n",
       "  <tbody>\n",
       "    <tr>\n",
       "      <th>0</th>\n",
       "      <td>536365</td>\n",
       "      <td>85123A</td>\n",
       "      <td>WHITE HANGING HEART T-LIGHT HOLDER</td>\n",
       "      <td>6</td>\n",
       "      <td>12/1/2010 8:26</td>\n",
       "      <td>2.55</td>\n",
       "      <td>17850.0</td>\n",
       "      <td>United Kingdom</td>\n",
       "    </tr>\n",
       "    <tr>\n",
       "      <th>1</th>\n",
       "      <td>536365</td>\n",
       "      <td>71053</td>\n",
       "      <td>WHITE METAL LANTERN</td>\n",
       "      <td>6</td>\n",
       "      <td>12/1/2010 8:26</td>\n",
       "      <td>3.39</td>\n",
       "      <td>17850.0</td>\n",
       "      <td>United Kingdom</td>\n",
       "    </tr>\n",
       "    <tr>\n",
       "      <th>2</th>\n",
       "      <td>536365</td>\n",
       "      <td>84406B</td>\n",
       "      <td>CREAM CUPID HEARTS COAT HANGER</td>\n",
       "      <td>8</td>\n",
       "      <td>12/1/2010 8:26</td>\n",
       "      <td>2.75</td>\n",
       "      <td>17850.0</td>\n",
       "      <td>United Kingdom</td>\n",
       "    </tr>\n",
       "    <tr>\n",
       "      <th>3</th>\n",
       "      <td>536365</td>\n",
       "      <td>84029G</td>\n",
       "      <td>KNITTED UNION FLAG HOT WATER BOTTLE</td>\n",
       "      <td>6</td>\n",
       "      <td>12/1/2010 8:26</td>\n",
       "      <td>3.39</td>\n",
       "      <td>17850.0</td>\n",
       "      <td>United Kingdom</td>\n",
       "    </tr>\n",
       "    <tr>\n",
       "      <th>4</th>\n",
       "      <td>536365</td>\n",
       "      <td>84029E</td>\n",
       "      <td>RED WOOLLY HOTTIE WHITE HEART.</td>\n",
       "      <td>6</td>\n",
       "      <td>12/1/2010 8:26</td>\n",
       "      <td>3.39</td>\n",
       "      <td>17850.0</td>\n",
       "      <td>United Kingdom</td>\n",
       "    </tr>\n",
       "  </tbody>\n",
       "</table>\n",
       "</div>"
      ],
      "text/plain": [
       "  Invoice StockCode                          Description  Quantity  \\\n",
       "0  536365    85123A   WHITE HANGING HEART T-LIGHT HOLDER         6   \n",
       "1  536365     71053                  WHITE METAL LANTERN         6   \n",
       "2  536365    84406B       CREAM CUPID HEARTS COAT HANGER         8   \n",
       "3  536365    84029G  KNITTED UNION FLAG HOT WATER BOTTLE         6   \n",
       "4  536365    84029E       RED WOOLLY HOTTIE WHITE HEART.         6   \n",
       "\n",
       "      InvoiceDate  Price  Customer ID         Country  \n",
       "0  12/1/2010 8:26   2.55      17850.0  United Kingdom  \n",
       "1  12/1/2010 8:26   3.39      17850.0  United Kingdom  \n",
       "2  12/1/2010 8:26   2.75      17850.0  United Kingdom  \n",
       "3  12/1/2010 8:26   3.39      17850.0  United Kingdom  \n",
       "4  12/1/2010 8:26   3.39      17850.0  United Kingdom  "
      ]
     },
     "execution_count": 7,
     "metadata": {},
     "output_type": "execute_result"
    }
   ],
   "source": [
    "data_2010_2011.head()"
   ]
  },
  {
   "cell_type": "code",
   "execution_count": 8,
   "id": "d1503755",
   "metadata": {
    "ExecuteTime": {
     "end_time": "2021-09-19T17:04:19.608193Z",
     "start_time": "2021-09-19T17:04:19.491143Z"
    }
   },
   "outputs": [
    {
     "data": {
      "text/html": [
       "<div>\n",
       "<style scoped>\n",
       "    .dataframe tbody tr th:only-of-type {\n",
       "        vertical-align: middle;\n",
       "    }\n",
       "\n",
       "    .dataframe tbody tr th {\n",
       "        vertical-align: top;\n",
       "    }\n",
       "\n",
       "    .dataframe thead th {\n",
       "        text-align: right;\n",
       "    }\n",
       "</style>\n",
       "<table border=\"1\" class=\"dataframe\">\n",
       "  <thead>\n",
       "    <tr style=\"text-align: right;\">\n",
       "      <th></th>\n",
       "      <th>Invoice</th>\n",
       "      <th>StockCode</th>\n",
       "      <th>Description</th>\n",
       "      <th>Quantity</th>\n",
       "      <th>InvoiceDate</th>\n",
       "      <th>Price</th>\n",
       "      <th>Customer ID</th>\n",
       "      <th>Country</th>\n",
       "    </tr>\n",
       "  </thead>\n",
       "  <tbody>\n",
       "    <tr>\n",
       "      <th>541905</th>\n",
       "      <td>581587</td>\n",
       "      <td>22899</td>\n",
       "      <td>CHILDREN'S APRON DOLLY GIRL</td>\n",
       "      <td>6</td>\n",
       "      <td>12/9/2011 12:50</td>\n",
       "      <td>2.10</td>\n",
       "      <td>12680.0</td>\n",
       "      <td>France</td>\n",
       "    </tr>\n",
       "    <tr>\n",
       "      <th>541906</th>\n",
       "      <td>581587</td>\n",
       "      <td>23254</td>\n",
       "      <td>CHILDRENS CUTLERY DOLLY GIRL</td>\n",
       "      <td>4</td>\n",
       "      <td>12/9/2011 12:50</td>\n",
       "      <td>4.15</td>\n",
       "      <td>12680.0</td>\n",
       "      <td>France</td>\n",
       "    </tr>\n",
       "    <tr>\n",
       "      <th>541907</th>\n",
       "      <td>581587</td>\n",
       "      <td>23255</td>\n",
       "      <td>CHILDRENS CUTLERY CIRCUS PARADE</td>\n",
       "      <td>4</td>\n",
       "      <td>12/9/2011 12:50</td>\n",
       "      <td>4.15</td>\n",
       "      <td>12680.0</td>\n",
       "      <td>France</td>\n",
       "    </tr>\n",
       "    <tr>\n",
       "      <th>541908</th>\n",
       "      <td>581587</td>\n",
       "      <td>22138</td>\n",
       "      <td>BAKING SET 9 PIECE RETROSPOT</td>\n",
       "      <td>3</td>\n",
       "      <td>12/9/2011 12:50</td>\n",
       "      <td>4.95</td>\n",
       "      <td>12680.0</td>\n",
       "      <td>France</td>\n",
       "    </tr>\n",
       "    <tr>\n",
       "      <th>541909</th>\n",
       "      <td>581587</td>\n",
       "      <td>POST</td>\n",
       "      <td>POSTAGE</td>\n",
       "      <td>1</td>\n",
       "      <td>12/9/2011 12:50</td>\n",
       "      <td>18.00</td>\n",
       "      <td>12680.0</td>\n",
       "      <td>France</td>\n",
       "    </tr>\n",
       "  </tbody>\n",
       "</table>\n",
       "</div>"
      ],
      "text/plain": [
       "       Invoice StockCode                      Description  Quantity  \\\n",
       "541905  581587     22899     CHILDREN'S APRON DOLLY GIRL          6   \n",
       "541906  581587     23254    CHILDRENS CUTLERY DOLLY GIRL          4   \n",
       "541907  581587     23255  CHILDRENS CUTLERY CIRCUS PARADE         4   \n",
       "541908  581587     22138    BAKING SET 9 PIECE RETROSPOT          3   \n",
       "541909  581587      POST                          POSTAGE         1   \n",
       "\n",
       "            InvoiceDate  Price  Customer ID Country  \n",
       "541905  12/9/2011 12:50   2.10      12680.0  France  \n",
       "541906  12/9/2011 12:50   4.15      12680.0  France  \n",
       "541907  12/9/2011 12:50   4.15      12680.0  France  \n",
       "541908  12/9/2011 12:50   4.95      12680.0  France  \n",
       "541909  12/9/2011 12:50  18.00      12680.0  France  "
      ]
     },
     "execution_count": 8,
     "metadata": {},
     "output_type": "execute_result"
    }
   ],
   "source": [
    "data_2010_2011.tail()"
   ]
  },
  {
   "cell_type": "code",
   "execution_count": 9,
   "id": "4ab0638c",
   "metadata": {
    "ExecuteTime": {
     "end_time": "2021-09-19T17:04:19.758653Z",
     "start_time": "2021-09-19T17:04:19.611201Z"
    }
   },
   "outputs": [
    {
     "data": {
      "text/html": [
       "<div>\n",
       "<style scoped>\n",
       "    .dataframe tbody tr th:only-of-type {\n",
       "        vertical-align: middle;\n",
       "    }\n",
       "\n",
       "    .dataframe tbody tr th {\n",
       "        vertical-align: top;\n",
       "    }\n",
       "\n",
       "    .dataframe thead th {\n",
       "        text-align: right;\n",
       "    }\n",
       "</style>\n",
       "<table border=\"1\" class=\"dataframe\">\n",
       "  <thead>\n",
       "    <tr style=\"text-align: right;\">\n",
       "      <th></th>\n",
       "      <th>Invoice</th>\n",
       "      <th>StockCode</th>\n",
       "      <th>Description</th>\n",
       "      <th>Quantity</th>\n",
       "      <th>InvoiceDate</th>\n",
       "      <th>Price</th>\n",
       "      <th>Customer ID</th>\n",
       "      <th>Country</th>\n",
       "    </tr>\n",
       "  </thead>\n",
       "  <tbody>\n",
       "    <tr>\n",
       "      <th>135402</th>\n",
       "      <td>547895</td>\n",
       "      <td>22645</td>\n",
       "      <td>CERAMIC HEART FAIRY CAKE MONEY BANK</td>\n",
       "      <td>1</td>\n",
       "      <td>3/28/2011 10:52</td>\n",
       "      <td>1.45</td>\n",
       "      <td>18118.0</td>\n",
       "      <td>United Kingdom</td>\n",
       "    </tr>\n",
       "    <tr>\n",
       "      <th>520048</th>\n",
       "      <td>580256</td>\n",
       "      <td>23581</td>\n",
       "      <td>JUMBO BAG PAISLEY PARK</td>\n",
       "      <td>3</td>\n",
       "      <td>12/2/2011 12:24</td>\n",
       "      <td>2.08</td>\n",
       "      <td>14688.0</td>\n",
       "      <td>United Kingdom</td>\n",
       "    </tr>\n",
       "    <tr>\n",
       "      <th>64405</th>\n",
       "      <td>541604</td>\n",
       "      <td>22955</td>\n",
       "      <td>36 FOIL STAR CAKE CASES</td>\n",
       "      <td>1</td>\n",
       "      <td>1/19/2011 17:23</td>\n",
       "      <td>2.10</td>\n",
       "      <td>14572.0</td>\n",
       "      <td>United Kingdom</td>\n",
       "    </tr>\n",
       "    <tr>\n",
       "      <th>114328</th>\n",
       "      <td>546008</td>\n",
       "      <td>22884</td>\n",
       "      <td>NUMBER TILE VINTAGE FONT 5</td>\n",
       "      <td>1</td>\n",
       "      <td>3/8/2011 15:43</td>\n",
       "      <td>4.13</td>\n",
       "      <td>NaN</td>\n",
       "      <td>United Kingdom</td>\n",
       "    </tr>\n",
       "    <tr>\n",
       "      <th>62953</th>\n",
       "      <td>541516</td>\n",
       "      <td>22209</td>\n",
       "      <td>WOOD STAMP SET HAPPY BIRTHDAY</td>\n",
       "      <td>2</td>\n",
       "      <td>1/18/2011 17:34</td>\n",
       "      <td>1.63</td>\n",
       "      <td>NaN</td>\n",
       "      <td>United Kingdom</td>\n",
       "    </tr>\n",
       "  </tbody>\n",
       "</table>\n",
       "</div>"
      ],
      "text/plain": [
       "       Invoice StockCode                          Description  Quantity  \\\n",
       "135402  547895     22645  CERAMIC HEART FAIRY CAKE MONEY BANK         1   \n",
       "520048  580256     23581               JUMBO BAG PAISLEY PARK         3   \n",
       "64405   541604     22955             36 FOIL STAR CAKE CASES          1   \n",
       "114328  546008     22884           NUMBER TILE VINTAGE FONT 5         1   \n",
       "62953   541516     22209        WOOD STAMP SET HAPPY BIRTHDAY         2   \n",
       "\n",
       "            InvoiceDate  Price  Customer ID         Country  \n",
       "135402  3/28/2011 10:52   1.45      18118.0  United Kingdom  \n",
       "520048  12/2/2011 12:24   2.08      14688.0  United Kingdom  \n",
       "64405   1/19/2011 17:23   2.10      14572.0  United Kingdom  \n",
       "114328   3/8/2011 15:43   4.13          NaN  United Kingdom  \n",
       "62953   1/18/2011 17:34   1.63          NaN  United Kingdom  "
      ]
     },
     "execution_count": 9,
     "metadata": {},
     "output_type": "execute_result"
    }
   ],
   "source": [
    "data_2010_2011.sample(5)"
   ]
  },
  {
   "cell_type": "markdown",
   "id": "5d89847e",
   "metadata": {},
   "source": [
    "## Data 2009 - 2010"
   ]
  },
  {
   "cell_type": "code",
   "execution_count": 10,
   "id": "d96be285",
   "metadata": {
    "ExecuteTime": {
     "end_time": "2021-09-19T17:04:19.849094Z",
     "start_time": "2021-09-19T17:04:19.761158Z"
    }
   },
   "outputs": [],
   "source": [
    "df1 = data_2009_2010.copy()"
   ]
  },
  {
   "cell_type": "markdown",
   "id": "7e0dd520",
   "metadata": {},
   "source": [
    "### Check Characteristic Data"
   ]
  },
  {
   "cell_type": "markdown",
   "id": "7d37322b",
   "metadata": {},
   "source": [
    "**Data Shape**"
   ]
  },
  {
   "cell_type": "markdown",
   "id": "237f6f37",
   "metadata": {},
   "source": [
    "Kita akan mengecek ukuran dari data tahun 2009-2010 menggunakan atribut `.shape`"
   ]
  },
  {
   "cell_type": "code",
   "execution_count": 11,
   "id": "e676b35d",
   "metadata": {
    "ExecuteTime": {
     "end_time": "2021-09-19T17:04:19.958176Z",
     "start_time": "2021-09-19T17:04:19.850950Z"
    }
   },
   "outputs": [
    {
     "data": {
      "text/plain": [
       "(525461, 8)"
      ]
     },
     "execution_count": 11,
     "metadata": {},
     "output_type": "execute_result"
    }
   ],
   "source": [
    "df1.shape"
   ]
  },
  {
   "cell_type": "markdown",
   "id": "d57db2d7",
   "metadata": {},
   "source": [
    "Terlihat data transaksi pada tahun 2009-2010 sejumlah 525461 baris dengan 8 buah kolom."
   ]
  },
  {
   "cell_type": "markdown",
   "id": "b6113fdb",
   "metadata": {},
   "source": [
    "**Data Columns**"
   ]
  },
  {
   "cell_type": "code",
   "execution_count": 12,
   "id": "ade898bb",
   "metadata": {
    "ExecuteTime": {
     "end_time": "2021-09-19T17:04:20.058674Z",
     "start_time": "2021-09-19T17:04:19.961183Z"
    }
   },
   "outputs": [
    {
     "data": {
      "text/plain": [
       "Index(['Invoice', 'StockCode', 'Description', 'Quantity', 'InvoiceDate',\n",
       "       'Price', 'Customer ID', 'Country'],\n",
       "      dtype='object')"
      ]
     },
     "execution_count": 12,
     "metadata": {},
     "output_type": "execute_result"
    }
   ],
   "source": [
    "df1.columns"
   ]
  },
  {
   "cell_type": "markdown",
   "id": "02976f4c",
   "metadata": {
    "ExecuteTime": {
     "end_time": "2021-09-19T12:00:26.615340Z",
     "start_time": "2021-09-19T12:00:26.611331Z"
    }
   },
   "source": [
    "**Data Info**"
   ]
  },
  {
   "cell_type": "code",
   "execution_count": 13,
   "id": "bd28fa49",
   "metadata": {
    "ExecuteTime": {
     "end_time": "2021-09-19T17:04:20.262585Z",
     "start_time": "2021-09-19T17:04:20.060641Z"
    }
   },
   "outputs": [
    {
     "name": "stdout",
     "output_type": "stream",
     "text": [
      "<class 'pandas.core.frame.DataFrame'>\n",
      "RangeIndex: 525461 entries, 0 to 525460\n",
      "Data columns (total 8 columns):\n",
      " #   Column       Non-Null Count   Dtype  \n",
      "---  ------       --------------   -----  \n",
      " 0   Invoice      525461 non-null  object \n",
      " 1   StockCode    525461 non-null  object \n",
      " 2   Description  522533 non-null  object \n",
      " 3   Quantity     525461 non-null  int64  \n",
      " 4   InvoiceDate  525461 non-null  object \n",
      " 5   Price        525461 non-null  float64\n",
      " 6   Customer ID  417534 non-null  float64\n",
      " 7   Country      525461 non-null  object \n",
      "dtypes: float64(2), int64(1), object(5)\n",
      "memory usage: 32.1+ MB\n"
     ]
    }
   ],
   "source": [
    "df1.info()"
   ]
  },
  {
   "cell_type": "markdown",
   "id": "8d667e8a",
   "metadata": {},
   "source": [
    "Terdapat data yang kosong pada kolom tertentu saat dicek menggunakan metode `.info()`. Untuk data yang kita punya, diperoleh 2 kolom dengan tipe data *float*, 1 kolom dengan tipe data *integer*, dan 5 kolom dengan tipe data *object*."
   ]
  },
  {
   "cell_type": "markdown",
   "id": "e35f184f",
   "metadata": {},
   "source": [
    "**Descriptive Statistic**"
   ]
  },
  {
   "cell_type": "code",
   "execution_count": 14,
   "id": "b1b7b602",
   "metadata": {
    "ExecuteTime": {
     "end_time": "2021-09-19T17:04:20.376387Z",
     "start_time": "2021-09-19T17:04:20.265092Z"
    }
   },
   "outputs": [
    {
     "data": {
      "text/html": [
       "<div>\n",
       "<style scoped>\n",
       "    .dataframe tbody tr th:only-of-type {\n",
       "        vertical-align: middle;\n",
       "    }\n",
       "\n",
       "    .dataframe tbody tr th {\n",
       "        vertical-align: top;\n",
       "    }\n",
       "\n",
       "    .dataframe thead th {\n",
       "        text-align: right;\n",
       "    }\n",
       "</style>\n",
       "<table border=\"1\" class=\"dataframe\">\n",
       "  <thead>\n",
       "    <tr style=\"text-align: right;\">\n",
       "      <th></th>\n",
       "      <th>Quantity</th>\n",
       "      <th>Price</th>\n",
       "      <th>Customer ID</th>\n",
       "    </tr>\n",
       "  </thead>\n",
       "  <tbody>\n",
       "    <tr>\n",
       "      <th>count</th>\n",
       "      <td>525461.000000</td>\n",
       "      <td>525461.000000</td>\n",
       "      <td>417534.000000</td>\n",
       "    </tr>\n",
       "    <tr>\n",
       "      <th>mean</th>\n",
       "      <td>10.337667</td>\n",
       "      <td>4.688834</td>\n",
       "      <td>15360.645478</td>\n",
       "    </tr>\n",
       "    <tr>\n",
       "      <th>std</th>\n",
       "      <td>107.424110</td>\n",
       "      <td>146.126914</td>\n",
       "      <td>1680.811316</td>\n",
       "    </tr>\n",
       "    <tr>\n",
       "      <th>min</th>\n",
       "      <td>-9600.000000</td>\n",
       "      <td>-53594.360000</td>\n",
       "      <td>12346.000000</td>\n",
       "    </tr>\n",
       "    <tr>\n",
       "      <th>25%</th>\n",
       "      <td>1.000000</td>\n",
       "      <td>1.250000</td>\n",
       "      <td>13983.000000</td>\n",
       "    </tr>\n",
       "    <tr>\n",
       "      <th>50%</th>\n",
       "      <td>3.000000</td>\n",
       "      <td>2.100000</td>\n",
       "      <td>15311.000000</td>\n",
       "    </tr>\n",
       "    <tr>\n",
       "      <th>75%</th>\n",
       "      <td>10.000000</td>\n",
       "      <td>4.210000</td>\n",
       "      <td>16799.000000</td>\n",
       "    </tr>\n",
       "    <tr>\n",
       "      <th>max</th>\n",
       "      <td>19152.000000</td>\n",
       "      <td>25111.090000</td>\n",
       "      <td>18287.000000</td>\n",
       "    </tr>\n",
       "  </tbody>\n",
       "</table>\n",
       "</div>"
      ],
      "text/plain": [
       "            Quantity          Price    Customer ID\n",
       "count  525461.000000  525461.000000  417534.000000\n",
       "mean       10.337667       4.688834   15360.645478\n",
       "std       107.424110     146.126914    1680.811316\n",
       "min     -9600.000000  -53594.360000   12346.000000\n",
       "25%         1.000000       1.250000   13983.000000\n",
       "50%         3.000000       2.100000   15311.000000\n",
       "75%        10.000000       4.210000   16799.000000\n",
       "max     19152.000000   25111.090000   18287.000000"
      ]
     },
     "execution_count": 14,
     "metadata": {},
     "output_type": "execute_result"
    }
   ],
   "source": [
    "df1.describe()"
   ]
  },
  {
   "cell_type": "markdown",
   "id": "24a0672f",
   "metadata": {},
   "source": [
    "Saat kita melihat statistika deskriptif dari data tahun 2009-2010, diperoleh beberapa *insight* seperti :\n",
    "1. Nilai maksimum untuk kolom `Quantity` adalah 19152, sementara nilai kuartil atasnya (Q3) adalah 10. Hal ini mengindikasikan terdapat suatu transaksi dengan total pembelian barang yang sangat banyak untuk satu kali transaksi.\n",
    "2. Nilai maksimum untuk kolom `Price` adalah 25111,09, sementara nilai kuartil atasnya (Q3) adalah 4,21. Hal ini mengindikasikan terdapat suatu transaksi dengan total harga yang sangat banyak untuk satu kali transaksi.\n",
    "3. Terdapat nilai negatif pada kolom `Quantity`. Hal ini dapat dicurigai pembelian yang dibatalkan (Terdapat 'C' pada *Invoice*).\n",
    "4. Terdapat nilai negatif pada kolom `Price`. Hal ini juga dicurigain pembelian yang dibatalkan (Terdapat 'C' pada *Invoice*)."
   ]
  },
  {
   "cell_type": "markdown",
   "id": "0ef4d1e2",
   "metadata": {},
   "source": [
    "**Drop Invalid Data On Invoice**"
   ]
  },
  {
   "cell_type": "markdown",
   "id": "3fbeae84",
   "metadata": {},
   "source": [
    "Sebelumnya kita telah mengetahui bahwa huruf `'C'` pada kolom `Invoice` menandakan transaksi yang dibatalkan. Oleh karenanya, kita akan membuang data yang mempunyai huruf `'C'` pada kolom `Invoice`."
   ]
  },
  {
   "cell_type": "code",
   "execution_count": 15,
   "id": "624379b9",
   "metadata": {
    "ExecuteTime": {
     "end_time": "2021-09-19T17:04:20.625145Z",
     "start_time": "2021-09-19T17:04:20.378894Z"
    }
   },
   "outputs": [
    {
     "data": {
      "text/plain": [
       "(10206, 8)"
      ]
     },
     "execution_count": 15,
     "metadata": {},
     "output_type": "execute_result"
    }
   ],
   "source": [
    "df1[df1['Invoice'].str.contains('C')].shape"
   ]
  },
  {
   "cell_type": "markdown",
   "id": "70bca967",
   "metadata": {},
   "source": [
    "Terlihat terdapat 10206 data yang menyatakan transaksi yang dibatalkan. "
   ]
  },
  {
   "cell_type": "code",
   "execution_count": 16,
   "id": "bbe68b03",
   "metadata": {
    "ExecuteTime": {
     "end_time": "2021-09-19T17:04:20.884818Z",
     "start_time": "2021-09-19T17:04:20.628088Z"
    }
   },
   "outputs": [],
   "source": [
    "df1 = df1[~df1['Invoice'].str.contains('C')]"
   ]
  },
  {
   "cell_type": "code",
   "execution_count": 17,
   "id": "4cc7b105",
   "metadata": {
    "ExecuteTime": {
     "end_time": "2021-09-19T17:04:20.892793Z",
     "start_time": "2021-09-19T17:04:20.886274Z"
    }
   },
   "outputs": [
    {
     "data": {
      "text/plain": [
       "(515255, 8)"
      ]
     },
     "execution_count": 17,
     "metadata": {},
     "output_type": "execute_result"
    }
   ],
   "source": [
    "df1.shape"
   ]
  },
  {
   "cell_type": "markdown",
   "id": "cfcd2cc0",
   "metadata": {},
   "source": [
    "Jumlah data setelah dibuang data transaksi yang dibatalkan adalah 515255."
   ]
  },
  {
   "cell_type": "markdown",
   "id": "eff78e50",
   "metadata": {},
   "source": [
    "**Check Null Data**"
   ]
  },
  {
   "cell_type": "code",
   "execution_count": 18,
   "id": "46ca0948",
   "metadata": {
    "ExecuteTime": {
     "end_time": "2021-09-19T17:04:21.105624Z",
     "start_time": "2021-09-19T17:04:20.896302Z"
    }
   },
   "outputs": [
    {
     "data": {
      "text/plain": [
       "Invoice             0\n",
       "StockCode           0\n",
       "Description      2928\n",
       "Quantity            0\n",
       "InvoiceDate         0\n",
       "Price               0\n",
       "Customer ID    107560\n",
       "Country             0\n",
       "dtype: int64"
      ]
     },
     "execution_count": 18,
     "metadata": {},
     "output_type": "execute_result"
    }
   ],
   "source": [
    "df1.isnull().sum()"
   ]
  },
  {
   "cell_type": "markdown",
   "id": "5e95e6b0",
   "metadata": {},
   "source": [
    "Dikarenakan kita tidak bisa menganalisis *customer* jika kolom `CustomerID` bernilai kosong, kita akan membuang data yang mempunyai nilai yang kosong."
   ]
  },
  {
   "cell_type": "code",
   "execution_count": 19,
   "id": "fcafe33c",
   "metadata": {
    "ExecuteTime": {
     "end_time": "2021-09-19T17:04:21.329070Z",
     "start_time": "2021-09-19T17:04:21.108131Z"
    }
   },
   "outputs": [],
   "source": [
    "df1 = df1.dropna()"
   ]
  },
  {
   "cell_type": "code",
   "execution_count": 20,
   "id": "ee51ea76",
   "metadata": {
    "ExecuteTime": {
     "end_time": "2021-09-19T17:04:21.336590Z",
     "start_time": "2021-09-19T17:04:21.330573Z"
    }
   },
   "outputs": [
    {
     "data": {
      "text/plain": [
       "(407695, 8)"
      ]
     },
     "execution_count": 20,
     "metadata": {},
     "output_type": "execute_result"
    }
   ],
   "source": [
    "df1.shape"
   ]
  },
  {
   "cell_type": "markdown",
   "id": "b910fe8d",
   "metadata": {},
   "source": [
    "Terlihat jumlah data setelah membuang data kosong sebanyak 407695."
   ]
  },
  {
   "cell_type": "markdown",
   "id": "22f02e1f",
   "metadata": {},
   "source": [
    "**Check Duplicate Data**"
   ]
  },
  {
   "cell_type": "markdown",
   "id": "b473ec43",
   "metadata": {},
   "source": [
    "Kita akan membuang data duplikat pada data."
   ]
  },
  {
   "cell_type": "code",
   "execution_count": 21,
   "id": "4c90bf14",
   "metadata": {
    "ExecuteTime": {
     "end_time": "2021-09-19T17:04:21.781583Z",
     "start_time": "2021-09-19T17:04:21.340099Z"
    }
   },
   "outputs": [],
   "source": [
    "df1 = df1.drop_duplicates(keep='first')"
   ]
  },
  {
   "cell_type": "code",
   "execution_count": 22,
   "id": "7a143662",
   "metadata": {
    "ExecuteTime": {
     "end_time": "2021-09-19T17:04:21.789094Z",
     "start_time": "2021-09-19T17:04:21.783077Z"
    }
   },
   "outputs": [
    {
     "data": {
      "text/plain": [
       "(400947, 8)"
      ]
     },
     "execution_count": 22,
     "metadata": {},
     "output_type": "execute_result"
    }
   ],
   "source": [
    "df1.shape"
   ]
  },
  {
   "cell_type": "markdown",
   "id": "145154a7",
   "metadata": {},
   "source": [
    "Terlihat jumlah data setelah membuang data duplikat adalah sebanyak 400947."
   ]
  },
  {
   "cell_type": "markdown",
   "id": "824686c2",
   "metadata": {},
   "source": [
    "**Check Describe Again**"
   ]
  },
  {
   "cell_type": "code",
   "execution_count": 23,
   "id": "c5e9c527",
   "metadata": {
    "ExecuteTime": {
     "end_time": "2021-09-19T17:04:21.968988Z",
     "start_time": "2021-09-19T17:04:21.799080Z"
    }
   },
   "outputs": [
    {
     "data": {
      "text/html": [
       "<div>\n",
       "<style scoped>\n",
       "    .dataframe tbody tr th:only-of-type {\n",
       "        vertical-align: middle;\n",
       "    }\n",
       "\n",
       "    .dataframe tbody tr th {\n",
       "        vertical-align: top;\n",
       "    }\n",
       "\n",
       "    .dataframe thead th {\n",
       "        text-align: right;\n",
       "    }\n",
       "</style>\n",
       "<table border=\"1\" class=\"dataframe\">\n",
       "  <thead>\n",
       "    <tr style=\"text-align: right;\">\n",
       "      <th></th>\n",
       "      <th>Quantity</th>\n",
       "      <th>Price</th>\n",
       "      <th>Customer ID</th>\n",
       "    </tr>\n",
       "  </thead>\n",
       "  <tbody>\n",
       "    <tr>\n",
       "      <th>count</th>\n",
       "      <td>400947.000000</td>\n",
       "      <td>400947.000000</td>\n",
       "      <td>400947.000000</td>\n",
       "    </tr>\n",
       "    <tr>\n",
       "      <th>mean</th>\n",
       "      <td>13.768523</td>\n",
       "      <td>3.305571</td>\n",
       "      <td>15361.454639</td>\n",
       "    </tr>\n",
       "    <tr>\n",
       "      <th>std</th>\n",
       "      <td>97.639816</td>\n",
       "      <td>35.046376</td>\n",
       "      <td>1680.669487</td>\n",
       "    </tr>\n",
       "    <tr>\n",
       "      <th>min</th>\n",
       "      <td>1.000000</td>\n",
       "      <td>0.000000</td>\n",
       "      <td>12346.000000</td>\n",
       "    </tr>\n",
       "    <tr>\n",
       "      <th>25%</th>\n",
       "      <td>2.000000</td>\n",
       "      <td>1.250000</td>\n",
       "      <td>13985.000000</td>\n",
       "    </tr>\n",
       "    <tr>\n",
       "      <th>50%</th>\n",
       "      <td>5.000000</td>\n",
       "      <td>1.950000</td>\n",
       "      <td>15311.000000</td>\n",
       "    </tr>\n",
       "    <tr>\n",
       "      <th>75%</th>\n",
       "      <td>12.000000</td>\n",
       "      <td>3.750000</td>\n",
       "      <td>16805.000000</td>\n",
       "    </tr>\n",
       "    <tr>\n",
       "      <th>max</th>\n",
       "      <td>19152.000000</td>\n",
       "      <td>10953.500000</td>\n",
       "      <td>18287.000000</td>\n",
       "    </tr>\n",
       "  </tbody>\n",
       "</table>\n",
       "</div>"
      ],
      "text/plain": [
       "            Quantity          Price    Customer ID\n",
       "count  400947.000000  400947.000000  400947.000000\n",
       "mean       13.768523       3.305571   15361.454639\n",
       "std        97.639816      35.046376    1680.669487\n",
       "min         1.000000       0.000000   12346.000000\n",
       "25%         2.000000       1.250000   13985.000000\n",
       "50%         5.000000       1.950000   15311.000000\n",
       "75%        12.000000       3.750000   16805.000000\n",
       "max     19152.000000   10953.500000   18287.000000"
      ]
     },
     "execution_count": 23,
     "metadata": {},
     "output_type": "execute_result"
    }
   ],
   "source": [
    "df1.describe()"
   ]
  },
  {
   "cell_type": "markdown",
   "id": "8035fd3e",
   "metadata": {},
   "source": [
    "Terlihat untuk kolom `Price`, masih terdapat data yang bernilai 0. Kita akan membuang data tersebut."
   ]
  },
  {
   "cell_type": "code",
   "execution_count": 24,
   "id": "63af72ee",
   "metadata": {
    "ExecuteTime": {
     "end_time": "2021-09-19T17:04:22.070525Z",
     "start_time": "2021-09-19T17:04:21.970955Z"
    }
   },
   "outputs": [],
   "source": [
    "df1 = df1[df1['Price']>0]"
   ]
  },
  {
   "cell_type": "markdown",
   "id": "6acc447c",
   "metadata": {},
   "source": [
    "**Drop Des 2010 Data**"
   ]
  },
  {
   "cell_type": "markdown",
   "id": "a342e3d8",
   "metadata": {},
   "source": [
    "Kita akan membuang data pada bulan Desember 2010 agar kita mempunyai data untuk 1 tahun dimulai dari Desember 2009 hingga November 2008."
   ]
  },
  {
   "cell_type": "code",
   "execution_count": 25,
   "id": "fd7c599c",
   "metadata": {
    "ExecuteTime": {
     "end_time": "2021-09-19T17:04:29.545991Z",
     "start_time": "2021-09-19T17:04:29.540977Z"
    }
   },
   "outputs": [
    {
     "data": {
      "text/plain": [
       "(400916, 8)"
      ]
     },
     "execution_count": 25,
     "metadata": {},
     "output_type": "execute_result"
    }
   ],
   "source": [
    "df1.shape"
   ]
  },
  {
   "cell_type": "code",
   "execution_count": 26,
   "id": "aa9ff77a",
   "metadata": {
    "ExecuteTime": {
     "end_time": "2021-09-19T17:04:33.762922Z",
     "start_time": "2021-09-19T17:04:30.503984Z"
    }
   },
   "outputs": [],
   "source": [
    "df1['InvoiceDate'] = df1['InvoiceDate'].astype('datetime64')"
   ]
  },
  {
   "cell_type": "code",
   "execution_count": 31,
   "id": "17b7faac",
   "metadata": {
    "ExecuteTime": {
     "end_time": "2021-09-19T17:05:32.703046Z",
     "start_time": "2021-09-19T17:05:32.663900Z"
    }
   },
   "outputs": [],
   "source": [
    "df1 = df1[df1['InvoiceDate']<'2010-12-01']"
   ]
  },
  {
   "cell_type": "markdown",
   "id": "4f9205f5",
   "metadata": {},
   "source": [
    "**Check Data Type**"
   ]
  },
  {
   "cell_type": "code",
   "execution_count": 32,
   "id": "bee1bb2d",
   "metadata": {
    "ExecuteTime": {
     "end_time": "2021-09-19T17:06:56.763753Z",
     "start_time": "2021-09-19T17:06:56.757737Z"
    }
   },
   "outputs": [
    {
     "data": {
      "text/plain": [
       "Invoice                object\n",
       "StockCode              object\n",
       "Description            object\n",
       "Quantity                int64\n",
       "InvoiceDate    datetime64[ns]\n",
       "Price                 float64\n",
       "Customer ID           float64\n",
       "Country                object\n",
       "dtype: object"
      ]
     },
     "execution_count": 32,
     "metadata": {},
     "output_type": "execute_result"
    }
   ],
   "source": [
    "df1.dtypes"
   ]
  },
  {
   "cell_type": "markdown",
   "id": "71c7567c",
   "metadata": {},
   "source": [
    "**Check Number of Unique**"
   ]
  },
  {
   "cell_type": "code",
   "execution_count": 33,
   "id": "defca6ca",
   "metadata": {
    "ExecuteTime": {
     "end_time": "2021-09-19T17:08:25.611817Z",
     "start_time": "2021-09-19T17:08:25.451375Z"
    }
   },
   "outputs": [
    {
     "data": {
      "text/plain": [
       "Invoice        18437\n",
       "StockCode       4009\n",
       "Description     4432\n",
       "Quantity         337\n",
       "InvoiceDate    17303\n",
       "Price            442\n",
       "Customer ID     4266\n",
       "Country           37\n",
       "dtype: int64"
      ]
     },
     "execution_count": 33,
     "metadata": {},
     "output_type": "execute_result"
    }
   ],
   "source": [
    "df1.nunique()"
   ]
  },
  {
   "cell_type": "markdown",
   "id": "bc1cb0e0",
   "metadata": {},
   "source": [
    "### Handle Outlier"
   ]
  },
  {
   "cell_type": "code",
   "execution_count": 34,
   "id": "af1e2a94",
   "metadata": {
    "ExecuteTime": {
     "end_time": "2021-09-19T17:12:58.614020Z",
     "start_time": "2021-09-19T17:12:58.597975Z"
    }
   },
   "outputs": [
    {
     "data": {
      "text/html": [
       "<div>\n",
       "<style scoped>\n",
       "    .dataframe tbody tr th:only-of-type {\n",
       "        vertical-align: middle;\n",
       "    }\n",
       "\n",
       "    .dataframe tbody tr th {\n",
       "        vertical-align: top;\n",
       "    }\n",
       "\n",
       "    .dataframe thead th {\n",
       "        text-align: right;\n",
       "    }\n",
       "</style>\n",
       "<table border=\"1\" class=\"dataframe\">\n",
       "  <thead>\n",
       "    <tr style=\"text-align: right;\">\n",
       "      <th></th>\n",
       "      <th>Invoice</th>\n",
       "      <th>StockCode</th>\n",
       "      <th>Description</th>\n",
       "      <th>Quantity</th>\n",
       "      <th>InvoiceDate</th>\n",
       "      <th>Price</th>\n",
       "      <th>Customer ID</th>\n",
       "      <th>Country</th>\n",
       "    </tr>\n",
       "  </thead>\n",
       "  <tbody>\n",
       "    <tr>\n",
       "      <th>0</th>\n",
       "      <td>489434</td>\n",
       "      <td>85048</td>\n",
       "      <td>15CM CHRISTMAS GLASS BALL 20 LIGHTS</td>\n",
       "      <td>12</td>\n",
       "      <td>2009-12-01 07:45:00</td>\n",
       "      <td>6.95</td>\n",
       "      <td>13085.0</td>\n",
       "      <td>United Kingdom</td>\n",
       "    </tr>\n",
       "    <tr>\n",
       "      <th>1</th>\n",
       "      <td>489434</td>\n",
       "      <td>79323P</td>\n",
       "      <td>PINK CHERRY LIGHTS</td>\n",
       "      <td>12</td>\n",
       "      <td>2009-12-01 07:45:00</td>\n",
       "      <td>6.75</td>\n",
       "      <td>13085.0</td>\n",
       "      <td>United Kingdom</td>\n",
       "    </tr>\n",
       "    <tr>\n",
       "      <th>2</th>\n",
       "      <td>489434</td>\n",
       "      <td>79323W</td>\n",
       "      <td>WHITE CHERRY LIGHTS</td>\n",
       "      <td>12</td>\n",
       "      <td>2009-12-01 07:45:00</td>\n",
       "      <td>6.75</td>\n",
       "      <td>13085.0</td>\n",
       "      <td>United Kingdom</td>\n",
       "    </tr>\n",
       "    <tr>\n",
       "      <th>3</th>\n",
       "      <td>489434</td>\n",
       "      <td>22041</td>\n",
       "      <td>RECORD FRAME 7\" SINGLE SIZE</td>\n",
       "      <td>48</td>\n",
       "      <td>2009-12-01 07:45:00</td>\n",
       "      <td>2.10</td>\n",
       "      <td>13085.0</td>\n",
       "      <td>United Kingdom</td>\n",
       "    </tr>\n",
       "    <tr>\n",
       "      <th>4</th>\n",
       "      <td>489434</td>\n",
       "      <td>21232</td>\n",
       "      <td>STRAWBERRY CERAMIC TRINKET BOX</td>\n",
       "      <td>24</td>\n",
       "      <td>2009-12-01 07:45:00</td>\n",
       "      <td>1.25</td>\n",
       "      <td>13085.0</td>\n",
       "      <td>United Kingdom</td>\n",
       "    </tr>\n",
       "  </tbody>\n",
       "</table>\n",
       "</div>"
      ],
      "text/plain": [
       "  Invoice StockCode                          Description  Quantity  \\\n",
       "0  489434     85048  15CM CHRISTMAS GLASS BALL 20 LIGHTS        12   \n",
       "1  489434    79323P                   PINK CHERRY LIGHTS        12   \n",
       "2  489434    79323W                  WHITE CHERRY LIGHTS        12   \n",
       "3  489434     22041         RECORD FRAME 7\" SINGLE SIZE         48   \n",
       "4  489434     21232       STRAWBERRY CERAMIC TRINKET BOX        24   \n",
       "\n",
       "          InvoiceDate  Price  Customer ID         Country  \n",
       "0 2009-12-01 07:45:00   6.95      13085.0  United Kingdom  \n",
       "1 2009-12-01 07:45:00   6.75      13085.0  United Kingdom  \n",
       "2 2009-12-01 07:45:00   6.75      13085.0  United Kingdom  \n",
       "3 2009-12-01 07:45:00   2.10      13085.0  United Kingdom  \n",
       "4 2009-12-01 07:45:00   1.25      13085.0  United Kingdom  "
      ]
     },
     "execution_count": 34,
     "metadata": {},
     "output_type": "execute_result"
    }
   ],
   "source": [
    "df1.head()"
   ]
  },
  {
   "cell_type": "markdown",
   "id": "c1478182",
   "metadata": {},
   "source": [
    "**Boxplot in Quantity Columns**"
   ]
  },
  {
   "cell_type": "code",
   "execution_count": 43,
   "id": "0718f04c",
   "metadata": {
    "ExecuteTime": {
     "end_time": "2021-09-19T17:17:35.431411Z",
     "start_time": "2021-09-19T17:17:35.110996Z"
    }
   },
   "outputs": [
    {
     "data": {
      "image/png": "[encoded data removed]",
      "text/plain": [
       "<Figure size 720x432 with 1 Axes>"
      ]
     },
     "metadata": {},
     "output_type": "display_data"
    }
   ],
   "source": [
    "plt.figure(figsize=(10,6))\n",
    "sns.boxplot(df1['Quantity'])\n",
    "plt.title('Boxplot Quantity Columns', fontsize=15)\n",
    "plt.show()"
   ]
  },
  {
   "cell_type": "markdown",
   "id": "05b4252a",
   "metadata": {},
   "source": [
    "Berdasarkan gambar di atas, terlihat untuk kolom `Quantity` mempunyai data outlier."
   ]
  },
  {
   "cell_type": "markdown",
   "id": "dae31443",
   "metadata": {},
   "source": [
    "**Boxplot in Price Columns**"
   ]
  },
  {
   "cell_type": "code",
   "execution_count": 45,
   "id": "0fa8db6a",
   "metadata": {
    "ExecuteTime": {
     "end_time": "2021-09-19T17:17:56.714331Z",
     "start_time": "2021-09-19T17:17:56.479142Z"
    }
   },
   "outputs": [
    {
     "data": {
      "image/png": "[encoded data removed]",
      "text/plain": [
       "<Figure size 720x432 with 1 Axes>"
      ]
     },
     "metadata": {},
     "output_type": "display_data"
    }
   ],
   "source": [
    "plt.figure(figsize=(10,6))\n",
    "sns.boxplot(df1['Price'])\n",
    "plt.title('Boxplot Price Columns', fontsize=15)\n",
    "plt.show()"
   ]
  },
  {
   "cell_type": "markdown",
   "id": "b202bdc3",
   "metadata": {},
   "source": [
    "Berdasarkan gambar di atas, kolom `Price` mempunyai data outlier."
   ]
  },
  {
   "cell_type": "markdown",
   "id": "fa9dc9b2",
   "metadata": {},
   "source": [
    "**Remove Outlier Data From Quantity Columns**"
   ]
  },
  {
   "cell_type": "code",
   "execution_count": 47,
   "id": "503bb6e3",
   "metadata": {
    "ExecuteTime": {
     "end_time": "2021-09-19T17:24:54.372933Z",
     "start_time": "2021-09-19T17:24:54.352880Z"
    }
   },
   "outputs": [
    {
     "name": "stdout",
     "output_type": "stream",
     "text": [
      "Q1:2.0\n",
      "Q3:12.0\n",
      "IQR:10.0\n",
      "Min Quantity:-13.0\n",
      "Max Quantity:27.0\n"
     ]
    }
   ],
   "source": [
    "q1_quantity = df1['Quantity'].quantile(0.25)\n",
    "q3_quantity = df1['Quantity'].quantile(0.75)\n",
    "IQR = q3_quantity - q1_quantity\n",
    "min_quantity = q1_quantity - 1.5*IQR\n",
    "max_quantity = q3_quantity + 1.5*IQR\n",
    "print(f'Q1:{q1_quantity}')\n",
    "print(f'Q3:{q3_quantity}')\n",
    "print(f'IQR:{IQR}')\n",
    "print(f'Min Quantity:{min_quantity}')\n",
    "print(f'Max Quantity:{max_quantity}')"
   ]
  },
  {
   "cell_type": "code",
   "execution_count": 48,
   "id": "6290b42a",
   "metadata": {
    "ExecuteTime": {
     "end_time": "2021-09-19T17:25:54.343358Z",
     "start_time": "2021-09-19T17:25:54.306761Z"
    }
   },
   "outputs": [],
   "source": [
    "df1 = df1[(df1['Quantity']<=max_quantity) & (df1['Quantity']>=min_quantity)]"
   ]
  },
  {
   "cell_type": "code",
   "execution_count": 49,
   "id": "0d2c5be4",
   "metadata": {
    "ExecuteTime": {
     "end_time": "2021-09-19T17:26:00.212620Z",
     "start_time": "2021-09-19T17:26:00.207607Z"
    }
   },
   "outputs": [
    {
     "data": {
      "text/plain": [
       "(361229, 8)"
      ]
     },
     "execution_count": 49,
     "metadata": {},
     "output_type": "execute_result"
    }
   ],
   "source": [
    "df1.shape"
   ]
  },
  {
   "cell_type": "markdown",
   "id": "9c3a15b2",
   "metadata": {},
   "source": [
    "**Remove Outlier Data From Price Columns**"
   ]
  },
  {
   "cell_type": "code",
   "execution_count": 50,
   "id": "fc226500",
   "metadata": {
    "ExecuteTime": {
     "end_time": "2021-09-19T17:28:14.914117Z",
     "start_time": "2021-09-19T17:28:14.890054Z"
    }
   },
   "outputs": [
    {
     "name": "stdout",
     "output_type": "stream",
     "text": [
      "Q1:1.25\n",
      "Q3:3.75\n",
      "IQR:2.5\n",
      "Min Price:-2.5\n",
      "Max Price:7.5\n"
     ]
    }
   ],
   "source": [
    "q1_price = df1['Price'].quantile(0.25)\n",
    "q3_price = df1['Price'].quantile(0.75)\n",
    "IQR = q3_price - q1_price\n",
    "min_price = q1_price - 1.5*IQR\n",
    "max_price = q3_price + 1.5*IQR\n",
    "print(f'Q1:{q1_price}')\n",
    "print(f'Q3:{q3_price}')\n",
    "print(f'IQR:{IQR}')\n",
    "print(f'Min Price:{min_price}')\n",
    "print(f'Max Price:{max_price}')"
   ]
  },
  {
   "cell_type": "code",
   "execution_count": 51,
   "id": "e94e41a3",
   "metadata": {
    "ExecuteTime": {
     "end_time": "2021-09-19T17:28:34.112975Z",
     "start_time": "2021-09-19T17:28:34.073876Z"
    }
   },
   "outputs": [],
   "source": [
    "df1 = df1[(df1['Price']<=max_price) & (df1['Price']>=min_price)]"
   ]
  },
  {
   "cell_type": "code",
   "execution_count": 52,
   "id": "4ef76f45",
   "metadata": {
    "ExecuteTime": {
     "end_time": "2021-09-19T17:28:34.972696Z",
     "start_time": "2021-09-19T17:28:34.967684Z"
    },
    "scrolled": true
   },
   "outputs": [
    {
     "data": {
      "text/plain": [
       "(330139, 8)"
      ]
     },
     "execution_count": 52,
     "metadata": {},
     "output_type": "execute_result"
    }
   ],
   "source": [
    "df1.shape"
   ]
  },
  {
   "cell_type": "markdown",
   "id": "352f880e",
   "metadata": {},
   "source": [
    "### Exploratory Data Analysis (EDA)"
   ]
  },
  {
   "cell_type": "markdown",
   "id": "e286408d",
   "metadata": {},
   "source": [
    "**Number of Transaction Per Month**"
   ]
  },
  {
   "cell_type": "code",
   "execution_count": 53,
   "id": "b13ae68f",
   "metadata": {
    "ExecuteTime": {
     "end_time": "2021-09-19T17:31:33.383017Z",
     "start_time": "2021-09-19T17:31:33.369943Z"
    }
   },
   "outputs": [
    {
     "data": {
      "text/html": [
       "<div>\n",
       "<style scoped>\n",
       "    .dataframe tbody tr th:only-of-type {\n",
       "        vertical-align: middle;\n",
       "    }\n",
       "\n",
       "    .dataframe tbody tr th {\n",
       "        vertical-align: top;\n",
       "    }\n",
       "\n",
       "    .dataframe thead th {\n",
       "        text-align: right;\n",
       "    }\n",
       "</style>\n",
       "<table border=\"1\" class=\"dataframe\">\n",
       "  <thead>\n",
       "    <tr style=\"text-align: right;\">\n",
       "      <th></th>\n",
       "      <th>Invoice</th>\n",
       "      <th>StockCode</th>\n",
       "      <th>Description</th>\n",
       "      <th>Quantity</th>\n",
       "      <th>InvoiceDate</th>\n",
       "      <th>Price</th>\n",
       "      <th>Customer ID</th>\n",
       "      <th>Country</th>\n",
       "    </tr>\n",
       "  </thead>\n",
       "  <tbody>\n",
       "    <tr>\n",
       "      <th>0</th>\n",
       "      <td>489434</td>\n",
       "      <td>85048</td>\n",
       "      <td>15CM CHRISTMAS GLASS BALL 20 LIGHTS</td>\n",
       "      <td>12</td>\n",
       "      <td>2009-12-01 07:45:00</td>\n",
       "      <td>6.95</td>\n",
       "      <td>13085.0</td>\n",
       "      <td>United Kingdom</td>\n",
       "    </tr>\n",
       "    <tr>\n",
       "      <th>1</th>\n",
       "      <td>489434</td>\n",
       "      <td>79323P</td>\n",
       "      <td>PINK CHERRY LIGHTS</td>\n",
       "      <td>12</td>\n",
       "      <td>2009-12-01 07:45:00</td>\n",
       "      <td>6.75</td>\n",
       "      <td>13085.0</td>\n",
       "      <td>United Kingdom</td>\n",
       "    </tr>\n",
       "    <tr>\n",
       "      <th>2</th>\n",
       "      <td>489434</td>\n",
       "      <td>79323W</td>\n",
       "      <td>WHITE CHERRY LIGHTS</td>\n",
       "      <td>12</td>\n",
       "      <td>2009-12-01 07:45:00</td>\n",
       "      <td>6.75</td>\n",
       "      <td>13085.0</td>\n",
       "      <td>United Kingdom</td>\n",
       "    </tr>\n",
       "    <tr>\n",
       "      <th>4</th>\n",
       "      <td>489434</td>\n",
       "      <td>21232</td>\n",
       "      <td>STRAWBERRY CERAMIC TRINKET BOX</td>\n",
       "      <td>24</td>\n",
       "      <td>2009-12-01 07:45:00</td>\n",
       "      <td>1.25</td>\n",
       "      <td>13085.0</td>\n",
       "      <td>United Kingdom</td>\n",
       "    </tr>\n",
       "    <tr>\n",
       "      <th>5</th>\n",
       "      <td>489434</td>\n",
       "      <td>22064</td>\n",
       "      <td>PINK DOUGHNUT TRINKET POT</td>\n",
       "      <td>24</td>\n",
       "      <td>2009-12-01 07:45:00</td>\n",
       "      <td>1.65</td>\n",
       "      <td>13085.0</td>\n",
       "      <td>United Kingdom</td>\n",
       "    </tr>\n",
       "  </tbody>\n",
       "</table>\n",
       "</div>"
      ],
      "text/plain": [
       "  Invoice StockCode                          Description  Quantity  \\\n",
       "0  489434     85048  15CM CHRISTMAS GLASS BALL 20 LIGHTS        12   \n",
       "1  489434    79323P                   PINK CHERRY LIGHTS        12   \n",
       "2  489434    79323W                  WHITE CHERRY LIGHTS        12   \n",
       "4  489434     21232       STRAWBERRY CERAMIC TRINKET BOX        24   \n",
       "5  489434     22064           PINK DOUGHNUT TRINKET POT         24   \n",
       "\n",
       "          InvoiceDate  Price  Customer ID         Country  \n",
       "0 2009-12-01 07:45:00   6.95      13085.0  United Kingdom  \n",
       "1 2009-12-01 07:45:00   6.75      13085.0  United Kingdom  \n",
       "2 2009-12-01 07:45:00   6.75      13085.0  United Kingdom  \n",
       "4 2009-12-01 07:45:00   1.25      13085.0  United Kingdom  \n",
       "5 2009-12-01 07:45:00   1.65      13085.0  United Kingdom  "
      ]
     },
     "execution_count": 53,
     "metadata": {},
     "output_type": "execute_result"
    }
   ],
   "source": [
    "df1.head()"
   ]
  },
  {
   "cell_type": "code",
   "execution_count": null,
   "id": "3f49c238",
   "metadata": {},
   "outputs": [],
   "source": []
  },
  {
   "cell_type": "code",
   "execution_count": null,
   "id": "085ffd7e",
   "metadata": {},
   "outputs": [],
   "source": []
  },
  {
   "cell_type": "markdown",
   "id": "3f6010c6",
   "metadata": {},
   "source": [
    "## Data 2010 - 2011"
   ]
  },
  {
   "cell_type": "code",
   "execution_count": null,
   "id": "bf087b7a",
   "metadata": {},
   "outputs": [],
   "source": []
  }
 ],
 "metadata": {
  "kernelspec": {
   "display_name": "MachineLearning",
   "language": "python",
   "name": "machinelearning"
  },
  "language_info": {
   "codemirror_mode": {
    "name": "ipython",
    "version": 3
   },
   "file_extension": ".py",
   "mimetype": "text/x-python",
   "name": "python",
   "nbconvert_exporter": "python",
   "pygments_lexer": "ipython3",
   "version": "3.8.11"
  },
  "toc": {
   "base_numbering": 1,
   "nav_menu": {},
   "number_sections": false,
   "sideBar": true,
   "skip_h1_title": false,
   "title_cell": "Table of Contents",
   "title_sidebar": "Contents",
   "toc_cell": false,
   "toc_position": {},
   "toc_section_display": true,
   "toc_window_display": false
  },
  "varInspector": {
   "cols": {
    "lenName": 16,
    "lenType": 16,
    "lenVar": 40
   },
   "kernels_config": {
    "python": {
     "delete_cmd_postfix": "",
     "delete_cmd_prefix": "del ",
     "library": "var_list.py",
     "varRefreshCmd": "print(var_dic_list())"
    },
    "r": {
     "delete_cmd_postfix": ") ",
     "delete_cmd_prefix": "rm(",
     "library": "var_list.r",
     "varRefreshCmd": "cat(var_dic_list()) "
    }
   },
   "types_to_exclude": [
    "module",
    "function",
    "builtin_function_or_method",
    "instance",
    "_Feature"
   ],
   "window_display": false
  }
 },
 "nbformat": 4,
 "nbformat_minor": 5
}
