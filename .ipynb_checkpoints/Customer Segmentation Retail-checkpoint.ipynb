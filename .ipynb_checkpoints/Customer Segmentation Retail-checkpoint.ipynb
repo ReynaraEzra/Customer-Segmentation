{
 "cells": [
  {
   "cell_type": "markdown",
   "id": "b57a3720",
   "metadata": {},
   "source": [
    "# Customer Segmentation on Online Retail Data Using RFM Analysis \n",
    "## Reynara Ezra Pratama"
   ]
  },
  {
   "cell_type": "markdown",
   "id": "98c77755",
   "metadata": {},
   "source": [
    "## Background"
   ]
  },
  {
   "cell_type": "markdown",
   "id": "b5480085",
   "metadata": {},
   "source": [
    "Data retail online II berisi seluruh data transaksi retail non-toko yang berbasis di Inggris dan terdaftar yang terjadi pada tanggal 1 Desember 2009 s/d 9 Desember 2011. Perusahaan ini terutama menjual perlengkapan hadiah unik dan banyak pelanggan perusahaan adalah grosir. \n",
    "\n",
    "Dataset yang akan digunakan dalam melakukan *customer segmentation* dapat dilihat pada [link ini](https://www.kaggle.com/mathchi/online-retail-ii-data-set-from-ml-repository)"
   ]
  },
  {
   "cell_type": "markdown",
   "id": "3b310e37",
   "metadata": {},
   "source": [
    "## Business Understanding"
   ]
  },
  {
   "cell_type": "markdown",
   "id": "dd643551",
   "metadata": {},
   "source": [
    "1. Mendapatkan gambaran bisnis produk yang terjual pada tahun 2009-2010 dan 2010-2011.\n",
    "2. Melakukan segmentasi pada *Customer* untuk melihat karakteristiknya.\n",
    "3. Mengetahui rekomendasi yang dapat dilakukan setelah diketahui karakteristik *Customer*."
   ]
  },
  {
   "cell_type": "markdown",
   "id": "db35dbb9",
   "metadata": {},
   "source": [
    "## Data Understanding"
   ]
  },
  {
   "cell_type": "markdown",
   "id": "b4f8a53f",
   "metadata": {},
   "source": [
    "1. `Invoice` : Nomer invoice. 6 digit angka unik untuk setiap transaksi. Jika data diawali 'c', menandakan pembatalan.\n",
    "2. `StockCode` : Kode produk. 5 digit angka unik untuk setiap produk.\n",
    "3. `Description` : Penjelasan nama dari produk.\n",
    "4. `Quantity` : Jumlah produk setiap transaksi.\n",
    "5. `InvoiceDate` : Tanggal dan waktu dari Invoice.\n",
    "6. `Price` : Harga unit.\n",
    "7. `Customer ID` : Nomer *customer*. 5 digit angka untuk untuk setiap *customer*.\n",
    "8. `Country` : Negara dimana *customer* berada."
   ]
  },
  {
   "cell_type": "markdown",
   "id": "07b825fa",
   "metadata": {},
   "source": [
    "## Import Library"
   ]
  },
  {
   "cell_type": "code",
   "execution_count": 1,
   "id": "2135aba2",
   "metadata": {
    "ExecuteTime": {
     "end_time": "2021-09-20T13:24:10.978809Z",
     "start_time": "2021-09-20T13:23:55.517345Z"
    }
   },
   "outputs": [],
   "source": [
    "import pandas as pd\n",
    "import numpy as np\n",
    "import matplotlib.pyplot as plt\n",
    "import seaborn as sns\n",
    "sns.set_theme()\n",
    "\n",
    "import warnings\n",
    "warnings.filterwarnings(\"ignore\")\n",
    "\n",
    "from sklearn.preprocessing import StandardScaler\n",
    "from sklearn.cluster import KMeans"
   ]
  },
  {
   "cell_type": "markdown",
   "id": "1e5d53d1",
   "metadata": {},
   "source": [
    "## Loading Dataset"
   ]
  },
  {
   "cell_type": "markdown",
   "id": "599243ed",
   "metadata": {},
   "source": [
    "### Load Data From Github"
   ]
  },
  {
   "cell_type": "code",
   "execution_count": 2,
   "id": "602f747f",
   "metadata": {
    "ExecuteTime": {
     "end_time": "2021-09-20T13:24:10.984825Z",
     "start_time": "2021-09-20T13:24:10.981817Z"
    }
   },
   "outputs": [],
   "source": [
    "# data_2009_2010 = pd.read_csv('https://raw.githubusercontent.com/ReynaraEzra/Customer-Segmentation/main/data_input/Year%202009-2010.csv')\n",
    "# data_2010_2011 = pd.read_csv('https://raw.githubusercontent.com/ReynaraEzra/Customer-Segmentation/main/data_input/Year%202010-2011.csv')"
   ]
  },
  {
   "cell_type": "markdown",
   "id": "648f10a6",
   "metadata": {},
   "source": [
    "### Load Data From Local File"
   ]
  },
  {
   "cell_type": "code",
   "execution_count": 3,
   "id": "c30621f4",
   "metadata": {
    "ExecuteTime": {
     "end_time": "2021-09-20T13:24:12.863299Z",
     "start_time": "2021-09-20T13:24:10.987836Z"
    }
   },
   "outputs": [],
   "source": [
    "data_2009_2010 = pd.read_csv('data_input\\Year 2009-2010.csv', encoding='unicode_escape')\n",
    "data_2010_2011 = pd.read_csv('data_input\\Year 2010-2011.csv', encoding='unicode_escape')"
   ]
  },
  {
   "cell_type": "markdown",
   "id": "4b16459b",
   "metadata": {},
   "source": [
    "## Checking Dataset"
   ]
  },
  {
   "cell_type": "markdown",
   "id": "30d1201f",
   "metadata": {},
   "source": [
    "### Data 2009 - 2010"
   ]
  },
  {
   "cell_type": "code",
   "execution_count": 4,
   "id": "d0303155",
   "metadata": {
    "ExecuteTime": {
     "end_time": "2021-09-20T13:24:12.931554Z",
     "start_time": "2021-09-20T13:24:12.866309Z"
    }
   },
   "outputs": [
    {
     "data": {
      "text/html": [
       "<div>\n",
       "<style scoped>\n",
       "    .dataframe tbody tr th:only-of-type {\n",
       "        vertical-align: middle;\n",
       "    }\n",
       "\n",
       "    .dataframe tbody tr th {\n",
       "        vertical-align: top;\n",
       "    }\n",
       "\n",
       "    .dataframe thead th {\n",
       "        text-align: right;\n",
       "    }\n",
       "</style>\n",
       "<table border=\"1\" class=\"dataframe\">\n",
       "  <thead>\n",
       "    <tr style=\"text-align: right;\">\n",
       "      <th></th>\n",
       "      <th>Invoice</th>\n",
       "      <th>StockCode</th>\n",
       "      <th>Description</th>\n",
       "      <th>Quantity</th>\n",
       "      <th>InvoiceDate</th>\n",
       "      <th>Price</th>\n",
       "      <th>Customer ID</th>\n",
       "      <th>Country</th>\n",
       "    </tr>\n",
       "  </thead>\n",
       "  <tbody>\n",
       "    <tr>\n",
       "      <th>0</th>\n",
       "      <td>489434</td>\n",
       "      <td>85048</td>\n",
       "      <td>15CM CHRISTMAS GLASS BALL 20 LIGHTS</td>\n",
       "      <td>12</td>\n",
       "      <td>12/1/2009 7:45</td>\n",
       "      <td>6.95</td>\n",
       "      <td>13085.0</td>\n",
       "      <td>United Kingdom</td>\n",
       "    </tr>\n",
       "    <tr>\n",
       "      <th>1</th>\n",
       "      <td>489434</td>\n",
       "      <td>79323P</td>\n",
       "      <td>PINK CHERRY LIGHTS</td>\n",
       "      <td>12</td>\n",
       "      <td>12/1/2009 7:45</td>\n",
       "      <td>6.75</td>\n",
       "      <td>13085.0</td>\n",
       "      <td>United Kingdom</td>\n",
       "    </tr>\n",
       "    <tr>\n",
       "      <th>2</th>\n",
       "      <td>489434</td>\n",
       "      <td>79323W</td>\n",
       "      <td>WHITE CHERRY LIGHTS</td>\n",
       "      <td>12</td>\n",
       "      <td>12/1/2009 7:45</td>\n",
       "      <td>6.75</td>\n",
       "      <td>13085.0</td>\n",
       "      <td>United Kingdom</td>\n",
       "    </tr>\n",
       "    <tr>\n",
       "      <th>3</th>\n",
       "      <td>489434</td>\n",
       "      <td>22041</td>\n",
       "      <td>RECORD FRAME 7\" SINGLE SIZE</td>\n",
       "      <td>48</td>\n",
       "      <td>12/1/2009 7:45</td>\n",
       "      <td>2.10</td>\n",
       "      <td>13085.0</td>\n",
       "      <td>United Kingdom</td>\n",
       "    </tr>\n",
       "    <tr>\n",
       "      <th>4</th>\n",
       "      <td>489434</td>\n",
       "      <td>21232</td>\n",
       "      <td>STRAWBERRY CERAMIC TRINKET BOX</td>\n",
       "      <td>24</td>\n",
       "      <td>12/1/2009 7:45</td>\n",
       "      <td>1.25</td>\n",
       "      <td>13085.0</td>\n",
       "      <td>United Kingdom</td>\n",
       "    </tr>\n",
       "  </tbody>\n",
       "</table>\n",
       "</div>"
      ],
      "text/plain": [
       "  Invoice StockCode                          Description  Quantity  \\\n",
       "0  489434     85048  15CM CHRISTMAS GLASS BALL 20 LIGHTS        12   \n",
       "1  489434    79323P                   PINK CHERRY LIGHTS        12   \n",
       "2  489434    79323W                  WHITE CHERRY LIGHTS        12   \n",
       "3  489434     22041         RECORD FRAME 7\" SINGLE SIZE         48   \n",
       "4  489434     21232       STRAWBERRY CERAMIC TRINKET BOX        24   \n",
       "\n",
       "      InvoiceDate  Price  Customer ID         Country  \n",
       "0  12/1/2009 7:45   6.95      13085.0  United Kingdom  \n",
       "1  12/1/2009 7:45   6.75      13085.0  United Kingdom  \n",
       "2  12/1/2009 7:45   6.75      13085.0  United Kingdom  \n",
       "3  12/1/2009 7:45   2.10      13085.0  United Kingdom  \n",
       "4  12/1/2009 7:45   1.25      13085.0  United Kingdom  "
      ]
     },
     "execution_count": 4,
     "metadata": {},
     "output_type": "execute_result"
    }
   ],
   "source": [
    "data_2009_2010.head()"
   ]
  },
  {
   "cell_type": "code",
   "execution_count": 5,
   "id": "3bdb0b40",
   "metadata": {
    "ExecuteTime": {
     "end_time": "2021-09-20T13:24:12.983191Z",
     "start_time": "2021-09-20T13:24:12.933560Z"
    }
   },
   "outputs": [
    {
     "data": {
      "text/html": [
       "<div>\n",
       "<style scoped>\n",
       "    .dataframe tbody tr th:only-of-type {\n",
       "        vertical-align: middle;\n",
       "    }\n",
       "\n",
       "    .dataframe tbody tr th {\n",
       "        vertical-align: top;\n",
       "    }\n",
       "\n",
       "    .dataframe thead th {\n",
       "        text-align: right;\n",
       "    }\n",
       "</style>\n",
       "<table border=\"1\" class=\"dataframe\">\n",
       "  <thead>\n",
       "    <tr style=\"text-align: right;\">\n",
       "      <th></th>\n",
       "      <th>Invoice</th>\n",
       "      <th>StockCode</th>\n",
       "      <th>Description</th>\n",
       "      <th>Quantity</th>\n",
       "      <th>InvoiceDate</th>\n",
       "      <th>Price</th>\n",
       "      <th>Customer ID</th>\n",
       "      <th>Country</th>\n",
       "    </tr>\n",
       "  </thead>\n",
       "  <tbody>\n",
       "    <tr>\n",
       "      <th>525456</th>\n",
       "      <td>538171</td>\n",
       "      <td>22271</td>\n",
       "      <td>FELTCRAFT DOLL ROSIE</td>\n",
       "      <td>2</td>\n",
       "      <td>12/9/2010 20:01</td>\n",
       "      <td>2.95</td>\n",
       "      <td>17530.0</td>\n",
       "      <td>United Kingdom</td>\n",
       "    </tr>\n",
       "    <tr>\n",
       "      <th>525457</th>\n",
       "      <td>538171</td>\n",
       "      <td>22750</td>\n",
       "      <td>FELTCRAFT PRINCESS LOLA DOLL</td>\n",
       "      <td>1</td>\n",
       "      <td>12/9/2010 20:01</td>\n",
       "      <td>3.75</td>\n",
       "      <td>17530.0</td>\n",
       "      <td>United Kingdom</td>\n",
       "    </tr>\n",
       "    <tr>\n",
       "      <th>525458</th>\n",
       "      <td>538171</td>\n",
       "      <td>22751</td>\n",
       "      <td>FELTCRAFT PRINCESS OLIVIA DOLL</td>\n",
       "      <td>1</td>\n",
       "      <td>12/9/2010 20:01</td>\n",
       "      <td>3.75</td>\n",
       "      <td>17530.0</td>\n",
       "      <td>United Kingdom</td>\n",
       "    </tr>\n",
       "    <tr>\n",
       "      <th>525459</th>\n",
       "      <td>538171</td>\n",
       "      <td>20970</td>\n",
       "      <td>PINK FLORAL FELTCRAFT SHOULDER BAG</td>\n",
       "      <td>2</td>\n",
       "      <td>12/9/2010 20:01</td>\n",
       "      <td>3.75</td>\n",
       "      <td>17530.0</td>\n",
       "      <td>United Kingdom</td>\n",
       "    </tr>\n",
       "    <tr>\n",
       "      <th>525460</th>\n",
       "      <td>538171</td>\n",
       "      <td>21931</td>\n",
       "      <td>JUMBO STORAGE BAG SUKI</td>\n",
       "      <td>2</td>\n",
       "      <td>12/9/2010 20:01</td>\n",
       "      <td>1.95</td>\n",
       "      <td>17530.0</td>\n",
       "      <td>United Kingdom</td>\n",
       "    </tr>\n",
       "  </tbody>\n",
       "</table>\n",
       "</div>"
      ],
      "text/plain": [
       "       Invoice StockCode                         Description  Quantity  \\\n",
       "525456  538171     22271                FELTCRAFT DOLL ROSIE         2   \n",
       "525457  538171     22750        FELTCRAFT PRINCESS LOLA DOLL         1   \n",
       "525458  538171     22751      FELTCRAFT PRINCESS OLIVIA DOLL         1   \n",
       "525459  538171     20970  PINK FLORAL FELTCRAFT SHOULDER BAG         2   \n",
       "525460  538171     21931              JUMBO STORAGE BAG SUKI         2   \n",
       "\n",
       "            InvoiceDate  Price  Customer ID         Country  \n",
       "525456  12/9/2010 20:01   2.95      17530.0  United Kingdom  \n",
       "525457  12/9/2010 20:01   3.75      17530.0  United Kingdom  \n",
       "525458  12/9/2010 20:01   3.75      17530.0  United Kingdom  \n",
       "525459  12/9/2010 20:01   3.75      17530.0  United Kingdom  \n",
       "525460  12/9/2010 20:01   1.95      17530.0  United Kingdom  "
      ]
     },
     "execution_count": 5,
     "metadata": {},
     "output_type": "execute_result"
    }
   ],
   "source": [
    "data_2009_2010.tail()"
   ]
  },
  {
   "cell_type": "code",
   "execution_count": 6,
   "id": "8b9e5ee0",
   "metadata": {
    "ExecuteTime": {
     "end_time": "2021-09-20T13:24:13.139720Z",
     "start_time": "2021-09-20T13:24:12.986200Z"
    }
   },
   "outputs": [
    {
     "data": {
      "text/html": [
       "<div>\n",
       "<style scoped>\n",
       "    .dataframe tbody tr th:only-of-type {\n",
       "        vertical-align: middle;\n",
       "    }\n",
       "\n",
       "    .dataframe tbody tr th {\n",
       "        vertical-align: top;\n",
       "    }\n",
       "\n",
       "    .dataframe thead th {\n",
       "        text-align: right;\n",
       "    }\n",
       "</style>\n",
       "<table border=\"1\" class=\"dataframe\">\n",
       "  <thead>\n",
       "    <tr style=\"text-align: right;\">\n",
       "      <th></th>\n",
       "      <th>Invoice</th>\n",
       "      <th>StockCode</th>\n",
       "      <th>Description</th>\n",
       "      <th>Quantity</th>\n",
       "      <th>InvoiceDate</th>\n",
       "      <th>Price</th>\n",
       "      <th>Customer ID</th>\n",
       "      <th>Country</th>\n",
       "    </tr>\n",
       "  </thead>\n",
       "  <tbody>\n",
       "    <tr>\n",
       "      <th>270327</th>\n",
       "      <td>515591</td>\n",
       "      <td>21121</td>\n",
       "      <td>SET/10 RED SPOTTY PARTY CANDLES</td>\n",
       "      <td>1</td>\n",
       "      <td>7/13/2010 13:20</td>\n",
       "      <td>1.25</td>\n",
       "      <td>13428.0</td>\n",
       "      <td>United Kingdom</td>\n",
       "    </tr>\n",
       "    <tr>\n",
       "      <th>79734</th>\n",
       "      <td>496631</td>\n",
       "      <td>22215</td>\n",
       "      <td>CAKE STAND WHITE TWO TIER LACE</td>\n",
       "      <td>2</td>\n",
       "      <td>2/3/2010 10:39</td>\n",
       "      <td>8.50</td>\n",
       "      <td>14146.0</td>\n",
       "      <td>United Kingdom</td>\n",
       "    </tr>\n",
       "    <tr>\n",
       "      <th>307050</th>\n",
       "      <td>519358</td>\n",
       "      <td>90104</td>\n",
       "      <td>PURPLE FRANGIPANI HAIRCLIP</td>\n",
       "      <td>1</td>\n",
       "      <td>8/16/2010 12:36</td>\n",
       "      <td>0.83</td>\n",
       "      <td>NaN</td>\n",
       "      <td>United Kingdom</td>\n",
       "    </tr>\n",
       "    <tr>\n",
       "      <th>470801</th>\n",
       "      <td>533750</td>\n",
       "      <td>21865</td>\n",
       "      <td>PINK UNION JACK  PASSPORT COVER</td>\n",
       "      <td>2</td>\n",
       "      <td>11/18/2010 14:17</td>\n",
       "      <td>2.10</td>\n",
       "      <td>15571.0</td>\n",
       "      <td>United Kingdom</td>\n",
       "    </tr>\n",
       "    <tr>\n",
       "      <th>413648</th>\n",
       "      <td>528919</td>\n",
       "      <td>22200</td>\n",
       "      <td>FRYING PAN PINK POLKADOT</td>\n",
       "      <td>1</td>\n",
       "      <td>10/25/2010 14:27</td>\n",
       "      <td>4.25</td>\n",
       "      <td>16259.0</td>\n",
       "      <td>United Kingdom</td>\n",
       "    </tr>\n",
       "  </tbody>\n",
       "</table>\n",
       "</div>"
      ],
      "text/plain": [
       "       Invoice StockCode                       Description  Quantity  \\\n",
       "270327  515591     21121   SET/10 RED SPOTTY PARTY CANDLES         1   \n",
       "79734   496631     22215    CAKE STAND WHITE TWO TIER LACE         2   \n",
       "307050  519358     90104        PURPLE FRANGIPANI HAIRCLIP         1   \n",
       "470801  533750     21865  PINK UNION JACK  PASSPORT COVER          2   \n",
       "413648  528919     22200          FRYING PAN PINK POLKADOT         1   \n",
       "\n",
       "             InvoiceDate  Price  Customer ID         Country  \n",
       "270327   7/13/2010 13:20   1.25      13428.0  United Kingdom  \n",
       "79734     2/3/2010 10:39   8.50      14146.0  United Kingdom  \n",
       "307050   8/16/2010 12:36   0.83          NaN  United Kingdom  \n",
       "470801  11/18/2010 14:17   2.10      15571.0  United Kingdom  \n",
       "413648  10/25/2010 14:27   4.25      16259.0  United Kingdom  "
      ]
     },
     "execution_count": 6,
     "metadata": {},
     "output_type": "execute_result"
    }
   ],
   "source": [
    "data_2009_2010.sample(5)"
   ]
  },
  {
   "cell_type": "markdown",
   "id": "dafe5cf5",
   "metadata": {},
   "source": [
    "### Data 2010 - 2011"
   ]
  },
  {
   "cell_type": "code",
   "execution_count": 7,
   "id": "c63d740c",
   "metadata": {
    "ExecuteTime": {
     "end_time": "2021-09-20T13:24:13.245920Z",
     "start_time": "2021-09-20T13:24:13.142228Z"
    }
   },
   "outputs": [
    {
     "data": {
      "text/html": [
       "<div>\n",
       "<style scoped>\n",
       "    .dataframe tbody tr th:only-of-type {\n",
       "        vertical-align: middle;\n",
       "    }\n",
       "\n",
       "    .dataframe tbody tr th {\n",
       "        vertical-align: top;\n",
       "    }\n",
       "\n",
       "    .dataframe thead th {\n",
       "        text-align: right;\n",
       "    }\n",
       "</style>\n",
       "<table border=\"1\" class=\"dataframe\">\n",
       "  <thead>\n",
       "    <tr style=\"text-align: right;\">\n",
       "      <th></th>\n",
       "      <th>Invoice</th>\n",
       "      <th>StockCode</th>\n",
       "      <th>Description</th>\n",
       "      <th>Quantity</th>\n",
       "      <th>InvoiceDate</th>\n",
       "      <th>Price</th>\n",
       "      <th>Customer ID</th>\n",
       "      <th>Country</th>\n",
       "    </tr>\n",
       "  </thead>\n",
       "  <tbody>\n",
       "    <tr>\n",
       "      <th>0</th>\n",
       "      <td>536365</td>\n",
       "      <td>85123A</td>\n",
       "      <td>WHITE HANGING HEART T-LIGHT HOLDER</td>\n",
       "      <td>6</td>\n",
       "      <td>12/1/2010 8:26</td>\n",
       "      <td>2.55</td>\n",
       "      <td>17850.0</td>\n",
       "      <td>United Kingdom</td>\n",
       "    </tr>\n",
       "    <tr>\n",
       "      <th>1</th>\n",
       "      <td>536365</td>\n",
       "      <td>71053</td>\n",
       "      <td>WHITE METAL LANTERN</td>\n",
       "      <td>6</td>\n",
       "      <td>12/1/2010 8:26</td>\n",
       "      <td>3.39</td>\n",
       "      <td>17850.0</td>\n",
       "      <td>United Kingdom</td>\n",
       "    </tr>\n",
       "    <tr>\n",
       "      <th>2</th>\n",
       "      <td>536365</td>\n",
       "      <td>84406B</td>\n",
       "      <td>CREAM CUPID HEARTS COAT HANGER</td>\n",
       "      <td>8</td>\n",
       "      <td>12/1/2010 8:26</td>\n",
       "      <td>2.75</td>\n",
       "      <td>17850.0</td>\n",
       "      <td>United Kingdom</td>\n",
       "    </tr>\n",
       "    <tr>\n",
       "      <th>3</th>\n",
       "      <td>536365</td>\n",
       "      <td>84029G</td>\n",
       "      <td>KNITTED UNION FLAG HOT WATER BOTTLE</td>\n",
       "      <td>6</td>\n",
       "      <td>12/1/2010 8:26</td>\n",
       "      <td>3.39</td>\n",
       "      <td>17850.0</td>\n",
       "      <td>United Kingdom</td>\n",
       "    </tr>\n",
       "    <tr>\n",
       "      <th>4</th>\n",
       "      <td>536365</td>\n",
       "      <td>84029E</td>\n",
       "      <td>RED WOOLLY HOTTIE WHITE HEART.</td>\n",
       "      <td>6</td>\n",
       "      <td>12/1/2010 8:26</td>\n",
       "      <td>3.39</td>\n",
       "      <td>17850.0</td>\n",
       "      <td>United Kingdom</td>\n",
       "    </tr>\n",
       "  </tbody>\n",
       "</table>\n",
       "</div>"
      ],
      "text/plain": [
       "  Invoice StockCode                          Description  Quantity  \\\n",
       "0  536365    85123A   WHITE HANGING HEART T-LIGHT HOLDER         6   \n",
       "1  536365     71053                  WHITE METAL LANTERN         6   \n",
       "2  536365    84406B       CREAM CUPID HEARTS COAT HANGER         8   \n",
       "3  536365    84029G  KNITTED UNION FLAG HOT WATER BOTTLE         6   \n",
       "4  536365    84029E       RED WOOLLY HOTTIE WHITE HEART.         6   \n",
       "\n",
       "      InvoiceDate  Price  Customer ID         Country  \n",
       "0  12/1/2010 8:26   2.55      17850.0  United Kingdom  \n",
       "1  12/1/2010 8:26   3.39      17850.0  United Kingdom  \n",
       "2  12/1/2010 8:26   2.75      17850.0  United Kingdom  \n",
       "3  12/1/2010 8:26   3.39      17850.0  United Kingdom  \n",
       "4  12/1/2010 8:26   3.39      17850.0  United Kingdom  "
      ]
     },
     "execution_count": 7,
     "metadata": {},
     "output_type": "execute_result"
    }
   ],
   "source": [
    "data_2010_2011.head()"
   ]
  },
  {
   "cell_type": "code",
   "execution_count": 8,
   "id": "d1503755",
   "metadata": {
    "ExecuteTime": {
     "end_time": "2021-09-20T13:24:13.379762Z",
     "start_time": "2021-09-20T13:24:13.248927Z"
    }
   },
   "outputs": [
    {
     "data": {
      "text/html": [
       "<div>\n",
       "<style scoped>\n",
       "    .dataframe tbody tr th:only-of-type {\n",
       "        vertical-align: middle;\n",
       "    }\n",
       "\n",
       "    .dataframe tbody tr th {\n",
       "        vertical-align: top;\n",
       "    }\n",
       "\n",
       "    .dataframe thead th {\n",
       "        text-align: right;\n",
       "    }\n",
       "</style>\n",
       "<table border=\"1\" class=\"dataframe\">\n",
       "  <thead>\n",
       "    <tr style=\"text-align: right;\">\n",
       "      <th></th>\n",
       "      <th>Invoice</th>\n",
       "      <th>StockCode</th>\n",
       "      <th>Description</th>\n",
       "      <th>Quantity</th>\n",
       "      <th>InvoiceDate</th>\n",
       "      <th>Price</th>\n",
       "      <th>Customer ID</th>\n",
       "      <th>Country</th>\n",
       "    </tr>\n",
       "  </thead>\n",
       "  <tbody>\n",
       "    <tr>\n",
       "      <th>541905</th>\n",
       "      <td>581587</td>\n",
       "      <td>22899</td>\n",
       "      <td>CHILDREN'S APRON DOLLY GIRL</td>\n",
       "      <td>6</td>\n",
       "      <td>12/9/2011 12:50</td>\n",
       "      <td>2.10</td>\n",
       "      <td>12680.0</td>\n",
       "      <td>France</td>\n",
       "    </tr>\n",
       "    <tr>\n",
       "      <th>541906</th>\n",
       "      <td>581587</td>\n",
       "      <td>23254</td>\n",
       "      <td>CHILDRENS CUTLERY DOLLY GIRL</td>\n",
       "      <td>4</td>\n",
       "      <td>12/9/2011 12:50</td>\n",
       "      <td>4.15</td>\n",
       "      <td>12680.0</td>\n",
       "      <td>France</td>\n",
       "    </tr>\n",
       "    <tr>\n",
       "      <th>541907</th>\n",
       "      <td>581587</td>\n",
       "      <td>23255</td>\n",
       "      <td>CHILDRENS CUTLERY CIRCUS PARADE</td>\n",
       "      <td>4</td>\n",
       "      <td>12/9/2011 12:50</td>\n",
       "      <td>4.15</td>\n",
       "      <td>12680.0</td>\n",
       "      <td>France</td>\n",
       "    </tr>\n",
       "    <tr>\n",
       "      <th>541908</th>\n",
       "      <td>581587</td>\n",
       "      <td>22138</td>\n",
       "      <td>BAKING SET 9 PIECE RETROSPOT</td>\n",
       "      <td>3</td>\n",
       "      <td>12/9/2011 12:50</td>\n",
       "      <td>4.95</td>\n",
       "      <td>12680.0</td>\n",
       "      <td>France</td>\n",
       "    </tr>\n",
       "    <tr>\n",
       "      <th>541909</th>\n",
       "      <td>581587</td>\n",
       "      <td>POST</td>\n",
       "      <td>POSTAGE</td>\n",
       "      <td>1</td>\n",
       "      <td>12/9/2011 12:50</td>\n",
       "      <td>18.00</td>\n",
       "      <td>12680.0</td>\n",
       "      <td>France</td>\n",
       "    </tr>\n",
       "  </tbody>\n",
       "</table>\n",
       "</div>"
      ],
      "text/plain": [
       "       Invoice StockCode                      Description  Quantity  \\\n",
       "541905  581587     22899     CHILDREN'S APRON DOLLY GIRL          6   \n",
       "541906  581587     23254    CHILDRENS CUTLERY DOLLY GIRL          4   \n",
       "541907  581587     23255  CHILDRENS CUTLERY CIRCUS PARADE         4   \n",
       "541908  581587     22138    BAKING SET 9 PIECE RETROSPOT          3   \n",
       "541909  581587      POST                          POSTAGE         1   \n",
       "\n",
       "            InvoiceDate  Price  Customer ID Country  \n",
       "541905  12/9/2011 12:50   2.10      12680.0  France  \n",
       "541906  12/9/2011 12:50   4.15      12680.0  France  \n",
       "541907  12/9/2011 12:50   4.15      12680.0  France  \n",
       "541908  12/9/2011 12:50   4.95      12680.0  France  \n",
       "541909  12/9/2011 12:50  18.00      12680.0  France  "
      ]
     },
     "execution_count": 8,
     "metadata": {},
     "output_type": "execute_result"
    }
   ],
   "source": [
    "data_2010_2011.tail()"
   ]
  },
  {
   "cell_type": "code",
   "execution_count": 9,
   "id": "4ab0638c",
   "metadata": {
    "ExecuteTime": {
     "end_time": "2021-09-20T13:24:13.517482Z",
     "start_time": "2021-09-20T13:24:13.382269Z"
    }
   },
   "outputs": [
    {
     "data": {
      "text/html": [
       "<div>\n",
       "<style scoped>\n",
       "    .dataframe tbody tr th:only-of-type {\n",
       "        vertical-align: middle;\n",
       "    }\n",
       "\n",
       "    .dataframe tbody tr th {\n",
       "        vertical-align: top;\n",
       "    }\n",
       "\n",
       "    .dataframe thead th {\n",
       "        text-align: right;\n",
       "    }\n",
       "</style>\n",
       "<table border=\"1\" class=\"dataframe\">\n",
       "  <thead>\n",
       "    <tr style=\"text-align: right;\">\n",
       "      <th></th>\n",
       "      <th>Invoice</th>\n",
       "      <th>StockCode</th>\n",
       "      <th>Description</th>\n",
       "      <th>Quantity</th>\n",
       "      <th>InvoiceDate</th>\n",
       "      <th>Price</th>\n",
       "      <th>Customer ID</th>\n",
       "      <th>Country</th>\n",
       "    </tr>\n",
       "  </thead>\n",
       "  <tbody>\n",
       "    <tr>\n",
       "      <th>171278</th>\n",
       "      <td>551400</td>\n",
       "      <td>22149</td>\n",
       "      <td>FELTCRAFT 6 FLOWER FRIENDS</td>\n",
       "      <td>12</td>\n",
       "      <td>4/28/2011 13:18</td>\n",
       "      <td>2.10</td>\n",
       "      <td>17160.0</td>\n",
       "      <td>United Kingdom</td>\n",
       "    </tr>\n",
       "    <tr>\n",
       "      <th>393002</th>\n",
       "      <td>570791</td>\n",
       "      <td>23065</td>\n",
       "      <td>LARGE DECO JEWELLERY STAND</td>\n",
       "      <td>1</td>\n",
       "      <td>10/12/2011 11:58</td>\n",
       "      <td>12.50</td>\n",
       "      <td>17346.0</td>\n",
       "      <td>United Kingdom</td>\n",
       "    </tr>\n",
       "    <tr>\n",
       "      <th>23271</th>\n",
       "      <td>538195</td>\n",
       "      <td>48184</td>\n",
       "      <td>DOORMAT ENGLISH ROSE</td>\n",
       "      <td>30</td>\n",
       "      <td>12/10/2010 10:52</td>\n",
       "      <td>6.75</td>\n",
       "      <td>15061.0</td>\n",
       "      <td>United Kingdom</td>\n",
       "    </tr>\n",
       "    <tr>\n",
       "      <th>480775</th>\n",
       "      <td>577317</td>\n",
       "      <td>22866</td>\n",
       "      <td>HAND WARMER SCOTTY DOG DESIGN</td>\n",
       "      <td>1</td>\n",
       "      <td>11/18/2011 13:33</td>\n",
       "      <td>2.10</td>\n",
       "      <td>16426.0</td>\n",
       "      <td>United Kingdom</td>\n",
       "    </tr>\n",
       "    <tr>\n",
       "      <th>460638</th>\n",
       "      <td>575923</td>\n",
       "      <td>23545</td>\n",
       "      <td>WRAP RED VINTAGE DOILY</td>\n",
       "      <td>25</td>\n",
       "      <td>11/11/2011 17:11</td>\n",
       "      <td>0.42</td>\n",
       "      <td>17069.0</td>\n",
       "      <td>United Kingdom</td>\n",
       "    </tr>\n",
       "  </tbody>\n",
       "</table>\n",
       "</div>"
      ],
      "text/plain": [
       "       Invoice StockCode                    Description  Quantity  \\\n",
       "171278  551400     22149     FELTCRAFT 6 FLOWER FRIENDS        12   \n",
       "393002  570791     23065     LARGE DECO JEWELLERY STAND         1   \n",
       "23271   538195     48184          DOORMAT ENGLISH ROSE         30   \n",
       "480775  577317     22866  HAND WARMER SCOTTY DOG DESIGN         1   \n",
       "460638  575923     23545         WRAP RED VINTAGE DOILY        25   \n",
       "\n",
       "             InvoiceDate  Price  Customer ID         Country  \n",
       "171278   4/28/2011 13:18   2.10      17160.0  United Kingdom  \n",
       "393002  10/12/2011 11:58  12.50      17346.0  United Kingdom  \n",
       "23271   12/10/2010 10:52   6.75      15061.0  United Kingdom  \n",
       "480775  11/18/2011 13:33   2.10      16426.0  United Kingdom  \n",
       "460638  11/11/2011 17:11   0.42      17069.0  United Kingdom  "
      ]
     },
     "execution_count": 9,
     "metadata": {},
     "output_type": "execute_result"
    }
   ],
   "source": [
    "data_2010_2011.sample(5)"
   ]
  },
  {
   "cell_type": "markdown",
   "id": "5d89847e",
   "metadata": {},
   "source": [
    "## Customer Segmentation on Data Des 2009 - Nov 2010"
   ]
  },
  {
   "cell_type": "code",
   "execution_count": 10,
   "id": "d96be285",
   "metadata": {
    "ExecuteTime": {
     "end_time": "2021-09-20T13:24:13.609768Z",
     "start_time": "2021-09-20T13:24:13.521994Z"
    }
   },
   "outputs": [],
   "source": [
    "df1 = data_2009_2010.copy()"
   ]
  },
  {
   "cell_type": "markdown",
   "id": "7e0dd520",
   "metadata": {},
   "source": [
    "### Check Characteristic Data"
   ]
  },
  {
   "cell_type": "markdown",
   "id": "7d37322b",
   "metadata": {},
   "source": [
    "**Data Shape**"
   ]
  },
  {
   "cell_type": "markdown",
   "id": "237f6f37",
   "metadata": {},
   "source": [
    "Kita akan mengecek ukuran dari data tahun 2009-2010 menggunakan atribut `.shape`"
   ]
  },
  {
   "cell_type": "code",
   "execution_count": 11,
   "id": "e676b35d",
   "metadata": {
    "ExecuteTime": {
     "end_time": "2021-09-20T13:24:13.738315Z",
     "start_time": "2021-09-20T13:24:13.611011Z"
    }
   },
   "outputs": [
    {
     "data": {
      "text/plain": [
       "(525461, 8)"
      ]
     },
     "execution_count": 11,
     "metadata": {},
     "output_type": "execute_result"
    }
   ],
   "source": [
    "df1.shape"
   ]
  },
  {
   "cell_type": "markdown",
   "id": "d57db2d7",
   "metadata": {},
   "source": [
    "Terlihat data transaksi pada tahun 2009-2010 sejumlah 525461 baris dengan 8 buah kolom."
   ]
  },
  {
   "cell_type": "markdown",
   "id": "b6113fdb",
   "metadata": {},
   "source": [
    "**Data Columns**"
   ]
  },
  {
   "cell_type": "code",
   "execution_count": 12,
   "id": "ade898bb",
   "metadata": {
    "ExecuteTime": {
     "end_time": "2021-09-20T13:24:13.850073Z",
     "start_time": "2021-09-20T13:24:13.740823Z"
    }
   },
   "outputs": [
    {
     "data": {
      "text/plain": [
       "Index(['Invoice', 'StockCode', 'Description', 'Quantity', 'InvoiceDate',\n",
       "       'Price', 'Customer ID', 'Country'],\n",
       "      dtype='object')"
      ]
     },
     "execution_count": 12,
     "metadata": {},
     "output_type": "execute_result"
    }
   ],
   "source": [
    "df1.columns"
   ]
  },
  {
   "cell_type": "markdown",
   "id": "02976f4c",
   "metadata": {
    "ExecuteTime": {
     "end_time": "2021-09-19T12:00:26.615340Z",
     "start_time": "2021-09-19T12:00:26.611331Z"
    }
   },
   "source": [
    "**Data Info**"
   ]
  },
  {
   "cell_type": "code",
   "execution_count": 13,
   "id": "bd28fa49",
   "metadata": {
    "ExecuteTime": {
     "end_time": "2021-09-20T13:24:14.055253Z",
     "start_time": "2021-09-20T13:24:13.852580Z"
    }
   },
   "outputs": [
    {
     "name": "stdout",
     "output_type": "stream",
     "text": [
      "<class 'pandas.core.frame.DataFrame'>\n",
      "RangeIndex: 525461 entries, 0 to 525460\n",
      "Data columns (total 8 columns):\n",
      " #   Column       Non-Null Count   Dtype  \n",
      "---  ------       --------------   -----  \n",
      " 0   Invoice      525461 non-null  object \n",
      " 1   StockCode    525461 non-null  object \n",
      " 2   Description  522533 non-null  object \n",
      " 3   Quantity     525461 non-null  int64  \n",
      " 4   InvoiceDate  525461 non-null  object \n",
      " 5   Price        525461 non-null  float64\n",
      " 6   Customer ID  417534 non-null  float64\n",
      " 7   Country      525461 non-null  object \n",
      "dtypes: float64(2), int64(1), object(5)\n",
      "memory usage: 32.1+ MB\n"
     ]
    }
   ],
   "source": [
    "df1.info()"
   ]
  },
  {
   "cell_type": "markdown",
   "id": "8d667e8a",
   "metadata": {},
   "source": [
    "Terdapat data yang kosong pada kolom tertentu saat dicek menggunakan metode `.info()`. Untuk data yang kita punya, diperoleh 2 kolom dengan tipe data *float*, 1 kolom dengan tipe data *integer*, dan 5 kolom dengan tipe data *object*."
   ]
  },
  {
   "cell_type": "markdown",
   "id": "e35f184f",
   "metadata": {},
   "source": [
    "**Descriptive Statistic**"
   ]
  },
  {
   "cell_type": "code",
   "execution_count": 14,
   "id": "b1b7b602",
   "metadata": {
    "ExecuteTime": {
     "end_time": "2021-09-20T13:24:14.177077Z",
     "start_time": "2021-09-20T13:24:14.057759Z"
    }
   },
   "outputs": [
    {
     "data": {
      "text/html": [
       "<div>\n",
       "<style scoped>\n",
       "    .dataframe tbody tr th:only-of-type {\n",
       "        vertical-align: middle;\n",
       "    }\n",
       "\n",
       "    .dataframe tbody tr th {\n",
       "        vertical-align: top;\n",
       "    }\n",
       "\n",
       "    .dataframe thead th {\n",
       "        text-align: right;\n",
       "    }\n",
       "</style>\n",
       "<table border=\"1\" class=\"dataframe\">\n",
       "  <thead>\n",
       "    <tr style=\"text-align: right;\">\n",
       "      <th></th>\n",
       "      <th>Quantity</th>\n",
       "      <th>Price</th>\n",
       "      <th>Customer ID</th>\n",
       "    </tr>\n",
       "  </thead>\n",
       "  <tbody>\n",
       "    <tr>\n",
       "      <th>count</th>\n",
       "      <td>525461.000000</td>\n",
       "      <td>525461.000000</td>\n",
       "      <td>417534.000000</td>\n",
       "    </tr>\n",
       "    <tr>\n",
       "      <th>mean</th>\n",
       "      <td>10.337667</td>\n",
       "      <td>4.688834</td>\n",
       "      <td>15360.645478</td>\n",
       "    </tr>\n",
       "    <tr>\n",
       "      <th>std</th>\n",
       "      <td>107.424110</td>\n",
       "      <td>146.126914</td>\n",
       "      <td>1680.811316</td>\n",
       "    </tr>\n",
       "    <tr>\n",
       "      <th>min</th>\n",
       "      <td>-9600.000000</td>\n",
       "      <td>-53594.360000</td>\n",
       "      <td>12346.000000</td>\n",
       "    </tr>\n",
       "    <tr>\n",
       "      <th>25%</th>\n",
       "      <td>1.000000</td>\n",
       "      <td>1.250000</td>\n",
       "      <td>13983.000000</td>\n",
       "    </tr>\n",
       "    <tr>\n",
       "      <th>50%</th>\n",
       "      <td>3.000000</td>\n",
       "      <td>2.100000</td>\n",
       "      <td>15311.000000</td>\n",
       "    </tr>\n",
       "    <tr>\n",
       "      <th>75%</th>\n",
       "      <td>10.000000</td>\n",
       "      <td>4.210000</td>\n",
       "      <td>16799.000000</td>\n",
       "    </tr>\n",
       "    <tr>\n",
       "      <th>max</th>\n",
       "      <td>19152.000000</td>\n",
       "      <td>25111.090000</td>\n",
       "      <td>18287.000000</td>\n",
       "    </tr>\n",
       "  </tbody>\n",
       "</table>\n",
       "</div>"
      ],
      "text/plain": [
       "            Quantity          Price    Customer ID\n",
       "count  525461.000000  525461.000000  417534.000000\n",
       "mean       10.337667       4.688834   15360.645478\n",
       "std       107.424110     146.126914    1680.811316\n",
       "min     -9600.000000  -53594.360000   12346.000000\n",
       "25%         1.000000       1.250000   13983.000000\n",
       "50%         3.000000       2.100000   15311.000000\n",
       "75%        10.000000       4.210000   16799.000000\n",
       "max     19152.000000   25111.090000   18287.000000"
      ]
     },
     "execution_count": 14,
     "metadata": {},
     "output_type": "execute_result"
    }
   ],
   "source": [
    "df1.describe()"
   ]
  },
  {
   "cell_type": "markdown",
   "id": "24a0672f",
   "metadata": {},
   "source": [
    "Saat kita melihat statistika deskriptif dari data tahun 2009-2010, diperoleh beberapa *insight* seperti :\n",
    "1. Nilai maksimum untuk kolom `Quantity` adalah 19152, sementara nilai kuartil atasnya (Q3) adalah 10. Hal ini mengindikasikan terdapat suatu transaksi dengan total pembelian barang yang sangat banyak untuk satu kali transaksi.\n",
    "2. Nilai maksimum untuk kolom `Price` adalah 25111,09, sementara nilai kuartil atasnya (Q3) adalah 4,21. Hal ini mengindikasikan terdapat suatu transaksi dengan total harga yang sangat banyak untuk satu kali transaksi.\n",
    "3. Terdapat nilai negatif pada kolom `Quantity`. Hal ini dapat dicurigai pembelian yang dibatalkan (Terdapat 'C' pada *Invoice*).\n",
    "4. Terdapat nilai negatif pada kolom `Price`. Hal ini juga dicurigain pembelian yang dibatalkan (Terdapat 'C' pada *Invoice*)."
   ]
  },
  {
   "cell_type": "markdown",
   "id": "0ef4d1e2",
   "metadata": {},
   "source": [
    "**Drop Invalid Data On Invoice**"
   ]
  },
  {
   "cell_type": "markdown",
   "id": "3fbeae84",
   "metadata": {},
   "source": [
    "Sebelumnya kita telah mengetahui bahwa huruf `'C'` pada kolom `Invoice` menandakan transaksi yang dibatalkan. Oleh karenanya, kita akan membuang data yang mempunyai huruf `'C'` pada kolom `Invoice`."
   ]
  },
  {
   "cell_type": "code",
   "execution_count": 15,
   "id": "624379b9",
   "metadata": {
    "ExecuteTime": {
     "end_time": "2021-09-20T13:24:14.430751Z",
     "start_time": "2021-09-20T13:24:14.180086Z"
    }
   },
   "outputs": [
    {
     "data": {
      "text/plain": [
       "(10206, 8)"
      ]
     },
     "execution_count": 15,
     "metadata": {},
     "output_type": "execute_result"
    }
   ],
   "source": [
    "df1[df1['Invoice'].str.contains('C')].shape"
   ]
  },
  {
   "cell_type": "markdown",
   "id": "70bca967",
   "metadata": {},
   "source": [
    "Terlihat terdapat 10206 data yang menyatakan transaksi yang dibatalkan. "
   ]
  },
  {
   "cell_type": "code",
   "execution_count": 16,
   "id": "bbe68b03",
   "metadata": {
    "ExecuteTime": {
     "end_time": "2021-09-20T13:24:14.691945Z",
     "start_time": "2021-09-20T13:24:14.433759Z"
    }
   },
   "outputs": [],
   "source": [
    "df1 = df1[~df1['Invoice'].str.contains('C')]"
   ]
  },
  {
   "cell_type": "code",
   "execution_count": 17,
   "id": "4cc7b105",
   "metadata": {
    "ExecuteTime": {
     "end_time": "2021-09-20T13:24:14.699505Z",
     "start_time": "2021-09-20T13:24:14.693452Z"
    }
   },
   "outputs": [
    {
     "data": {
      "text/plain": [
       "(515255, 8)"
      ]
     },
     "execution_count": 17,
     "metadata": {},
     "output_type": "execute_result"
    }
   ],
   "source": [
    "df1.shape"
   ]
  },
  {
   "cell_type": "markdown",
   "id": "cfcd2cc0",
   "metadata": {},
   "source": [
    "Jumlah data setelah dibuang data transaksi yang dibatalkan adalah 515255."
   ]
  },
  {
   "cell_type": "markdown",
   "id": "eff78e50",
   "metadata": {},
   "source": [
    "**Check Null Data**"
   ]
  },
  {
   "cell_type": "code",
   "execution_count": 18,
   "id": "46ca0948",
   "metadata": {
    "ExecuteTime": {
     "end_time": "2021-09-20T13:24:14.948487Z",
     "start_time": "2021-09-20T13:24:14.701973Z"
    }
   },
   "outputs": [
    {
     "data": {
      "text/plain": [
       "Invoice             0\n",
       "StockCode           0\n",
       "Description      2928\n",
       "Quantity            0\n",
       "InvoiceDate         0\n",
       "Price               0\n",
       "Customer ID    107560\n",
       "Country             0\n",
       "dtype: int64"
      ]
     },
     "execution_count": 18,
     "metadata": {},
     "output_type": "execute_result"
    }
   ],
   "source": [
    "df1.isnull().sum()"
   ]
  },
  {
   "cell_type": "markdown",
   "id": "5e95e6b0",
   "metadata": {},
   "source": [
    "Dikarenakan kita tidak bisa menganalisis *customer* jika kolom `CustomerID` bernilai kosong, kita akan membuang data yang mempunyai nilai yang kosong."
   ]
  },
  {
   "cell_type": "code",
   "execution_count": 19,
   "id": "fcafe33c",
   "metadata": {
    "ExecuteTime": {
     "end_time": "2021-09-20T13:24:15.121445Z",
     "start_time": "2021-09-20T13:24:14.950493Z"
    }
   },
   "outputs": [],
   "source": [
    "df1 = df1.dropna()"
   ]
  },
  {
   "cell_type": "code",
   "execution_count": 20,
   "id": "ee51ea76",
   "metadata": {
    "ExecuteTime": {
     "end_time": "2021-09-20T13:24:15.160703Z",
     "start_time": "2021-09-20T13:24:15.123452Z"
    }
   },
   "outputs": [
    {
     "data": {
      "text/plain": [
       "(407695, 8)"
      ]
     },
     "execution_count": 20,
     "metadata": {},
     "output_type": "execute_result"
    }
   ],
   "source": [
    "df1.shape"
   ]
  },
  {
   "cell_type": "markdown",
   "id": "b910fe8d",
   "metadata": {},
   "source": [
    "Terlihat jumlah data setelah membuang data kosong sebanyak 407695."
   ]
  },
  {
   "cell_type": "markdown",
   "id": "22f02e1f",
   "metadata": {},
   "source": [
    "**Check Duplicate Data**"
   ]
  },
  {
   "cell_type": "markdown",
   "id": "b473ec43",
   "metadata": {},
   "source": [
    "Kita akan membuang data duplikat pada data."
   ]
  },
  {
   "cell_type": "code",
   "execution_count": 21,
   "id": "4c90bf14",
   "metadata": {
    "ExecuteTime": {
     "end_time": "2021-09-20T13:24:15.608269Z",
     "start_time": "2021-09-20T13:24:15.162709Z"
    }
   },
   "outputs": [],
   "source": [
    "df1 = df1.drop_duplicates(keep='first')"
   ]
  },
  {
   "cell_type": "code",
   "execution_count": 22,
   "id": "7a143662",
   "metadata": {
    "ExecuteTime": {
     "end_time": "2021-09-20T13:24:15.615326Z",
     "start_time": "2021-09-20T13:24:15.610273Z"
    }
   },
   "outputs": [
    {
     "data": {
      "text/plain": [
       "(400947, 8)"
      ]
     },
     "execution_count": 22,
     "metadata": {},
     "output_type": "execute_result"
    }
   ],
   "source": [
    "df1.shape"
   ]
  },
  {
   "cell_type": "markdown",
   "id": "145154a7",
   "metadata": {},
   "source": [
    "Terlihat jumlah data setelah membuang data duplikat adalah sebanyak 400947."
   ]
  },
  {
   "cell_type": "markdown",
   "id": "824686c2",
   "metadata": {},
   "source": [
    "**Check Describe Again**"
   ]
  },
  {
   "cell_type": "code",
   "execution_count": 23,
   "id": "c5e9c527",
   "metadata": {
    "ExecuteTime": {
     "end_time": "2021-09-20T13:24:15.809083Z",
     "start_time": "2021-09-20T13:24:15.617295Z"
    }
   },
   "outputs": [
    {
     "data": {
      "text/html": [
       "<div>\n",
       "<style scoped>\n",
       "    .dataframe tbody tr th:only-of-type {\n",
       "        vertical-align: middle;\n",
       "    }\n",
       "\n",
       "    .dataframe tbody tr th {\n",
       "        vertical-align: top;\n",
       "    }\n",
       "\n",
       "    .dataframe thead th {\n",
       "        text-align: right;\n",
       "    }\n",
       "</style>\n",
       "<table border=\"1\" class=\"dataframe\">\n",
       "  <thead>\n",
       "    <tr style=\"text-align: right;\">\n",
       "      <th></th>\n",
       "      <th>Quantity</th>\n",
       "      <th>Price</th>\n",
       "      <th>Customer ID</th>\n",
       "    </tr>\n",
       "  </thead>\n",
       "  <tbody>\n",
       "    <tr>\n",
       "      <th>count</th>\n",
       "      <td>400947.000000</td>\n",
       "      <td>400947.000000</td>\n",
       "      <td>400947.000000</td>\n",
       "    </tr>\n",
       "    <tr>\n",
       "      <th>mean</th>\n",
       "      <td>13.768523</td>\n",
       "      <td>3.305571</td>\n",
       "      <td>15361.454639</td>\n",
       "    </tr>\n",
       "    <tr>\n",
       "      <th>std</th>\n",
       "      <td>97.639816</td>\n",
       "      <td>35.046376</td>\n",
       "      <td>1680.669487</td>\n",
       "    </tr>\n",
       "    <tr>\n",
       "      <th>min</th>\n",
       "      <td>1.000000</td>\n",
       "      <td>0.000000</td>\n",
       "      <td>12346.000000</td>\n",
       "    </tr>\n",
       "    <tr>\n",
       "      <th>25%</th>\n",
       "      <td>2.000000</td>\n",
       "      <td>1.250000</td>\n",
       "      <td>13985.000000</td>\n",
       "    </tr>\n",
       "    <tr>\n",
       "      <th>50%</th>\n",
       "      <td>5.000000</td>\n",
       "      <td>1.950000</td>\n",
       "      <td>15311.000000</td>\n",
       "    </tr>\n",
       "    <tr>\n",
       "      <th>75%</th>\n",
       "      <td>12.000000</td>\n",
       "      <td>3.750000</td>\n",
       "      <td>16805.000000</td>\n",
       "    </tr>\n",
       "    <tr>\n",
       "      <th>max</th>\n",
       "      <td>19152.000000</td>\n",
       "      <td>10953.500000</td>\n",
       "      <td>18287.000000</td>\n",
       "    </tr>\n",
       "  </tbody>\n",
       "</table>\n",
       "</div>"
      ],
      "text/plain": [
       "            Quantity          Price    Customer ID\n",
       "count  400947.000000  400947.000000  400947.000000\n",
       "mean       13.768523       3.305571   15361.454639\n",
       "std        97.639816      35.046376    1680.669487\n",
       "min         1.000000       0.000000   12346.000000\n",
       "25%         2.000000       1.250000   13985.000000\n",
       "50%         5.000000       1.950000   15311.000000\n",
       "75%        12.000000       3.750000   16805.000000\n",
       "max     19152.000000   10953.500000   18287.000000"
      ]
     },
     "execution_count": 23,
     "metadata": {},
     "output_type": "execute_result"
    }
   ],
   "source": [
    "df1.describe()"
   ]
  },
  {
   "cell_type": "markdown",
   "id": "8035fd3e",
   "metadata": {},
   "source": [
    "Terlihat untuk kolom `Price`, masih terdapat data yang bernilai 0. Kita akan membuang data tersebut."
   ]
  },
  {
   "cell_type": "code",
   "execution_count": 24,
   "id": "63af72ee",
   "metadata": {
    "ExecuteTime": {
     "end_time": "2021-09-20T13:24:15.878267Z",
     "start_time": "2021-09-20T13:24:15.811590Z"
    }
   },
   "outputs": [],
   "source": [
    "df1 = df1[df1['Price']>0]"
   ]
  },
  {
   "cell_type": "markdown",
   "id": "6acc447c",
   "metadata": {},
   "source": [
    "**Drop Des 2010 Data**"
   ]
  },
  {
   "cell_type": "markdown",
   "id": "a342e3d8",
   "metadata": {},
   "source": [
    "Kita akan membuang data pada bulan Desember 2010 agar kita mempunyai data untuk 1 tahun dimulai dari Desember 2009 hingga November 2008."
   ]
  },
  {
   "cell_type": "code",
   "execution_count": 25,
   "id": "fd7c599c",
   "metadata": {
    "ExecuteTime": {
     "end_time": "2021-09-20T13:24:15.960977Z",
     "start_time": "2021-09-20T13:24:15.879771Z"
    }
   },
   "outputs": [
    {
     "data": {
      "text/plain": [
       "(400916, 8)"
      ]
     },
     "execution_count": 25,
     "metadata": {},
     "output_type": "execute_result"
    }
   ],
   "source": [
    "df1.shape"
   ]
  },
  {
   "cell_type": "code",
   "execution_count": 26,
   "id": "aa9ff77a",
   "metadata": {
    "ExecuteTime": {
     "end_time": "2021-09-20T13:24:18.007656Z",
     "start_time": "2021-09-20T13:24:15.962984Z"
    }
   },
   "outputs": [],
   "source": [
    "df1['InvoiceDate'] = df1['InvoiceDate'].astype('datetime64')"
   ]
  },
  {
   "cell_type": "code",
   "execution_count": 27,
   "id": "17b7faac",
   "metadata": {
    "ExecuteTime": {
     "end_time": "2021-09-20T13:24:18.052224Z",
     "start_time": "2021-09-20T13:24:18.009610Z"
    }
   },
   "outputs": [],
   "source": [
    "df1 = df1[df1['InvoiceDate']<'2010-12-01']"
   ]
  },
  {
   "cell_type": "markdown",
   "id": "4f9205f5",
   "metadata": {},
   "source": [
    "**Check Data Type**"
   ]
  },
  {
   "cell_type": "code",
   "execution_count": 28,
   "id": "bee1bb2d",
   "metadata": {
    "ExecuteTime": {
     "end_time": "2021-09-20T13:24:18.140045Z",
     "start_time": "2021-09-20T13:24:18.060747Z"
    }
   },
   "outputs": [
    {
     "data": {
      "text/plain": [
       "Invoice                object\n",
       "StockCode              object\n",
       "Description            object\n",
       "Quantity                int64\n",
       "InvoiceDate    datetime64[ns]\n",
       "Price                 float64\n",
       "Customer ID           float64\n",
       "Country                object\n",
       "dtype: object"
      ]
     },
     "execution_count": 28,
     "metadata": {},
     "output_type": "execute_result"
    }
   ],
   "source": [
    "df1.dtypes"
   ]
  },
  {
   "cell_type": "markdown",
   "id": "71c7567c",
   "metadata": {},
   "source": [
    "**Check Number of Unique**"
   ]
  },
  {
   "cell_type": "code",
   "execution_count": 29,
   "id": "defca6ca",
   "metadata": {
    "ExecuteTime": {
     "end_time": "2021-09-20T13:24:18.392508Z",
     "start_time": "2021-09-20T13:24:18.143053Z"
    }
   },
   "outputs": [
    {
     "data": {
      "text/plain": [
       "Invoice        18437\n",
       "StockCode       4009\n",
       "Description     4432\n",
       "Quantity         337\n",
       "InvoiceDate    17303\n",
       "Price            442\n",
       "Customer ID     4266\n",
       "Country           37\n",
       "dtype: int64"
      ]
     },
     "execution_count": 29,
     "metadata": {},
     "output_type": "execute_result"
    }
   ],
   "source": [
    "df1.nunique()"
   ]
  },
  {
   "cell_type": "markdown",
   "id": "bc1cb0e0",
   "metadata": {},
   "source": [
    "### Handle Outlier"
   ]
  },
  {
   "cell_type": "code",
   "execution_count": 30,
   "id": "af1e2a94",
   "metadata": {
    "ExecuteTime": {
     "end_time": "2021-09-20T13:24:18.414065Z",
     "start_time": "2021-09-20T13:24:18.395517Z"
    }
   },
   "outputs": [
    {
     "data": {
      "text/html": [
       "<div>\n",
       "<style scoped>\n",
       "    .dataframe tbody tr th:only-of-type {\n",
       "        vertical-align: middle;\n",
       "    }\n",
       "\n",
       "    .dataframe tbody tr th {\n",
       "        vertical-align: top;\n",
       "    }\n",
       "\n",
       "    .dataframe thead th {\n",
       "        text-align: right;\n",
       "    }\n",
       "</style>\n",
       "<table border=\"1\" class=\"dataframe\">\n",
       "  <thead>\n",
       "    <tr style=\"text-align: right;\">\n",
       "      <th></th>\n",
       "      <th>Invoice</th>\n",
       "      <th>StockCode</th>\n",
       "      <th>Description</th>\n",
       "      <th>Quantity</th>\n",
       "      <th>InvoiceDate</th>\n",
       "      <th>Price</th>\n",
       "      <th>Customer ID</th>\n",
       "      <th>Country</th>\n",
       "    </tr>\n",
       "  </thead>\n",
       "  <tbody>\n",
       "    <tr>\n",
       "      <th>0</th>\n",
       "      <td>489434</td>\n",
       "      <td>85048</td>\n",
       "      <td>15CM CHRISTMAS GLASS BALL 20 LIGHTS</td>\n",
       "      <td>12</td>\n",
       "      <td>2009-12-01 07:45:00</td>\n",
       "      <td>6.95</td>\n",
       "      <td>13085.0</td>\n",
       "      <td>United Kingdom</td>\n",
       "    </tr>\n",
       "    <tr>\n",
       "      <th>1</th>\n",
       "      <td>489434</td>\n",
       "      <td>79323P</td>\n",
       "      <td>PINK CHERRY LIGHTS</td>\n",
       "      <td>12</td>\n",
       "      <td>2009-12-01 07:45:00</td>\n",
       "      <td>6.75</td>\n",
       "      <td>13085.0</td>\n",
       "      <td>United Kingdom</td>\n",
       "    </tr>\n",
       "    <tr>\n",
       "      <th>2</th>\n",
       "      <td>489434</td>\n",
       "      <td>79323W</td>\n",
       "      <td>WHITE CHERRY LIGHTS</td>\n",
       "      <td>12</td>\n",
       "      <td>2009-12-01 07:45:00</td>\n",
       "      <td>6.75</td>\n",
       "      <td>13085.0</td>\n",
       "      <td>United Kingdom</td>\n",
       "    </tr>\n",
       "    <tr>\n",
       "      <th>3</th>\n",
       "      <td>489434</td>\n",
       "      <td>22041</td>\n",
       "      <td>RECORD FRAME 7\" SINGLE SIZE</td>\n",
       "      <td>48</td>\n",
       "      <td>2009-12-01 07:45:00</td>\n",
       "      <td>2.10</td>\n",
       "      <td>13085.0</td>\n",
       "      <td>United Kingdom</td>\n",
       "    </tr>\n",
       "    <tr>\n",
       "      <th>4</th>\n",
       "      <td>489434</td>\n",
       "      <td>21232</td>\n",
       "      <td>STRAWBERRY CERAMIC TRINKET BOX</td>\n",
       "      <td>24</td>\n",
       "      <td>2009-12-01 07:45:00</td>\n",
       "      <td>1.25</td>\n",
       "      <td>13085.0</td>\n",
       "      <td>United Kingdom</td>\n",
       "    </tr>\n",
       "  </tbody>\n",
       "</table>\n",
       "</div>"
      ],
      "text/plain": [
       "  Invoice StockCode                          Description  Quantity  \\\n",
       "0  489434     85048  15CM CHRISTMAS GLASS BALL 20 LIGHTS        12   \n",
       "1  489434    79323P                   PINK CHERRY LIGHTS        12   \n",
       "2  489434    79323W                  WHITE CHERRY LIGHTS        12   \n",
       "3  489434     22041         RECORD FRAME 7\" SINGLE SIZE         48   \n",
       "4  489434     21232       STRAWBERRY CERAMIC TRINKET BOX        24   \n",
       "\n",
       "          InvoiceDate  Price  Customer ID         Country  \n",
       "0 2009-12-01 07:45:00   6.95      13085.0  United Kingdom  \n",
       "1 2009-12-01 07:45:00   6.75      13085.0  United Kingdom  \n",
       "2 2009-12-01 07:45:00   6.75      13085.0  United Kingdom  \n",
       "3 2009-12-01 07:45:00   2.10      13085.0  United Kingdom  \n",
       "4 2009-12-01 07:45:00   1.25      13085.0  United Kingdom  "
      ]
     },
     "execution_count": 30,
     "metadata": {},
     "output_type": "execute_result"
    }
   ],
   "source": [
    "df1.head()"
   ]
  },
  {
   "cell_type": "markdown",
   "id": "c1478182",
   "metadata": {},
   "source": [
    "**Boxplot in Quantity Columns**"
   ]
  },
  {
   "cell_type": "code",
   "execution_count": 31,
   "id": "0718f04c",
   "metadata": {
    "ExecuteTime": {
     "end_time": "2021-09-20T13:24:18.954759Z",
     "start_time": "2021-09-20T13:24:18.416572Z"
    }
   },
   "outputs": [
    {
     "data": {
      "image/png": "[encoded data removed]",
      "text/plain": [
       "<Figure size 720x432 with 1 Axes>"
      ]
     },
     "metadata": {},
     "output_type": "display_data"
    }
   ],
   "source": [
    "plt.figure(figsize=(10,6))\n",
    "sns.boxplot(df1['Quantity'])\n",
    "plt.title('Boxplot Quantity Columns', fontsize=15)\n",
    "plt.show()"
   ]
  },
  {
   "cell_type": "markdown",
   "id": "05b4252a",
   "metadata": {},
   "source": [
    "Berdasarkan gambar di atas, terlihat untuk kolom `Quantity` mempunyai data outlier."
   ]
  },
  {
   "cell_type": "markdown",
   "id": "dae31443",
   "metadata": {},
   "source": [
    "**Boxplot in Price Columns**"
   ]
  },
  {
   "cell_type": "code",
   "execution_count": 32,
   "id": "0fa8db6a",
   "metadata": {
    "ExecuteTime": {
     "end_time": "2021-09-20T13:24:19.184263Z",
     "start_time": "2021-09-20T13:24:18.957765Z"
    }
   },
   "outputs": [
    {
     "data": {
      "image/png": "[encoded data removed]",
      "text/plain": [
       "<Figure size 720x432 with 1 Axes>"
      ]
     },
     "metadata": {},
     "output_type": "display_data"
    }
   ],
   "source": [
    "plt.figure(figsize=(10,6))\n",
    "sns.boxplot(df1['Price'])\n",
    "plt.title('Boxplot Price Columns', fontsize=15)\n",
    "plt.show()"
   ]
  },
  {
   "cell_type": "markdown",
   "id": "b202bdc3",
   "metadata": {},
   "source": [
    "Berdasarkan gambar di atas, kolom `Price` mempunyai data outlier."
   ]
  },
  {
   "cell_type": "markdown",
   "id": "fa9dc9b2",
   "metadata": {},
   "source": [
    "**Remove Outlier Data From Quantity Columns**"
   ]
  },
  {
   "cell_type": "code",
   "execution_count": 33,
   "id": "503bb6e3",
   "metadata": {
    "ExecuteTime": {
     "end_time": "2021-09-20T13:24:19.209832Z",
     "start_time": "2021-09-20T13:24:19.186771Z"
    }
   },
   "outputs": [
    {
     "name": "stdout",
     "output_type": "stream",
     "text": [
      "Q1:2.0\n",
      "Q3:12.0\n",
      "IQR:10.0\n",
      "Min Quantity:-13.0\n",
      "Max Quantity:27.0\n"
     ]
    }
   ],
   "source": [
    "q1_quantity = df1['Quantity'].quantile(0.25)\n",
    "q3_quantity = df1['Quantity'].quantile(0.75)\n",
    "IQR = q3_quantity - q1_quantity\n",
    "min_quantity = q1_quantity - 1.5*IQR\n",
    "max_quantity = q3_quantity + 1.5*IQR\n",
    "print(f'Q1:{q1_quantity}')\n",
    "print(f'Q3:{q3_quantity}')\n",
    "print(f'IQR:{IQR}')\n",
    "print(f'Min Quantity:{min_quantity}')\n",
    "print(f'Max Quantity:{max_quantity}')"
   ]
  },
  {
   "cell_type": "code",
   "execution_count": 34,
   "id": "6290b42a",
   "metadata": {
    "ExecuteTime": {
     "end_time": "2021-09-20T13:24:19.332577Z",
     "start_time": "2021-09-20T13:24:19.213341Z"
    }
   },
   "outputs": [],
   "source": [
    "df1 = df1[(df1['Quantity']<=max_quantity) & (df1['Quantity']>=min_quantity)]"
   ]
  },
  {
   "cell_type": "code",
   "execution_count": 35,
   "id": "0d2c5be4",
   "metadata": {
    "ExecuteTime": {
     "end_time": "2021-09-20T13:24:19.417337Z",
     "start_time": "2021-09-20T13:24:19.335083Z"
    }
   },
   "outputs": [
    {
     "data": {
      "text/plain": [
       "(361229, 8)"
      ]
     },
     "execution_count": 35,
     "metadata": {},
     "output_type": "execute_result"
    }
   ],
   "source": [
    "df1.shape"
   ]
  },
  {
   "cell_type": "markdown",
   "id": "9c3a15b2",
   "metadata": {},
   "source": [
    "**Remove Outlier Data From Price Columns**"
   ]
  },
  {
   "cell_type": "code",
   "execution_count": 36,
   "id": "fc226500",
   "metadata": {
    "ExecuteTime": {
     "end_time": "2021-09-20T13:24:19.567075Z",
     "start_time": "2021-09-20T13:24:19.420847Z"
    }
   },
   "outputs": [
    {
     "name": "stdout",
     "output_type": "stream",
     "text": [
      "Q1:1.25\n",
      "Q3:3.75\n",
      "IQR:2.5\n",
      "Min Price:-2.5\n",
      "Max Price:7.5\n"
     ]
    }
   ],
   "source": [
    "q1_price = df1['Price'].quantile(0.25)\n",
    "q3_price = df1['Price'].quantile(0.75)\n",
    "IQR = q3_price - q1_price\n",
    "min_price = q1_price - 1.5*IQR\n",
    "max_price = q3_price + 1.5*IQR\n",
    "print(f'Q1:{q1_price}')\n",
    "print(f'Q3:{q3_price}')\n",
    "print(f'IQR:{IQR}')\n",
    "print(f'Min Price:{min_price}')\n",
    "print(f'Max Price:{max_price}')"
   ]
  },
  {
   "cell_type": "code",
   "execution_count": 37,
   "id": "e94e41a3",
   "metadata": {
    "ExecuteTime": {
     "end_time": "2021-09-20T13:24:19.674011Z",
     "start_time": "2021-09-20T13:24:19.569544Z"
    }
   },
   "outputs": [],
   "source": [
    "df1 = df1[(df1['Price']<=max_price) & (df1['Price']>=min_price)]"
   ]
  },
  {
   "cell_type": "code",
   "execution_count": 38,
   "id": "4ef76f45",
   "metadata": {
    "ExecuteTime": {
     "end_time": "2021-09-20T13:24:19.761396Z",
     "start_time": "2021-09-20T13:24:19.675967Z"
    },
    "scrolled": true
   },
   "outputs": [
    {
     "data": {
      "text/plain": [
       "(330139, 8)"
      ]
     },
     "execution_count": 38,
     "metadata": {},
     "output_type": "execute_result"
    }
   ],
   "source": [
    "df1.shape"
   ]
  },
  {
   "cell_type": "markdown",
   "id": "352f880e",
   "metadata": {},
   "source": [
    "## Exploratory Data Analysis (EDA)"
   ]
  },
  {
   "cell_type": "markdown",
   "id": "aee09652",
   "metadata": {},
   "source": [
    "### Per Month"
   ]
  },
  {
   "cell_type": "code",
   "execution_count": 39,
   "id": "6cb83a48",
   "metadata": {
    "ExecuteTime": {
     "end_time": "2021-09-20T13:24:19.870851Z",
     "start_time": "2021-09-20T13:24:19.763901Z"
    }
   },
   "outputs": [],
   "source": [
    "def make_line_plot(x, y, title, xlabel, ylabel):\n",
    "    plt.figure(figsize=(16,5))\n",
    "    plt.plot(x, y, linestyle='--', marker='o', color='maroon')\n",
    "    plt.xlabel(xlabel, fontsize=12)\n",
    "    plt.ylabel(ylabel, fontsize=12)\n",
    "    plt.title(title, fontsize=15)\n",
    "    plt.show()"
   ]
  },
  {
   "cell_type": "markdown",
   "id": "e286408d",
   "metadata": {},
   "source": [
    "**Number of Transaction Per Month**"
   ]
  },
  {
   "cell_type": "markdown",
   "id": "108b6e22",
   "metadata": {
    "ExecuteTime": {
     "end_time": "2021-09-19T17:31:33.383017Z",
     "start_time": "2021-09-19T17:31:33.369943Z"
    }
   },
   "source": [
    "Buat kolom baru `InvoiceMonth` yang menyatakan bulan dari tiap transaksi pembelian."
   ]
  },
  {
   "cell_type": "code",
   "execution_count": 40,
   "id": "085ffd7e",
   "metadata": {
    "ExecuteTime": {
     "end_time": "2021-09-20T13:24:22.594399Z",
     "start_time": "2021-09-20T13:24:19.873359Z"
    }
   },
   "outputs": [],
   "source": [
    "df1['InvoiceMonth'] = df1['InvoiceDate'].dt.strftime('%Y-%m')"
   ]
  },
  {
   "cell_type": "code",
   "execution_count": 41,
   "id": "0cd62bf6",
   "metadata": {
    "ExecuteTime": {
     "end_time": "2021-09-20T13:24:22.647822Z",
     "start_time": "2021-09-20T13:24:22.596393Z"
    }
   },
   "outputs": [
    {
     "data": {
      "text/plain": [
       "InvoiceMonth\n",
       "2009-12    26073\n",
       "2010-01    18546\n",
       "2010-02    20012\n",
       "2010-03    27460\n",
       "2010-04    22593\n",
       "2010-05    23547\n",
       "2010-06    25780\n",
       "2010-07    22685\n",
       "2010-08    22146\n",
       "2010-09    29010\n",
       "2010-10    41666\n",
       "2010-11    50621\n",
       "Name: Invoice, dtype: int64"
      ]
     },
     "execution_count": 41,
     "metadata": {},
     "output_type": "execute_result"
    }
   ],
   "source": [
    "df1_grp1 = df1.groupby('InvoiceMonth')['Invoice'].count()\n",
    "df1_grp1"
   ]
  },
  {
   "cell_type": "code",
   "execution_count": 42,
   "id": "23b5e980",
   "metadata": {
    "ExecuteTime": {
     "end_time": "2021-09-20T13:24:22.931169Z",
     "start_time": "2021-09-20T13:24:22.650327Z"
    }
   },
   "outputs": [
    {
     "data": {
      "image/png": "[encoded data removed]",
      "text/plain": [
       "<Figure size 1152x360 with 1 Axes>"
      ]
     },
     "metadata": {},
     "output_type": "display_data"
    }
   ],
   "source": [
    "make_line_plot(x=df1_grp1.index, \n",
    "               y=df1_grp1, \n",
    "               title='Number of Transaction Per Month in Des 2009 - Nov 2010',\n",
    "               xlabel='Month',\n",
    "               ylabel='Number of Transaction')"
   ]
  },
  {
   "cell_type": "markdown",
   "id": "bcaed404",
   "metadata": {},
   "source": [
    "**Total Customer Money Spend Per Month**"
   ]
  },
  {
   "cell_type": "markdown",
   "id": "b01ac572",
   "metadata": {},
   "source": [
    "Buat kolom baru `Spend` yang menyatakan perkalian antara kolom `Quantity` dan `Price`."
   ]
  },
  {
   "cell_type": "code",
   "execution_count": 43,
   "id": "c8479987",
   "metadata": {
    "ExecuteTime": {
     "end_time": "2021-09-20T13:24:22.942703Z",
     "start_time": "2021-09-20T13:24:22.933638Z"
    }
   },
   "outputs": [],
   "source": [
    "df1['Spend'] = df1['Quantity']*df1['Price']"
   ]
  },
  {
   "cell_type": "code",
   "execution_count": 44,
   "id": "a355e501",
   "metadata": {
    "ExecuteTime": {
     "end_time": "2021-09-20T13:24:23.047388Z",
     "start_time": "2021-09-20T13:24:22.944667Z"
    }
   },
   "outputs": [
    {
     "data": {
      "text/html": [
       "<div>\n",
       "<style scoped>\n",
       "    .dataframe tbody tr th:only-of-type {\n",
       "        vertical-align: middle;\n",
       "    }\n",
       "\n",
       "    .dataframe tbody tr th {\n",
       "        vertical-align: top;\n",
       "    }\n",
       "\n",
       "    .dataframe thead th {\n",
       "        text-align: right;\n",
       "    }\n",
       "</style>\n",
       "<table border=\"1\" class=\"dataframe\">\n",
       "  <thead>\n",
       "    <tr style=\"text-align: right;\">\n",
       "      <th></th>\n",
       "      <th>Invoice</th>\n",
       "      <th>StockCode</th>\n",
       "      <th>Description</th>\n",
       "      <th>Quantity</th>\n",
       "      <th>InvoiceDate</th>\n",
       "      <th>Price</th>\n",
       "      <th>Customer ID</th>\n",
       "      <th>Country</th>\n",
       "      <th>InvoiceMonth</th>\n",
       "      <th>Spend</th>\n",
       "    </tr>\n",
       "  </thead>\n",
       "  <tbody>\n",
       "    <tr>\n",
       "      <th>0</th>\n",
       "      <td>489434</td>\n",
       "      <td>85048</td>\n",
       "      <td>15CM CHRISTMAS GLASS BALL 20 LIGHTS</td>\n",
       "      <td>12</td>\n",
       "      <td>2009-12-01 07:45:00</td>\n",
       "      <td>6.95</td>\n",
       "      <td>13085.0</td>\n",
       "      <td>United Kingdom</td>\n",
       "      <td>2009-12</td>\n",
       "      <td>83.4</td>\n",
       "    </tr>\n",
       "    <tr>\n",
       "      <th>1</th>\n",
       "      <td>489434</td>\n",
       "      <td>79323P</td>\n",
       "      <td>PINK CHERRY LIGHTS</td>\n",
       "      <td>12</td>\n",
       "      <td>2009-12-01 07:45:00</td>\n",
       "      <td>6.75</td>\n",
       "      <td>13085.0</td>\n",
       "      <td>United Kingdom</td>\n",
       "      <td>2009-12</td>\n",
       "      <td>81.0</td>\n",
       "    </tr>\n",
       "  </tbody>\n",
       "</table>\n",
       "</div>"
      ],
      "text/plain": [
       "  Invoice StockCode                          Description  Quantity  \\\n",
       "0  489434     85048  15CM CHRISTMAS GLASS BALL 20 LIGHTS        12   \n",
       "1  489434    79323P                   PINK CHERRY LIGHTS        12   \n",
       "\n",
       "          InvoiceDate  Price  Customer ID         Country InvoiceMonth  Spend  \n",
       "0 2009-12-01 07:45:00   6.95      13085.0  United Kingdom      2009-12   83.4  \n",
       "1 2009-12-01 07:45:00   6.75      13085.0  United Kingdom      2009-12   81.0  "
      ]
     },
     "execution_count": 44,
     "metadata": {},
     "output_type": "execute_result"
    }
   ],
   "source": [
    "df1.head(2)"
   ]
  },
  {
   "cell_type": "code",
   "execution_count": 45,
   "id": "636b1ccb",
   "metadata": {
    "ExecuteTime": {
     "end_time": "2021-09-20T13:24:23.213493Z",
     "start_time": "2021-09-20T13:24:23.049895Z"
    }
   },
   "outputs": [
    {
     "data": {
      "text/plain": [
       "InvoiceMonth\n",
       "2009-12    365431.430\n",
       "2010-01    254326.762\n",
       "2010-02    264033.436\n",
       "2010-03    356433.261\n",
       "2010-04    309740.902\n",
       "2010-05    309253.180\n",
       "2010-06    319489.440\n",
       "2010-07    296543.660\n",
       "2010-08    296085.140\n",
       "2010-09    405579.911\n",
       "2010-10    541450.180\n",
       "2010-11    610665.452\n",
       "Name: Spend, dtype: float64"
      ]
     },
     "execution_count": 45,
     "metadata": {},
     "output_type": "execute_result"
    }
   ],
   "source": [
    "df1_grp2 = df1.groupby('InvoiceMonth')['Spend'].sum()\n",
    "df1_grp2"
   ]
  },
  {
   "cell_type": "code",
   "execution_count": 46,
   "id": "39022d25",
   "metadata": {
    "ExecuteTime": {
     "end_time": "2021-09-20T13:24:23.506809Z",
     "start_time": "2021-09-20T13:24:23.215497Z"
    }
   },
   "outputs": [
    {
     "data": {
      "image/png": "[encoded data removed]",
      "text/plain": [
       "<Figure size 1152x360 with 1 Axes>"
      ]
     },
     "metadata": {},
     "output_type": "display_data"
    }
   ],
   "source": [
    "make_line_plot(x=df1_grp2.index, \n",
    "               y=df1_grp2, \n",
    "               title='Total Customer Money Spend Per Month in Des 2009 - Nov 2010',\n",
    "               xlabel='Month',\n",
    "               ylabel='Total')"
   ]
  },
  {
   "cell_type": "markdown",
   "id": "698cda76",
   "metadata": {},
   "source": [
    "**Average Customer Money Spend Per Month**"
   ]
  },
  {
   "cell_type": "code",
   "execution_count": 47,
   "id": "f25abfe2",
   "metadata": {
    "ExecuteTime": {
     "end_time": "2021-09-20T13:24:23.546416Z",
     "start_time": "2021-09-20T13:24:23.509316Z"
    }
   },
   "outputs": [
    {
     "data": {
      "text/plain": [
       "InvoiceMonth\n",
       "2009-12    14.015703\n",
       "2010-01    13.713295\n",
       "2010-02    13.193756\n",
       "2010-03    12.980090\n",
       "2010-04    13.709596\n",
       "2010-05    13.133443\n",
       "2010-06    12.392919\n",
       "2010-07    13.072235\n",
       "2010-08    13.369689\n",
       "2010-09    13.980693\n",
       "2010-10    12.995012\n",
       "2010-11    12.063481\n",
       "Name: Spend, dtype: float64"
      ]
     },
     "execution_count": 47,
     "metadata": {},
     "output_type": "execute_result"
    }
   ],
   "source": [
    "df1_grp3 = df1.groupby('InvoiceMonth')['Spend'].mean()\n",
    "df1_grp3"
   ]
  },
  {
   "cell_type": "code",
   "execution_count": 48,
   "id": "42b19298",
   "metadata": {
    "ExecuteTime": {
     "end_time": "2021-09-20T13:24:23.821751Z",
     "start_time": "2021-09-20T13:24:23.548419Z"
    }
   },
   "outputs": [
    {
     "data": {
      "image/png": "[encoded data removed]",
      "text/plain": [
       "<Figure size 1152x360 with 1 Axes>"
      ]
     },
     "metadata": {},
     "output_type": "display_data"
    }
   ],
   "source": [
    "make_line_plot(x=df1_grp3.index, \n",
    "               y=df1_grp3, \n",
    "               title='Average Customer Money Spend Per Month in Des 2009 - Nov 2010',\n",
    "               xlabel='Month',\n",
    "               ylabel='Total')"
   ]
  },
  {
   "cell_type": "markdown",
   "id": "06ae6150",
   "metadata": {},
   "source": [
    "### Function to Make Barplot"
   ]
  },
  {
   "cell_type": "code",
   "execution_count": 49,
   "id": "afd3c8e8",
   "metadata": {
    "ExecuteTime": {
     "end_time": "2021-09-20T13:24:23.830275Z",
     "start_time": "2021-09-20T13:24:23.824257Z"
    }
   },
   "outputs": [],
   "source": [
    "def make_bar_plot(x, y, title, xlabel, ylabel):\n",
    "    plt.figure(figsize=(16,5))\n",
    "    sns.barplot(x, y)\n",
    "    plt.xlabel(xlabel, fontsize=12)\n",
    "    plt.ylabel(ylabel, fontsize=12)\n",
    "    plt.title(title, fontsize=15)\n",
    "    plt.show()"
   ]
  },
  {
   "cell_type": "markdown",
   "id": "2e46c26a",
   "metadata": {},
   "source": [
    "### Per Day"
   ]
  },
  {
   "cell_type": "code",
   "execution_count": 50,
   "id": "238e3e49",
   "metadata": {
    "ExecuteTime": {
     "end_time": "2021-09-20T13:24:23.926796Z",
     "start_time": "2021-09-20T13:24:23.833281Z"
    }
   },
   "outputs": [],
   "source": [
    "day_index = ['Monday', 'Tuesday', 'Wednesday', 'Thursday', 'Friday', 'Saturday', 'Sunday']"
   ]
  },
  {
   "cell_type": "markdown",
   "id": "cd5c4de6",
   "metadata": {},
   "source": [
    "Buat kolom baru `InvoiceDay` yang menyatakan hari dari tiap transaksi pembelian."
   ]
  },
  {
   "cell_type": "code",
   "execution_count": 51,
   "id": "1a480be3",
   "metadata": {
    "ExecuteTime": {
     "end_time": "2021-09-20T13:24:26.493989Z",
     "start_time": "2021-09-20T13:24:23.929967Z"
    }
   },
   "outputs": [],
   "source": [
    "df1['InvoiceDay'] = df1['InvoiceDate'].dt.strftime('%A')"
   ]
  },
  {
   "cell_type": "markdown",
   "id": "5a2724c8",
   "metadata": {},
   "source": [
    "**Number of Transaction Per Day**"
   ]
  },
  {
   "cell_type": "code",
   "execution_count": 52,
   "id": "734ccd0d",
   "metadata": {
    "ExecuteTime": {
     "end_time": "2021-09-20T13:24:26.544080Z",
     "start_time": "2021-09-20T13:24:26.495695Z"
    }
   },
   "outputs": [
    {
     "data": {
      "text/plain": [
       "InvoiceDay\n",
       "Friday       41107\n",
       "Monday       51865\n",
       "Saturday       338\n",
       "Sunday       60967\n",
       "Thursday     65365\n",
       "Tuesday      57640\n",
       "Wednesday    52857\n",
       "Name: Invoice, dtype: int64"
      ]
     },
     "execution_count": 52,
     "metadata": {},
     "output_type": "execute_result"
    }
   ],
   "source": [
    "df1_grp4 = df1.groupby('InvoiceDay')['Invoice'].count()\n",
    "df1_grp4"
   ]
  },
  {
   "cell_type": "code",
   "execution_count": 53,
   "id": "99a98fbc",
   "metadata": {
    "ExecuteTime": {
     "end_time": "2021-09-20T13:24:26.626829Z",
     "start_time": "2021-09-20T13:24:26.546585Z"
    }
   },
   "outputs": [],
   "source": [
    "df1_grp4 = df1_grp4.reindex(day_index)"
   ]
  },
  {
   "cell_type": "code",
   "execution_count": 54,
   "id": "49fdb9b3",
   "metadata": {
    "ExecuteTime": {
     "end_time": "2021-09-20T13:24:26.719418Z",
     "start_time": "2021-09-20T13:24:26.629010Z"
    }
   },
   "outputs": [
    {
     "data": {
      "text/plain": [
       "InvoiceDay\n",
       "Monday       51865\n",
       "Tuesday      57640\n",
       "Wednesday    52857\n",
       "Thursday     65365\n",
       "Friday       41107\n",
       "Saturday       338\n",
       "Sunday       60967\n",
       "Name: Invoice, dtype: int64"
      ]
     },
     "execution_count": 54,
     "metadata": {},
     "output_type": "execute_result"
    }
   ],
   "source": [
    "df1_grp4"
   ]
  },
  {
   "cell_type": "code",
   "execution_count": 55,
   "id": "7ae2a736",
   "metadata": {
    "ExecuteTime": {
     "end_time": "2021-09-20T13:24:27.074047Z",
     "start_time": "2021-09-20T13:24:26.721924Z"
    }
   },
   "outputs": [
    {
     "data": {
      "image/png": "[encoded data removed]",
      "text/plain": [
       "<Figure size 1152x360 with 1 Axes>"
      ]
     },
     "metadata": {},
     "output_type": "display_data"
    }
   ],
   "source": [
    "make_bar_plot(y=df1_grp4.index,\n",
    "              x=df1_grp4,\n",
    "              title='Number of Transaction Per Day in Des 2009 - Nov 2010',\n",
    "              ylabel='Day',\n",
    "              xlabel='Total')"
   ]
  },
  {
   "cell_type": "markdown",
   "id": "51b3bde8",
   "metadata": {},
   "source": [
    "**Total Customer Money Spend Per Day**"
   ]
  },
  {
   "cell_type": "code",
   "execution_count": 56,
   "id": "f6e8504a",
   "metadata": {
    "ExecuteTime": {
     "end_time": "2021-09-20T13:24:27.112903Z",
     "start_time": "2021-09-20T13:24:27.077055Z"
    }
   },
   "outputs": [],
   "source": [
    "df1_grp5 = df1.groupby('InvoiceDay')['Spend'].sum()"
   ]
  },
  {
   "cell_type": "code",
   "execution_count": 57,
   "id": "fdebc3d3",
   "metadata": {
    "ExecuteTime": {
     "end_time": "2021-09-20T13:24:27.193354Z",
     "start_time": "2021-09-20T13:24:27.114336Z"
    }
   },
   "outputs": [],
   "source": [
    "df1_grp5 = df1_grp5.reindex(day_index)"
   ]
  },
  {
   "cell_type": "code",
   "execution_count": 58,
   "id": "ef0fda2a",
   "metadata": {
    "ExecuteTime": {
     "end_time": "2021-09-20T13:24:27.317709Z",
     "start_time": "2021-09-20T13:24:27.195321Z"
    }
   },
   "outputs": [
    {
     "data": {
      "text/plain": [
       "InvoiceDay\n",
       "Monday       689468.085\n",
       "Tuesday      808938.731\n",
       "Wednesday    732053.673\n",
       "Thursday     883074.762\n",
       "Friday       586265.172\n",
       "Saturday       7560.660\n",
       "Sunday       621671.671\n",
       "Name: Spend, dtype: float64"
      ]
     },
     "execution_count": 58,
     "metadata": {},
     "output_type": "execute_result"
    }
   ],
   "source": [
    "df1_grp5"
   ]
  },
  {
   "cell_type": "code",
   "execution_count": 59,
   "id": "18d8da79",
   "metadata": {
    "ExecuteTime": {
     "end_time": "2021-09-20T13:24:27.627499Z",
     "start_time": "2021-09-20T13:24:27.320216Z"
    }
   },
   "outputs": [
    {
     "data": {
      "image/png": "[encoded data removed]",
      "text/plain": [
       "<Figure size 1152x360 with 1 Axes>"
      ]
     },
     "metadata": {},
     "output_type": "display_data"
    }
   ],
   "source": [
    "make_bar_plot(y=df1_grp5.index,\n",
    "              x=df1_grp5,\n",
    "              title='Total Customer Money Spend Per Day in Des 2009 - Nov 2010',\n",
    "              ylabel='Day',\n",
    "              xlabel='Total')"
   ]
  },
  {
   "cell_type": "markdown",
   "id": "18b51a09",
   "metadata": {},
   "source": [
    "**Average Customer Money Spend Per Day**"
   ]
  },
  {
   "cell_type": "code",
   "execution_count": 60,
   "id": "bab215ea",
   "metadata": {
    "ExecuteTime": {
     "end_time": "2021-09-20T13:24:27.665118Z",
     "start_time": "2021-09-20T13:24:27.630007Z"
    }
   },
   "outputs": [],
   "source": [
    "df1_grp6 = df1.groupby('InvoiceDay')['Spend'].mean()"
   ]
  },
  {
   "cell_type": "code",
   "execution_count": 61,
   "id": "a0c5309b",
   "metadata": {
    "ExecuteTime": {
     "end_time": "2021-09-20T13:24:27.760294Z",
     "start_time": "2021-09-20T13:24:27.667123Z"
    }
   },
   "outputs": [],
   "source": [
    "df1_grp6 = df1_grp6.reindex(day_index)"
   ]
  },
  {
   "cell_type": "code",
   "execution_count": 62,
   "id": "8b2ab381",
   "metadata": {
    "ExecuteTime": {
     "end_time": "2021-09-20T13:24:27.873545Z",
     "start_time": "2021-09-20T13:24:27.762151Z"
    }
   },
   "outputs": [
    {
     "data": {
      "text/plain": [
       "InvoiceDay\n",
       "Monday       13.293514\n",
       "Tuesday      14.034329\n",
       "Wednesday    13.849702\n",
       "Thursday     13.509902\n",
       "Friday       14.261930\n",
       "Saturday     22.368817\n",
       "Sunday       10.196855\n",
       "Name: Spend, dtype: float64"
      ]
     },
     "execution_count": 62,
     "metadata": {},
     "output_type": "execute_result"
    }
   ],
   "source": [
    "df1_grp6"
   ]
  },
  {
   "cell_type": "code",
   "execution_count": 63,
   "id": "68060bfc",
   "metadata": {
    "ExecuteTime": {
     "end_time": "2021-09-20T13:24:28.162056Z",
     "start_time": "2021-09-20T13:24:27.876052Z"
    }
   },
   "outputs": [
    {
     "data": {
      "image/png": "[encoded data removed]",
      "text/plain": [
       "<Figure size 1152x360 with 1 Axes>"
      ]
     },
     "metadata": {},
     "output_type": "display_data"
    }
   ],
   "source": [
    "make_bar_plot(y=df1_grp6.index,\n",
    "              x=df1_grp6,\n",
    "              title='Average Customer Money Spend Per Day in Des 2009 - Nov 2010',\n",
    "              ylabel='Day',\n",
    "              xlabel='Total')"
   ]
  },
  {
   "cell_type": "markdown",
   "id": "39f0a6f6",
   "metadata": {},
   "source": [
    "## Per Hour"
   ]
  },
  {
   "cell_type": "markdown",
   "id": "83927497",
   "metadata": {},
   "source": [
    "Buat kolom baru `InvoiceHour` yang menyatakan jam dari setiap transaksi."
   ]
  },
  {
   "cell_type": "code",
   "execution_count": 64,
   "id": "c6de242e",
   "metadata": {
    "ExecuteTime": {
     "end_time": "2021-09-20T13:24:30.609024Z",
     "start_time": "2021-09-20T13:24:28.165026Z"
    }
   },
   "outputs": [],
   "source": [
    "df1['InvoiceHour'] = df1['InvoiceDate'].dt.strftime('%H')"
   ]
  },
  {
   "cell_type": "markdown",
   "id": "fd3d47c9",
   "metadata": {},
   "source": [
    "**Number of Transaction Per Hour**"
   ]
  },
  {
   "cell_type": "code",
   "execution_count": 65,
   "id": "faeb7e29",
   "metadata": {
    "ExecuteTime": {
     "end_time": "2021-09-20T13:24:30.670188Z",
     "start_time": "2021-09-20T13:24:30.611532Z"
    }
   },
   "outputs": [
    {
     "data": {
      "text/plain": [
       "InvoiceHour\n",
       "07      442\n",
       "08     5047\n",
       "09    15379\n",
       "10    27734\n",
       "11    41465\n",
       "12    58845\n",
       "13    55366\n",
       "14    46420\n",
       "15    35591\n",
       "16    23505\n",
       "17    11551\n",
       "18     3673\n",
       "19     4144\n",
       "20      977\n",
       "Name: Invoice, dtype: int64"
      ]
     },
     "execution_count": 65,
     "metadata": {},
     "output_type": "execute_result"
    }
   ],
   "source": [
    "df1_grp7 = df1.groupby('InvoiceHour')['Invoice'].count()\n",
    "df1_grp7"
   ]
  },
  {
   "cell_type": "code",
   "execution_count": 66,
   "id": "f4627e06",
   "metadata": {
    "ExecuteTime": {
     "end_time": "2021-09-20T13:24:31.019096Z",
     "start_time": "2021-09-20T13:24:30.672695Z"
    }
   },
   "outputs": [
    {
     "data": {
      "image/png": "[encoded data removed]",
      "text/plain": [
       "<Figure size 1152x360 with 1 Axes>"
      ]
     },
     "metadata": {},
     "output_type": "display_data"
    }
   ],
   "source": [
    "make_bar_plot(x=df1_grp7.index,\n",
    "              y=df1_grp7,\n",
    "              title='Number of Transaction Per Hour in Des 2009 - Nov 2010',\n",
    "              xlabel='Hour',\n",
    "              ylabel='Total')"
   ]
  },
  {
   "cell_type": "markdown",
   "id": "b96d6991",
   "metadata": {},
   "source": [
    "**Total Customer Money Spend Per Hour**"
   ]
  },
  {
   "cell_type": "code",
   "execution_count": 67,
   "id": "196b76c3",
   "metadata": {
    "ExecuteTime": {
     "end_time": "2021-09-20T13:24:31.056696Z",
     "start_time": "2021-09-20T13:24:31.021101Z"
    }
   },
   "outputs": [
    {
     "data": {
      "text/plain": [
       "InvoiceHour\n",
       "07     11422.570\n",
       "08    107900.230\n",
       "09    291732.610\n",
       "10    481531.452\n",
       "11    524846.033\n",
       "12    705529.081\n",
       "13    659721.064\n",
       "14    580946.500\n",
       "15    453513.242\n",
       "16    274137.321\n",
       "17    136739.871\n",
       "18     54385.170\n",
       "19     40457.510\n",
       "20      6170.100\n",
       "Name: Spend, dtype: float64"
      ]
     },
     "execution_count": 67,
     "metadata": {},
     "output_type": "execute_result"
    }
   ],
   "source": [
    "df1_grp8 = df1.groupby('InvoiceHour')['Spend'].sum()\n",
    "df1_grp8"
   ]
  },
  {
   "cell_type": "code",
   "execution_count": 68,
   "id": "5702aef2",
   "metadata": {
    "ExecuteTime": {
     "end_time": "2021-09-20T13:24:31.389294Z",
     "start_time": "2021-09-20T13:24:31.059704Z"
    }
   },
   "outputs": [
    {
     "data": {
      "image/png": "[encoded data removed]",
      "text/plain": [
       "<Figure size 1152x360 with 1 Axes>"
      ]
     },
     "metadata": {},
     "output_type": "display_data"
    }
   ],
   "source": [
    "make_bar_plot(x=df1_grp8.index,\n",
    "              y=df1_grp8,\n",
    "              title='Total Customer Money Spend Per Hour in Des 2009 - Nov 2010',\n",
    "              xlabel='Hour',\n",
    "              ylabel='Total')"
   ]
  },
  {
   "cell_type": "markdown",
   "id": "a0d6066c",
   "metadata": {},
   "source": [
    "**Average Customer Money Spend Per Hour**"
   ]
  },
  {
   "cell_type": "code",
   "execution_count": 69,
   "id": "9d6cbebe",
   "metadata": {
    "ExecuteTime": {
     "end_time": "2021-09-20T13:24:31.426391Z",
     "start_time": "2021-09-20T13:24:31.391799Z"
    }
   },
   "outputs": [
    {
     "data": {
      "text/plain": [
       "InvoiceHour\n",
       "07    25.842919\n",
       "08    21.379083\n",
       "09    18.969544\n",
       "10    17.362496\n",
       "11    12.657567\n",
       "12    11.989618\n",
       "13    11.915635\n",
       "14    12.515004\n",
       "15    12.742357\n",
       "16    11.662936\n",
       "17    11.837925\n",
       "18    14.806744\n",
       "19     9.762913\n",
       "20     6.315353\n",
       "Name: Spend, dtype: float64"
      ]
     },
     "execution_count": 69,
     "metadata": {},
     "output_type": "execute_result"
    }
   ],
   "source": [
    "df1_grp9 = df1.groupby('InvoiceHour')['Spend'].mean()\n",
    "df1_grp9"
   ]
  },
  {
   "cell_type": "code",
   "execution_count": 70,
   "id": "12b22ab6",
   "metadata": {
    "ExecuteTime": {
     "end_time": "2021-09-20T13:24:31.746222Z",
     "start_time": "2021-09-20T13:24:31.428897Z"
    }
   },
   "outputs": [
    {
     "data": {
      "image/png": "[encoded data removed]",
      "text/plain": [
       "<Figure size 1152x360 with 1 Axes>"
      ]
     },
     "metadata": {},
     "output_type": "display_data"
    }
   ],
   "source": [
    "make_bar_plot(x=df1_grp9.index,\n",
    "              y=df1_grp9,\n",
    "              title='Average Customer Money Spend Per Hour in Des 2009 - Nov 2010',\n",
    "              xlabel='Hour',\n",
    "              ylabel='Total')"
   ]
  },
  {
   "cell_type": "markdown",
   "id": "71cf9398",
   "metadata": {},
   "source": [
    "### Per Product"
   ]
  },
  {
   "cell_type": "code",
   "execution_count": 71,
   "id": "edee39b0",
   "metadata": {
    "ExecuteTime": {
     "end_time": "2021-09-20T13:24:31.798361Z",
     "start_time": "2021-09-20T13:24:31.748228Z"
    }
   },
   "outputs": [
    {
     "data": {
      "text/plain": [
       "WHITE HANGING HEART T-LIGHT HOLDER    2369\n",
       "STRAWBERRY CERAMIC TRINKET BOX        1181\n",
       "HOME BUILDING BLOCK WORD              1154\n",
       "REX CASH+CARRY JUMBO SHOPPER          1052\n",
       "ASSORTED COLOUR BIRD ORNAMENT         1028\n",
       "60 TEATIME FAIRY CAKE CASES            987\n",
       "PACK OF 72 RETRO SPOT CAKE CASES       969\n",
       "LUNCH BAG RED SPOTTY                   959\n",
       "WOODEN FRAME ANTIQUE WHITE             946\n",
       "LOVE BUILDING BLOCK WORD               941\n",
       "Name: Description, dtype: int64"
      ]
     },
     "execution_count": 71,
     "metadata": {},
     "output_type": "execute_result"
    }
   ],
   "source": [
    "df1_grp10 = df1['Description'].value_counts().head(10)\n",
    "df1_grp10"
   ]
  },
  {
   "cell_type": "code",
   "execution_count": 72,
   "id": "73e2fc18",
   "metadata": {
    "ExecuteTime": {
     "end_time": "2021-09-20T13:24:32.130534Z",
     "start_time": "2021-09-20T13:24:31.800365Z"
    }
   },
   "outputs": [
    {
     "data": {
      "image/png": "[encoded data removed]",
      "text/plain": [
       "<Figure size 1152x360 with 1 Axes>"
      ]
     },
     "metadata": {},
     "output_type": "display_data"
    }
   ],
   "source": [
    "make_bar_plot(y=df1_grp10.index,\n",
    "              x=df1_grp10,\n",
    "              title='Top 10 Popular Product in Des 2009 - Nov 2010',\n",
    "              xlabel='Total',\n",
    "              ylabel='Product')"
   ]
  },
  {
   "cell_type": "markdown",
   "id": "4729f125",
   "metadata": {},
   "source": [
    "### Per Country"
   ]
  },
  {
   "cell_type": "code",
   "execution_count": 73,
   "id": "ade5b0f0",
   "metadata": {
    "ExecuteTime": {
     "end_time": "2021-09-20T13:24:32.178622Z",
     "start_time": "2021-09-20T13:24:32.133500Z"
    }
   },
   "outputs": [
    {
     "data": {
      "text/plain": [
       "United Kingdom     302776\n",
       "EIRE                 6342\n",
       "Germany              6122\n",
       "France               4236\n",
       "Netherlands          1288\n",
       "Spain                 969\n",
       "Switzerland           875\n",
       "Belgium               844\n",
       "Portugal              726\n",
       "Channel Islands       594\n",
       "Name: Country, dtype: int64"
      ]
     },
     "execution_count": 73,
     "metadata": {},
     "output_type": "execute_result"
    }
   ],
   "source": [
    "df1_grp11 = df1['Country'].value_counts().head(10)\n",
    "df1_grp11"
   ]
  },
  {
   "cell_type": "code",
   "execution_count": 74,
   "id": "3a68ebbe",
   "metadata": {
    "ExecuteTime": {
     "end_time": "2021-09-20T13:24:32.557109Z",
     "start_time": "2021-09-20T13:24:32.181128Z"
    }
   },
   "outputs": [
    {
     "data": {
      "image/png": "[encoded data removed]",
      "text/plain": [
       "<Figure size 1152x360 with 1 Axes>"
      ]
     },
     "metadata": {},
     "output_type": "display_data"
    }
   ],
   "source": [
    "make_bar_plot(y=df1_grp11.index,\n",
    "              x=df1_grp11,\n",
    "              title='Top 10 Country in Des 2009 - Nov 2010',\n",
    "              xlabel='Total',\n",
    "              ylabel='Country')"
   ]
  },
  {
   "cell_type": "markdown",
   "id": "7ac45b4e",
   "metadata": {},
   "source": [
    "## RFM Analysis"
   ]
  },
  {
   "cell_type": "code",
   "execution_count": 100,
   "id": "1a72ebca",
   "metadata": {
    "ExecuteTime": {
     "end_time": "2021-09-20T13:38:04.796115Z",
     "start_time": "2021-09-20T13:38:04.792105Z"
    }
   },
   "outputs": [],
   "source": [
    "def make_displot(data, xlabel):\n",
    "    plt.figure(figsize=(15,6))\n",
    "    sns.distplot(data, kde=True, bins=50)\n",
    "    plt.xlabel(xlabel, fontsize=12)\n",
    "    plt.ylabel('Density', fontsize=12)\n",
    "    plt.title(f'Distribution on {xlabel}', fontsize=15)\n",
    "    plt.show()"
   ]
  },
  {
   "cell_type": "code",
   "execution_count": 86,
   "id": "7c46e09c",
   "metadata": {
    "ExecuteTime": {
     "end_time": "2021-09-20T13:30:05.650436Z",
     "start_time": "2021-09-20T13:30:05.633391Z"
    }
   },
   "outputs": [
    {
     "data": {
      "text/html": [
       "<div>\n",
       "<style scoped>\n",
       "    .dataframe tbody tr th:only-of-type {\n",
       "        vertical-align: middle;\n",
       "    }\n",
       "\n",
       "    .dataframe tbody tr th {\n",
       "        vertical-align: top;\n",
       "    }\n",
       "\n",
       "    .dataframe thead th {\n",
       "        text-align: right;\n",
       "    }\n",
       "</style>\n",
       "<table border=\"1\" class=\"dataframe\">\n",
       "  <thead>\n",
       "    <tr style=\"text-align: right;\">\n",
       "      <th></th>\n",
       "      <th>Customer ID</th>\n",
       "    </tr>\n",
       "  </thead>\n",
       "  <tbody>\n",
       "    <tr>\n",
       "      <th>0</th>\n",
       "      <td>13085</td>\n",
       "    </tr>\n",
       "    <tr>\n",
       "      <th>1</th>\n",
       "      <td>13078</td>\n",
       "    </tr>\n",
       "    <tr>\n",
       "      <th>2</th>\n",
       "      <td>15362</td>\n",
       "    </tr>\n",
       "    <tr>\n",
       "      <th>3</th>\n",
       "      <td>12682</td>\n",
       "    </tr>\n",
       "    <tr>\n",
       "      <th>4</th>\n",
       "      <td>18087</td>\n",
       "    </tr>\n",
       "  </tbody>\n",
       "</table>\n",
       "</div>"
      ],
      "text/plain": [
       "   Customer ID\n",
       "0        13085\n",
       "1        13078\n",
       "2        15362\n",
       "3        12682\n",
       "4        18087"
      ]
     },
     "execution_count": 86,
     "metadata": {},
     "output_type": "execute_result"
    }
   ],
   "source": [
    "df1_customer_unique = pd.DataFrame(df1['Customer ID'].unique()).rename(columns={0:'Customer ID'}).astype(int)\n",
    "df1_customer_unique.head()"
   ]
  },
  {
   "cell_type": "markdown",
   "id": "ce319c0d",
   "metadata": {},
   "source": [
    "### Recency"
   ]
  },
  {
   "cell_type": "code",
   "execution_count": 87,
   "id": "a68af8e6",
   "metadata": {
    "ExecuteTime": {
     "end_time": "2021-09-20T13:30:09.985372Z",
     "start_time": "2021-09-20T13:30:09.957799Z"
    }
   },
   "outputs": [
    {
     "data": {
      "text/html": [
       "<div>\n",
       "<style scoped>\n",
       "    .dataframe tbody tr th:only-of-type {\n",
       "        vertical-align: middle;\n",
       "    }\n",
       "\n",
       "    .dataframe tbody tr th {\n",
       "        vertical-align: top;\n",
       "    }\n",
       "\n",
       "    .dataframe thead th {\n",
       "        text-align: right;\n",
       "    }\n",
       "</style>\n",
       "<table border=\"1\" class=\"dataframe\">\n",
       "  <thead>\n",
       "    <tr style=\"text-align: right;\">\n",
       "      <th></th>\n",
       "      <th>Customer ID</th>\n",
       "      <th>Latest Date</th>\n",
       "    </tr>\n",
       "  </thead>\n",
       "  <tbody>\n",
       "    <tr>\n",
       "      <th>0</th>\n",
       "      <td>12346</td>\n",
       "      <td>2010-06-28 13:53:00</td>\n",
       "    </tr>\n",
       "    <tr>\n",
       "      <th>1</th>\n",
       "      <td>12347</td>\n",
       "      <td>2010-10-31 14:20:00</td>\n",
       "    </tr>\n",
       "    <tr>\n",
       "      <th>2</th>\n",
       "      <td>12348</td>\n",
       "      <td>2010-09-27 14:59:00</td>\n",
       "    </tr>\n",
       "    <tr>\n",
       "      <th>3</th>\n",
       "      <td>12349</td>\n",
       "      <td>2010-10-28 08:23:00</td>\n",
       "    </tr>\n",
       "    <tr>\n",
       "      <th>4</th>\n",
       "      <td>12351</td>\n",
       "      <td>2010-11-29 15:23:00</td>\n",
       "    </tr>\n",
       "  </tbody>\n",
       "</table>\n",
       "</div>"
      ],
      "text/plain": [
       "   Customer ID         Latest Date\n",
       "0        12346 2010-06-28 13:53:00\n",
       "1        12347 2010-10-31 14:20:00\n",
       "2        12348 2010-09-27 14:59:00\n",
       "3        12349 2010-10-28 08:23:00\n",
       "4        12351 2010-11-29 15:23:00"
      ]
     },
     "execution_count": 87,
     "metadata": {},
     "output_type": "execute_result"
    }
   ],
   "source": [
    "df1_recent_trans = df1.groupby('Customer ID')['InvoiceDate'].max().reset_index().rename(columns={'InvoiceDate':'Latest Date'})\n",
    "df1_recent_trans['Customer ID'] = df1_recent_trans['Customer ID'].astype(int)\n",
    "df1_recent_trans.head()"
   ]
  },
  {
   "cell_type": "code",
   "execution_count": 88,
   "id": "bb897d6e",
   "metadata": {
    "ExecuteTime": {
     "end_time": "2021-09-20T13:30:11.365206Z",
     "start_time": "2021-09-20T13:30:11.352675Z"
    }
   },
   "outputs": [
    {
     "data": {
      "text/html": [
       "<div>\n",
       "<style scoped>\n",
       "    .dataframe tbody tr th:only-of-type {\n",
       "        vertical-align: middle;\n",
       "    }\n",
       "\n",
       "    .dataframe tbody tr th {\n",
       "        vertical-align: top;\n",
       "    }\n",
       "\n",
       "    .dataframe thead th {\n",
       "        text-align: right;\n",
       "    }\n",
       "</style>\n",
       "<table border=\"1\" class=\"dataframe\">\n",
       "  <thead>\n",
       "    <tr style=\"text-align: right;\">\n",
       "      <th></th>\n",
       "      <th>Customer ID</th>\n",
       "      <th>Latest Date</th>\n",
       "      <th>Recency</th>\n",
       "    </tr>\n",
       "  </thead>\n",
       "  <tbody>\n",
       "    <tr>\n",
       "      <th>0</th>\n",
       "      <td>12346</td>\n",
       "      <td>2010-06-28 13:53:00</td>\n",
       "      <td>155</td>\n",
       "    </tr>\n",
       "    <tr>\n",
       "      <th>1</th>\n",
       "      <td>12347</td>\n",
       "      <td>2010-10-31 14:20:00</td>\n",
       "      <td>30</td>\n",
       "    </tr>\n",
       "    <tr>\n",
       "      <th>2</th>\n",
       "      <td>12348</td>\n",
       "      <td>2010-09-27 14:59:00</td>\n",
       "      <td>64</td>\n",
       "    </tr>\n",
       "    <tr>\n",
       "      <th>3</th>\n",
       "      <td>12349</td>\n",
       "      <td>2010-10-28 08:23:00</td>\n",
       "      <td>33</td>\n",
       "    </tr>\n",
       "    <tr>\n",
       "      <th>4</th>\n",
       "      <td>12351</td>\n",
       "      <td>2010-11-29 15:23:00</td>\n",
       "      <td>1</td>\n",
       "    </tr>\n",
       "  </tbody>\n",
       "</table>\n",
       "</div>"
      ],
      "text/plain": [
       "   Customer ID         Latest Date  Recency\n",
       "0        12346 2010-06-28 13:53:00      155\n",
       "1        12347 2010-10-31 14:20:00       30\n",
       "2        12348 2010-09-27 14:59:00       64\n",
       "3        12349 2010-10-28 08:23:00       33\n",
       "4        12351 2010-11-29 15:23:00        1"
      ]
     },
     "execution_count": 88,
     "metadata": {},
     "output_type": "execute_result"
    }
   ],
   "source": [
    "df1_recent_trans['Recency'] = (df1_recent_trans['Latest Date'].max() - df1_recent_trans['Latest Date']).dt.days\n",
    "df1_recent_trans.head()"
   ]
  },
  {
   "cell_type": "code",
   "execution_count": 89,
   "id": "711a6cc2",
   "metadata": {
    "ExecuteTime": {
     "end_time": "2021-09-20T13:30:19.354856Z",
     "start_time": "2021-09-20T13:30:19.339814Z"
    }
   },
   "outputs": [
    {
     "data": {
      "text/html": [
       "<div>\n",
       "<style scoped>\n",
       "    .dataframe tbody tr th:only-of-type {\n",
       "        vertical-align: middle;\n",
       "    }\n",
       "\n",
       "    .dataframe tbody tr th {\n",
       "        vertical-align: top;\n",
       "    }\n",
       "\n",
       "    .dataframe thead th {\n",
       "        text-align: right;\n",
       "    }\n",
       "</style>\n",
       "<table border=\"1\" class=\"dataframe\">\n",
       "  <thead>\n",
       "    <tr style=\"text-align: right;\">\n",
       "      <th></th>\n",
       "      <th>Customer ID</th>\n",
       "      <th>Recency</th>\n",
       "    </tr>\n",
       "  </thead>\n",
       "  <tbody>\n",
       "    <tr>\n",
       "      <th>0</th>\n",
       "      <td>13085</td>\n",
       "      <td>305</td>\n",
       "    </tr>\n",
       "    <tr>\n",
       "      <th>1</th>\n",
       "      <td>13078</td>\n",
       "      <td>0</td>\n",
       "    </tr>\n",
       "    <tr>\n",
       "      <th>2</th>\n",
       "      <td>15362</td>\n",
       "      <td>74</td>\n",
       "    </tr>\n",
       "    <tr>\n",
       "      <th>3</th>\n",
       "      <td>12682</td>\n",
       "      <td>11</td>\n",
       "    </tr>\n",
       "    <tr>\n",
       "      <th>4</th>\n",
       "      <td>18087</td>\n",
       "      <td>5</td>\n",
       "    </tr>\n",
       "  </tbody>\n",
       "</table>\n",
       "</div>"
      ],
      "text/plain": [
       "   Customer ID  Recency\n",
       "0        13085      305\n",
       "1        13078        0\n",
       "2        15362       74\n",
       "3        12682       11\n",
       "4        18087        5"
      ]
     },
     "execution_count": 89,
     "metadata": {},
     "output_type": "execute_result"
    }
   ],
   "source": [
    "df1_recency = pd.merge(left=df1_customer_unique, \n",
    "                       right=df1_recent_trans[['Customer ID', 'Recency']],\n",
    "                       on='Customer ID')\n",
    "df1_recency.head()"
   ]
  },
  {
   "cell_type": "code",
   "execution_count": 101,
   "id": "db6512ed",
   "metadata": {
    "ExecuteTime": {
     "end_time": "2021-09-20T13:38:08.960628Z",
     "start_time": "2021-09-20T13:38:08.598865Z"
    }
   },
   "outputs": [
    {
     "data": {
      "image/png": "[encoded data removed]",
      "text/plain": [
       "<Figure size 1080x432 with 1 Axes>"
      ]
     },
     "metadata": {},
     "output_type": "display_data"
    }
   ],
   "source": [
    "make_displot(df1_recency['Recency'], 'Recency')"
   ]
  },
  {
   "cell_type": "markdown",
   "id": "3cf0f9d6",
   "metadata": {},
   "source": [
    "### Frequency"
   ]
  },
  {
   "cell_type": "code",
   "execution_count": 94,
   "id": "7e562af3",
   "metadata": {
    "ExecuteTime": {
     "end_time": "2021-09-20T13:33:22.886047Z",
     "start_time": "2021-09-20T13:33:22.857434Z"
    }
   },
   "outputs": [
    {
     "data": {
      "text/html": [
       "<div>\n",
       "<style scoped>\n",
       "    .dataframe tbody tr th:only-of-type {\n",
       "        vertical-align: middle;\n",
       "    }\n",
       "\n",
       "    .dataframe tbody tr th {\n",
       "        vertical-align: top;\n",
       "    }\n",
       "\n",
       "    .dataframe thead th {\n",
       "        text-align: right;\n",
       "    }\n",
       "</style>\n",
       "<table border=\"1\" class=\"dataframe\">\n",
       "  <thead>\n",
       "    <tr style=\"text-align: right;\">\n",
       "      <th></th>\n",
       "      <th>Customer ID</th>\n",
       "      <th>Frequency</th>\n",
       "    </tr>\n",
       "  </thead>\n",
       "  <tbody>\n",
       "    <tr>\n",
       "      <th>0</th>\n",
       "      <td>12346.0</td>\n",
       "      <td>33</td>\n",
       "    </tr>\n",
       "    <tr>\n",
       "      <th>1</th>\n",
       "      <td>12347.0</td>\n",
       "      <td>39</td>\n",
       "    </tr>\n",
       "    <tr>\n",
       "      <th>2</th>\n",
       "      <td>12348.0</td>\n",
       "      <td>20</td>\n",
       "    </tr>\n",
       "    <tr>\n",
       "      <th>3</th>\n",
       "      <td>12349.0</td>\n",
       "      <td>80</td>\n",
       "    </tr>\n",
       "    <tr>\n",
       "      <th>4</th>\n",
       "      <td>12351.0</td>\n",
       "      <td>20</td>\n",
       "    </tr>\n",
       "  </tbody>\n",
       "</table>\n",
       "</div>"
      ],
      "text/plain": [
       "   Customer ID  Frequency\n",
       "0      12346.0         33\n",
       "1      12347.0         39\n",
       "2      12348.0         20\n",
       "3      12349.0         80\n",
       "4      12351.0         20"
      ]
     },
     "execution_count": 94,
     "metadata": {},
     "output_type": "execute_result"
    }
   ],
   "source": [
    "df1_freq = df1.groupby('Customer ID')['InvoiceDate'].count().reset_index().rename(columns={'InvoiceDate':'Frequency'})\n",
    "df1_freq.head()"
   ]
  },
  {
   "cell_type": "code",
   "execution_count": 95,
   "id": "7baeacb4",
   "metadata": {
    "ExecuteTime": {
     "end_time": "2021-09-20T13:35:16.747157Z",
     "start_time": "2021-09-20T13:35:16.681874Z"
    }
   },
   "outputs": [
    {
     "data": {
      "text/html": [
       "<div>\n",
       "<style scoped>\n",
       "    .dataframe tbody tr th:only-of-type {\n",
       "        vertical-align: middle;\n",
       "    }\n",
       "\n",
       "    .dataframe tbody tr th {\n",
       "        vertical-align: top;\n",
       "    }\n",
       "\n",
       "    .dataframe thead th {\n",
       "        text-align: right;\n",
       "    }\n",
       "</style>\n",
       "<table border=\"1\" class=\"dataframe\">\n",
       "  <thead>\n",
       "    <tr style=\"text-align: right;\">\n",
       "      <th></th>\n",
       "      <th>Customer ID</th>\n",
       "      <th>Recency</th>\n",
       "      <th>Frequency</th>\n",
       "    </tr>\n",
       "  </thead>\n",
       "  <tbody>\n",
       "    <tr>\n",
       "      <th>0</th>\n",
       "      <td>13085</td>\n",
       "      <td>305</td>\n",
       "      <td>61</td>\n",
       "    </tr>\n",
       "    <tr>\n",
       "      <th>1</th>\n",
       "      <td>13078</td>\n",
       "      <td>0</td>\n",
       "      <td>347</td>\n",
       "    </tr>\n",
       "    <tr>\n",
       "      <th>2</th>\n",
       "      <td>15362</td>\n",
       "      <td>74</td>\n",
       "      <td>31</td>\n",
       "    </tr>\n",
       "    <tr>\n",
       "      <th>3</th>\n",
       "      <td>12682</td>\n",
       "      <td>11</td>\n",
       "      <td>400</td>\n",
       "    </tr>\n",
       "    <tr>\n",
       "      <th>4</th>\n",
       "      <td>18087</td>\n",
       "      <td>5</td>\n",
       "      <td>50</td>\n",
       "    </tr>\n",
       "  </tbody>\n",
       "</table>\n",
       "</div>"
      ],
      "text/plain": [
       "   Customer ID  Recency  Frequency\n",
       "0        13085      305         61\n",
       "1        13078        0        347\n",
       "2        15362       74         31\n",
       "3        12682       11        400\n",
       "4        18087        5         50"
      ]
     },
     "execution_count": 95,
     "metadata": {},
     "output_type": "execute_result"
    }
   ],
   "source": [
    "df1_rf = pd.merge(left=df1_recency,\n",
    "                  right=df1_freq,\n",
    "                  on='Customer ID')\n",
    "df1_rf.head()"
   ]
  },
  {
   "cell_type": "code",
   "execution_count": 102,
   "id": "d4d6367b",
   "metadata": {
    "ExecuteTime": {
     "end_time": "2021-09-20T13:38:16.262535Z",
     "start_time": "2021-09-20T13:38:15.913556Z"
    }
   },
   "outputs": [
    {
     "data": {
      "image/png": "[encoded data removed]",
      "text/plain": [
       "<Figure size 1080x432 with 1 Axes>"
      ]
     },
     "metadata": {},
     "output_type": "display_data"
    }
   ],
   "source": [
    "make_displot(df1_rf['Frequency'], 'Frequency')"
   ]
  },
  {
   "cell_type": "markdown",
   "id": "a23e7d09",
   "metadata": {},
   "source": [
    "### Monetary"
   ]
  },
  {
   "cell_type": "code",
   "execution_count": 106,
   "id": "d83e7633",
   "metadata": {
    "ExecuteTime": {
     "end_time": "2021-09-20T13:40:14.362407Z",
     "start_time": "2021-09-20T13:40:14.333332Z"
    }
   },
   "outputs": [
    {
     "data": {
      "text/html": [
       "<div>\n",
       "<style scoped>\n",
       "    .dataframe tbody tr th:only-of-type {\n",
       "        vertical-align: middle;\n",
       "    }\n",
       "\n",
       "    .dataframe tbody tr th {\n",
       "        vertical-align: top;\n",
       "    }\n",
       "\n",
       "    .dataframe thead th {\n",
       "        text-align: right;\n",
       "    }\n",
       "</style>\n",
       "<table border=\"1\" class=\"dataframe\">\n",
       "  <thead>\n",
       "    <tr style=\"text-align: right;\">\n",
       "      <th></th>\n",
       "      <th>Customer ID</th>\n",
       "      <th>Monetary</th>\n",
       "    </tr>\n",
       "  </thead>\n",
       "  <tbody>\n",
       "    <tr>\n",
       "      <th>0</th>\n",
       "      <td>12346.0</td>\n",
       "      <td>372.86</td>\n",
       "    </tr>\n",
       "    <tr>\n",
       "      <th>1</th>\n",
       "      <td>12347.0</td>\n",
       "      <td>573.28</td>\n",
       "    </tr>\n",
       "    <tr>\n",
       "      <th>2</th>\n",
       "      <td>12348.0</td>\n",
       "      <td>222.16</td>\n",
       "    </tr>\n",
       "    <tr>\n",
       "      <th>3</th>\n",
       "      <td>12349.0</td>\n",
       "      <td>1635.89</td>\n",
       "    </tr>\n",
       "    <tr>\n",
       "      <th>4</th>\n",
       "      <td>12351.0</td>\n",
       "      <td>288.18</td>\n",
       "    </tr>\n",
       "  </tbody>\n",
       "</table>\n",
       "</div>"
      ],
      "text/plain": [
       "   Customer ID  Monetary\n",
       "0      12346.0    372.86\n",
       "1      12347.0    573.28\n",
       "2      12348.0    222.16\n",
       "3      12349.0   1635.89\n",
       "4      12351.0    288.18"
      ]
     },
     "execution_count": 106,
     "metadata": {},
     "output_type": "execute_result"
    }
   ],
   "source": [
    "df1_monetary = df1.groupby('Customer ID')['Spend'].sum().reset_index().rename(columns={'Spend':'Monetary'})\n",
    "df1_monetary.head()"
   ]
  },
  {
   "cell_type": "code",
   "execution_count": 107,
   "id": "40dc9eb5",
   "metadata": {
    "ExecuteTime": {
     "end_time": "2021-09-20T13:40:54.532970Z",
     "start_time": "2021-09-20T13:40:54.517431Z"
    }
   },
   "outputs": [
    {
     "data": {
      "text/html": [
       "<div>\n",
       "<style scoped>\n",
       "    .dataframe tbody tr th:only-of-type {\n",
       "        vertical-align: middle;\n",
       "    }\n",
       "\n",
       "    .dataframe tbody tr th {\n",
       "        vertical-align: top;\n",
       "    }\n",
       "\n",
       "    .dataframe thead th {\n",
       "        text-align: right;\n",
       "    }\n",
       "</style>\n",
       "<table border=\"1\" class=\"dataframe\">\n",
       "  <thead>\n",
       "    <tr style=\"text-align: right;\">\n",
       "      <th></th>\n",
       "      <th>Customer ID</th>\n",
       "      <th>Recency</th>\n",
       "      <th>Frequency</th>\n",
       "      <th>Monetary</th>\n",
       "    </tr>\n",
       "  </thead>\n",
       "  <tbody>\n",
       "    <tr>\n",
       "      <th>0</th>\n",
       "      <td>13085</td>\n",
       "      <td>305</td>\n",
       "      <td>61</td>\n",
       "      <td>1916.40</td>\n",
       "    </tr>\n",
       "    <tr>\n",
       "      <th>1</th>\n",
       "      <td>13078</td>\n",
       "      <td>0</td>\n",
       "      <td>347</td>\n",
       "      <td>11466.64</td>\n",
       "    </tr>\n",
       "    <tr>\n",
       "      <th>2</th>\n",
       "      <td>15362</td>\n",
       "      <td>74</td>\n",
       "      <td>31</td>\n",
       "      <td>444.81</td>\n",
       "    </tr>\n",
       "    <tr>\n",
       "      <th>3</th>\n",
       "      <td>12682</td>\n",
       "      <td>11</td>\n",
       "      <td>400</td>\n",
       "      <td>7977.27</td>\n",
       "    </tr>\n",
       "    <tr>\n",
       "      <th>4</th>\n",
       "      <td>18087</td>\n",
       "      <td>5</td>\n",
       "      <td>50</td>\n",
       "      <td>1675.26</td>\n",
       "    </tr>\n",
       "  </tbody>\n",
       "</table>\n",
       "</div>"
      ],
      "text/plain": [
       "   Customer ID  Recency  Frequency  Monetary\n",
       "0        13085      305         61   1916.40\n",
       "1        13078        0        347  11466.64\n",
       "2        15362       74         31    444.81\n",
       "3        12682       11        400   7977.27\n",
       "4        18087        5         50   1675.26"
      ]
     },
     "execution_count": 107,
     "metadata": {},
     "output_type": "execute_result"
    }
   ],
   "source": [
    "df1_rfm = pd.merge(left=df1_rf,\n",
    "                   right=df1_monetary,\n",
    "                   on='Customer ID')\n",
    "df1_rfm.head()"
   ]
  },
  {
   "cell_type": "code",
   "execution_count": 108,
   "id": "132da818",
   "metadata": {
    "ExecuteTime": {
     "end_time": "2021-09-20T13:41:21.129297Z",
     "start_time": "2021-09-20T13:41:20.821016Z"
    }
   },
   "outputs": [
    {
     "data": {
      "image/png": "[encoded data removed]",
      "text/plain": [
       "<Figure size 1080x432 with 1 Axes>"
      ]
     },
     "metadata": {},
     "output_type": "display_data"
    }
   ],
   "source": [
    "make_displot(df1_rfm['Monetary'], 'Monetary')"
   ]
  },
  {
   "cell_type": "markdown",
   "id": "7c06ed55",
   "metadata": {},
   "source": [
    "## Building Model RFM"
   ]
  },
  {
   "cell_type": "markdown",
   "id": "01ddd544",
   "metadata": {},
   "source": [
    "### Calculate Weight RFM"
   ]
  },
  {
   "cell_type": "code",
   "execution_count": 109,
   "id": "f7d10d6d",
   "metadata": {
    "ExecuteTime": {
     "end_time": "2021-09-20T13:48:31.167548Z",
     "start_time": "2021-09-20T13:48:31.071828Z"
    }
   },
   "outputs": [
    {
     "data": {
      "text/html": [
       "<div>\n",
       "<style scoped>\n",
       "    .dataframe tbody tr th:only-of-type {\n",
       "        vertical-align: middle;\n",
       "    }\n",
       "\n",
       "    .dataframe tbody tr th {\n",
       "        vertical-align: top;\n",
       "    }\n",
       "\n",
       "    .dataframe thead th {\n",
       "        text-align: right;\n",
       "    }\n",
       "</style>\n",
       "<table border=\"1\" class=\"dataframe\">\n",
       "  <thead>\n",
       "    <tr style=\"text-align: right;\">\n",
       "      <th></th>\n",
       "      <th>Customer ID</th>\n",
       "      <th>Recency</th>\n",
       "      <th>Frequency</th>\n",
       "      <th>Monetary</th>\n",
       "    </tr>\n",
       "  </thead>\n",
       "  <tbody>\n",
       "    <tr>\n",
       "      <th>count</th>\n",
       "      <td>4096.000000</td>\n",
       "      <td>4096.000000</td>\n",
       "      <td>4096.000000</td>\n",
       "      <td>4096.000000</td>\n",
       "    </tr>\n",
       "    <tr>\n",
       "      <th>mean</th>\n",
       "      <td>15360.140137</td>\n",
       "      <td>87.174805</td>\n",
       "      <td>80.600342</td>\n",
       "      <td>1056.892762</td>\n",
       "    </tr>\n",
       "    <tr>\n",
       "      <th>std</th>\n",
       "      <td>1694.213775</td>\n",
       "      <td>95.081551</td>\n",
       "      <td>169.459371</td>\n",
       "      <td>2314.858825</td>\n",
       "    </tr>\n",
       "    <tr>\n",
       "      <th>min</th>\n",
       "      <td>12346.000000</td>\n",
       "      <td>0.000000</td>\n",
       "      <td>1.000000</td>\n",
       "      <td>0.950000</td>\n",
       "    </tr>\n",
       "    <tr>\n",
       "      <th>25%</th>\n",
       "      <td>13897.750000</td>\n",
       "      <td>15.000000</td>\n",
       "      <td>16.000000</td>\n",
       "      <td>219.952500</td>\n",
       "    </tr>\n",
       "    <tr>\n",
       "      <th>50%</th>\n",
       "      <td>15365.500000</td>\n",
       "      <td>47.000000</td>\n",
       "      <td>38.000000</td>\n",
       "      <td>489.550000</td>\n",
       "    </tr>\n",
       "    <tr>\n",
       "      <th>75%</th>\n",
       "      <td>16840.250000</td>\n",
       "      <td>135.000000</td>\n",
       "      <td>87.000000</td>\n",
       "      <td>1183.540000</td>\n",
       "    </tr>\n",
       "    <tr>\n",
       "      <th>max</th>\n",
       "      <td>18287.000000</td>\n",
       "      <td>364.000000</td>\n",
       "      <td>4425.000000</td>\n",
       "      <td>89915.720000</td>\n",
       "    </tr>\n",
       "  </tbody>\n",
       "</table>\n",
       "</div>"
      ],
      "text/plain": [
       "        Customer ID      Recency    Frequency      Monetary\n",
       "count   4096.000000  4096.000000  4096.000000   4096.000000\n",
       "mean   15360.140137    87.174805    80.600342   1056.892762\n",
       "std     1694.213775    95.081551   169.459371   2314.858825\n",
       "min    12346.000000     0.000000     1.000000      0.950000\n",
       "25%    13897.750000    15.000000    16.000000    219.952500\n",
       "50%    15365.500000    47.000000    38.000000    489.550000\n",
       "75%    16840.250000   135.000000    87.000000   1183.540000\n",
       "max    18287.000000   364.000000  4425.000000  89915.720000"
      ]
     },
     "execution_count": 109,
     "metadata": {},
     "output_type": "execute_result"
    }
   ],
   "source": [
    "df1_rfm.describe()"
   ]
  },
  {
   "cell_type": "code",
   "execution_count": null,
   "id": "d898205b",
   "metadata": {},
   "outputs": [],
   "source": []
  },
  {
   "cell_type": "code",
   "execution_count": null,
   "id": "ee4cf653",
   "metadata": {},
   "outputs": [],
   "source": []
  },
  {
   "cell_type": "code",
   "execution_count": null,
   "id": "3a8c7697",
   "metadata": {},
   "outputs": [],
   "source": []
  },
  {
   "cell_type": "markdown",
   "id": "3f6010c6",
   "metadata": {},
   "source": [
    "## Customer Segmentation on Data Des 2010 - Nov 2011"
   ]
  },
  {
   "cell_type": "code",
   "execution_count": null,
   "id": "bf087b7a",
   "metadata": {},
   "outputs": [],
   "source": []
  }
 ],
 "metadata": {
  "kernelspec": {
   "display_name": "MachineLearning",
   "language": "python",
   "name": "machinelearning"
  },
  "language_info": {
   "codemirror_mode": {
    "name": "ipython",
    "version": 3
   },
   "file_extension": ".py",
   "mimetype": "text/x-python",
   "name": "python",
   "nbconvert_exporter": "python",
   "pygments_lexer": "ipython3",
   "version": "3.8.11"
  },
  "toc": {
   "base_numbering": 1,
   "nav_menu": {},
   "number_sections": false,
   "sideBar": true,
   "skip_h1_title": false,
   "title_cell": "Table of Contents",
   "title_sidebar": "Contents",
   "toc_cell": false,
   "toc_position": {},
   "toc_section_display": true,
   "toc_window_display": false
  },
  "varInspector": {
   "cols": {
    "lenName": 16,
    "lenType": 16,
    "lenVar": 40
   },
   "kernels_config": {
    "python": {
     "delete_cmd_postfix": "",
     "delete_cmd_prefix": "del ",
     "library": "var_list.py",
     "varRefreshCmd": "print(var_dic_list())"
    },
    "r": {
     "delete_cmd_postfix": ") ",
     "delete_cmd_prefix": "rm(",
     "library": "var_list.r",
     "varRefreshCmd": "cat(var_dic_list()) "
    }
   },
   "types_to_exclude": [
    "module",
    "function",
    "builtin_function_or_method",
    "instance",
    "_Feature"
   ],
   "window_display": false
  }
 },
 "nbformat": 4,
 "nbformat_minor": 5
}
